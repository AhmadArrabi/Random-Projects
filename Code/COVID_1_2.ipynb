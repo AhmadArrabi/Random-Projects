{
 "cells": [
  {
   "cell_type": "markdown",
   "metadata": {},
   "source": [
    "# ML Project: COVID-19 Spreading Speed Prediction.\n",
    "Fall Semester 2020/2021"
   ]
  },
  {
   "cell_type": "markdown",
   "metadata": {},
   "source": [
    "## Author: Ahmad Arrabi                                                                                                              \n",
    "ID: 20170534"
   ]
  },
  {
   "cell_type": "code",
   "execution_count": 523,
   "metadata": {},
   "outputs": [],
   "source": [
    "import pandas as pd\n",
    "import matplotlib.pyplot as plt\n",
    "import numpy as np\n",
    "import seaborn as sns"
   ]
  },
  {
   "cell_type": "markdown",
   "metadata": {},
   "source": [
    "## Preprocessing and Data Cleaning"
   ]
  },
  {
   "cell_type": "markdown",
   "metadata": {},
   "source": [
    "Load the dataset that was created previously"
   ]
  },
  {
   "cell_type": "code",
   "execution_count": 592,
   "metadata": {},
   "outputs": [
    {
     "data": {
      "text/html": [
       "<div>\n",
       "<style scoped>\n",
       "    .dataframe tbody tr th:only-of-type {\n",
       "        vertical-align: middle;\n",
       "    }\n",
       "\n",
       "    .dataframe tbody tr th {\n",
       "        vertical-align: top;\n",
       "    }\n",
       "\n",
       "    .dataframe thead th {\n",
       "        text-align: right;\n",
       "    }\n",
       "</style>\n",
       "<table border=\"1\" class=\"dataframe\">\n",
       "  <thead>\n",
       "    <tr style=\"text-align: right;\">\n",
       "      <th></th>\n",
       "      <th>Country</th>\n",
       "      <th>Population</th>\n",
       "      <th>Density</th>\n",
       "      <th>Date to reach 1%</th>\n",
       "      <th>total_cases</th>\n",
       "      <th>total_tests</th>\n",
       "      <th>tests_per_case</th>\n",
       "      <th>extreme_poverty</th>\n",
       "      <th>human_development_index</th>\n",
       "      <th>hospital_beds_per_thousand</th>\n",
       "      <th>...</th>\n",
       "      <th>Climate</th>\n",
       "      <th>Tourism</th>\n",
       "      <th>Date_FirstConfirmedCase</th>\n",
       "      <th>Latitude</th>\n",
       "      <th>Longtitude</th>\n",
       "      <th>Lockdown_Date</th>\n",
       "      <th>Lockdown_Type</th>\n",
       "      <th>GDP 2018</th>\n",
       "      <th>HF score 2017</th>\n",
       "      <th>literacy rate</th>\n",
       "    </tr>\n",
       "  </thead>\n",
       "  <tbody>\n",
       "    <tr>\n",
       "      <th>0</th>\n",
       "      <td>Albania</td>\n",
       "      <td>2877239</td>\n",
       "      <td>105</td>\n",
       "      <td>2021-12-05</td>\n",
       "      <td>201730.0</td>\n",
       "      <td>1350345.0</td>\n",
       "      <td>1.0</td>\n",
       "      <td>1.1</td>\n",
       "      <td>0.795</td>\n",
       "      <td>2.89</td>\n",
       "      <td>...</td>\n",
       "      <td>3.0</td>\n",
       "      <td>5340000.0</td>\n",
       "      <td>2020-03-10</td>\n",
       "      <td>41.153332</td>\n",
       "      <td>20.168331</td>\n",
       "      <td>2020-03-08</td>\n",
       "      <td>Full</td>\n",
       "      <td>13364.155400</td>\n",
       "      <td>7.84</td>\n",
       "      <td>97.6</td>\n",
       "    </tr>\n",
       "    <tr>\n",
       "      <th>1</th>\n",
       "      <td>Andorra</td>\n",
       "      <td>77287</td>\n",
       "      <td>164</td>\n",
       "      <td>2020-11-09</td>\n",
       "      <td>5437.0</td>\n",
       "      <td>92242.0</td>\n",
       "      <td>1.1</td>\n",
       "      <td>NaN</td>\n",
       "      <td>0.868</td>\n",
       "      <td>NaN</td>\n",
       "      <td>...</td>\n",
       "      <td>3.0</td>\n",
       "      <td>3042000.0</td>\n",
       "      <td>2020-03-03</td>\n",
       "      <td>42.546245</td>\n",
       "      <td>1.601554</td>\n",
       "      <td>2020-03-16</td>\n",
       "      <td>Full</td>\n",
       "      <td>NaN</td>\n",
       "      <td>NaN</td>\n",
       "      <td>NaN</td>\n",
       "    </tr>\n",
       "    <tr>\n",
       "      <th>2</th>\n",
       "      <td>Anguilla</td>\n",
       "      <td>15026</td>\n",
       "      <td>167</td>\n",
       "      <td>2021-11-10</td>\n",
       "      <td>1077.0</td>\n",
       "      <td>NaN</td>\n",
       "      <td>NaN</td>\n",
       "      <td>NaN</td>\n",
       "      <td>NaN</td>\n",
       "      <td>NaN</td>\n",
       "      <td>...</td>\n",
       "      <td>2.0</td>\n",
       "      <td>NaN</td>\n",
       "      <td>NaN</td>\n",
       "      <td>NaN</td>\n",
       "      <td>NaN</td>\n",
       "      <td>NaN</td>\n",
       "      <td>NaN</td>\n",
       "      <td>NaN</td>\n",
       "      <td>NaN</td>\n",
       "      <td>NaN</td>\n",
       "    </tr>\n",
       "    <tr>\n",
       "      <th>3</th>\n",
       "      <td>Antigua and Barbuda</td>\n",
       "      <td>98069</td>\n",
       "      <td>223</td>\n",
       "      <td>2022-02-10</td>\n",
       "      <td>7321.0</td>\n",
       "      <td>NaN</td>\n",
       "      <td>NaN</td>\n",
       "      <td>NaN</td>\n",
       "      <td>0.778</td>\n",
       "      <td>3.80</td>\n",
       "      <td>...</td>\n",
       "      <td>NaN</td>\n",
       "      <td>269000.0</td>\n",
       "      <td>2020-03-14</td>\n",
       "      <td>17.060816</td>\n",
       "      <td>-61.796428</td>\n",
       "      <td>NaN</td>\n",
       "      <td>NaN</td>\n",
       "      <td>26868.133520</td>\n",
       "      <td>NaN</td>\n",
       "      <td>NaN</td>\n",
       "    </tr>\n",
       "    <tr>\n",
       "      <th>4</th>\n",
       "      <td>Argentina</td>\n",
       "      <td>45267449</td>\n",
       "      <td>17</td>\n",
       "      <td>2021-05-11</td>\n",
       "      <td>3191097.0</td>\n",
       "      <td>12591905.0</td>\n",
       "      <td>1.5</td>\n",
       "      <td>0.6</td>\n",
       "      <td>0.845</td>\n",
       "      <td>5.00</td>\n",
       "      <td>...</td>\n",
       "      <td>3.0</td>\n",
       "      <td>6942000.0</td>\n",
       "      <td>2020-03-04</td>\n",
       "      <td>-38.416097</td>\n",
       "      <td>-63.616672</td>\n",
       "      <td>2020-03-20</td>\n",
       "      <td>Full</td>\n",
       "      <td>20610.568550</td>\n",
       "      <td>6.86</td>\n",
       "      <td>98.1</td>\n",
       "    </tr>\n",
       "    <tr>\n",
       "      <th>...</th>\n",
       "      <td>...</td>\n",
       "      <td>...</td>\n",
       "      <td>...</td>\n",
       "      <td>...</td>\n",
       "      <td>...</td>\n",
       "      <td>...</td>\n",
       "      <td>...</td>\n",
       "      <td>...</td>\n",
       "      <td>...</td>\n",
       "      <td>...</td>\n",
       "      <td>...</td>\n",
       "      <td>...</td>\n",
       "      <td>...</td>\n",
       "      <td>...</td>\n",
       "      <td>...</td>\n",
       "      <td>...</td>\n",
       "      <td>...</td>\n",
       "      <td>...</td>\n",
       "      <td>...</td>\n",
       "      <td>...</td>\n",
       "      <td>...</td>\n",
       "    </tr>\n",
       "    <tr>\n",
       "      <th>111</th>\n",
       "      <td>United Arab Emirates</td>\n",
       "      <td>9910892</td>\n",
       "      <td>118</td>\n",
       "      <td>2021-08-09</td>\n",
       "      <td>694285.0</td>\n",
       "      <td>68126361.0</td>\n",
       "      <td>123.1</td>\n",
       "      <td>NaN</td>\n",
       "      <td>0.890</td>\n",
       "      <td>1.20</td>\n",
       "      <td>...</td>\n",
       "      <td>1.0</td>\n",
       "      <td>21286000.0</td>\n",
       "      <td>2020-01-30</td>\n",
       "      <td>23.424076</td>\n",
       "      <td>53.847818</td>\n",
       "      <td>2020-03-24</td>\n",
       "      <td>Full</td>\n",
       "      <td>75075.257410</td>\n",
       "      <td>6.13</td>\n",
       "      <td>93.8</td>\n",
       "    </tr>\n",
       "    <tr>\n",
       "      <th>112</th>\n",
       "      <td>United Kingdom</td>\n",
       "      <td>67948282</td>\n",
       "      <td>281</td>\n",
       "      <td>2021-06-28</td>\n",
       "      <td>4759351.0</td>\n",
       "      <td>200440655.0</td>\n",
       "      <td>8.4</td>\n",
       "      <td>0.2</td>\n",
       "      <td>0.932</td>\n",
       "      <td>2.54</td>\n",
       "      <td>...</td>\n",
       "      <td>3.0</td>\n",
       "      <td>36316000.0</td>\n",
       "      <td>2020-02-01</td>\n",
       "      <td>55.378051</td>\n",
       "      <td>-3.435973</td>\n",
       "      <td>2020-03-23</td>\n",
       "      <td>Full</td>\n",
       "      <td>45973.573500</td>\n",
       "      <td>8.47</td>\n",
       "      <td>NaN</td>\n",
       "    </tr>\n",
       "    <tr>\n",
       "      <th>113</th>\n",
       "      <td>United States</td>\n",
       "      <td>331341050</td>\n",
       "      <td>36</td>\n",
       "      <td>2021-01-13</td>\n",
       "      <td>23244991.0</td>\n",
       "      <td>280044352.0</td>\n",
       "      <td>3.4</td>\n",
       "      <td>1.2</td>\n",
       "      <td>0.926</td>\n",
       "      <td>2.77</td>\n",
       "      <td>...</td>\n",
       "      <td>3.0</td>\n",
       "      <td>79745920.0</td>\n",
       "      <td>2020-03-10</td>\n",
       "      <td>37.090240</td>\n",
       "      <td>-95.712891</td>\n",
       "      <td>2020-03-23</td>\n",
       "      <td>Partial</td>\n",
       "      <td>62794.585650</td>\n",
       "      <td>8.46</td>\n",
       "      <td>NaN</td>\n",
       "    </tr>\n",
       "    <tr>\n",
       "      <th>114</th>\n",
       "      <td>Uruguay</td>\n",
       "      <td>3475842</td>\n",
       "      <td>20</td>\n",
       "      <td>2021-05-18</td>\n",
       "      <td>246026.0</td>\n",
       "      <td>2026249.0</td>\n",
       "      <td>2.4</td>\n",
       "      <td>0.1</td>\n",
       "      <td>0.817</td>\n",
       "      <td>2.80</td>\n",
       "      <td>...</td>\n",
       "      <td>3.0</td>\n",
       "      <td>3469000.0</td>\n",
       "      <td>2020-03-15</td>\n",
       "      <td>-32.522779</td>\n",
       "      <td>-55.765835</td>\n",
       "      <td>2020-03-16</td>\n",
       "      <td>Full</td>\n",
       "      <td>23572.177460</td>\n",
       "      <td>7.74</td>\n",
       "      <td>98.4</td>\n",
       "    </tr>\n",
       "    <tr>\n",
       "      <th>115</th>\n",
       "      <td>Vietnam</td>\n",
       "      <td>97490013</td>\n",
       "      <td>314</td>\n",
       "      <td>2022-03-17</td>\n",
       "      <td>7174423.0</td>\n",
       "      <td>82412626.0</td>\n",
       "      <td>1.0</td>\n",
       "      <td>2.0</td>\n",
       "      <td>0.704</td>\n",
       "      <td>2.60</td>\n",
       "      <td>...</td>\n",
       "      <td>2.0</td>\n",
       "      <td>15498000.0</td>\n",
       "      <td>2020-01-24</td>\n",
       "      <td>14.058324</td>\n",
       "      <td>108.277199</td>\n",
       "      <td>2020-03-19</td>\n",
       "      <td>Full</td>\n",
       "      <td>7447.814334</td>\n",
       "      <td>6.29</td>\n",
       "      <td>94.5</td>\n",
       "    </tr>\n",
       "  </tbody>\n",
       "</table>\n",
       "<p>116 rows × 26 columns</p>\n",
       "</div>"
      ],
      "text/plain": [
       "                  Country  Population  Density Date to reach 1%  total_cases  \\\n",
       "0                 Albania     2877239      105       2021-12-05     201730.0   \n",
       "1                 Andorra       77287      164       2020-11-09       5437.0   \n",
       "2                Anguilla       15026      167       2021-11-10       1077.0   \n",
       "3     Antigua and Barbuda       98069      223       2022-02-10       7321.0   \n",
       "4               Argentina    45267449       17       2021-05-11    3191097.0   \n",
       "..                    ...         ...      ...              ...          ...   \n",
       "111  United Arab Emirates     9910892      118       2021-08-09     694285.0   \n",
       "112        United Kingdom    67948282      281       2021-06-28    4759351.0   \n",
       "113         United States   331341050       36       2021-01-13   23244991.0   \n",
       "114               Uruguay     3475842       20       2021-05-18     246026.0   \n",
       "115               Vietnam    97490013      314       2022-03-17    7174423.0   \n",
       "\n",
       "     total_tests  tests_per_case  extreme_poverty  human_development_index  \\\n",
       "0      1350345.0             1.0              1.1                    0.795   \n",
       "1        92242.0             1.1              NaN                    0.868   \n",
       "2            NaN             NaN              NaN                      NaN   \n",
       "3            NaN             NaN              NaN                    0.778   \n",
       "4     12591905.0             1.5              0.6                    0.845   \n",
       "..           ...             ...              ...                      ...   \n",
       "111   68126361.0           123.1              NaN                    0.890   \n",
       "112  200440655.0             8.4              0.2                    0.932   \n",
       "113  280044352.0             3.4              1.2                    0.926   \n",
       "114    2026249.0             2.4              0.1                    0.817   \n",
       "115   82412626.0             1.0              2.0                    0.704   \n",
       "\n",
       "     hospital_beds_per_thousand  ...  Climate     Tourism  \\\n",
       "0                          2.89  ...      3.0   5340000.0   \n",
       "1                           NaN  ...      3.0   3042000.0   \n",
       "2                           NaN  ...      2.0         NaN   \n",
       "3                          3.80  ...      NaN    269000.0   \n",
       "4                          5.00  ...      3.0   6942000.0   \n",
       "..                          ...  ...      ...         ...   \n",
       "111                        1.20  ...      1.0  21286000.0   \n",
       "112                        2.54  ...      3.0  36316000.0   \n",
       "113                        2.77  ...      3.0  79745920.0   \n",
       "114                        2.80  ...      3.0   3469000.0   \n",
       "115                        2.60  ...      2.0  15498000.0   \n",
       "\n",
       "     Date_FirstConfirmedCase   Latitude  Longtitude  Lockdown_Date  \\\n",
       "0                 2020-03-10  41.153332   20.168331     2020-03-08   \n",
       "1                 2020-03-03  42.546245    1.601554     2020-03-16   \n",
       "2                        NaN        NaN         NaN            NaN   \n",
       "3                 2020-03-14  17.060816  -61.796428            NaN   \n",
       "4                 2020-03-04 -38.416097  -63.616672     2020-03-20   \n",
       "..                       ...        ...         ...            ...   \n",
       "111               2020-01-30  23.424076   53.847818     2020-03-24   \n",
       "112               2020-02-01  55.378051   -3.435973     2020-03-23   \n",
       "113               2020-03-10  37.090240  -95.712891     2020-03-23   \n",
       "114               2020-03-15 -32.522779  -55.765835     2020-03-16   \n",
       "115               2020-01-24  14.058324  108.277199     2020-03-19   \n",
       "\n",
       "     Lockdown_Type      GDP 2018 HF score 2017  literacy rate  \n",
       "0             Full  13364.155400          7.84           97.6  \n",
       "1             Full           NaN           NaN            NaN  \n",
       "2              NaN           NaN           NaN            NaN  \n",
       "3              NaN  26868.133520           NaN            NaN  \n",
       "4             Full  20610.568550          6.86           98.1  \n",
       "..             ...           ...           ...            ...  \n",
       "111           Full  75075.257410          6.13           93.8  \n",
       "112           Full  45973.573500          8.47            NaN  \n",
       "113        Partial  62794.585650          8.46            NaN  \n",
       "114           Full  23572.177460          7.74           98.4  \n",
       "115           Full   7447.814334          6.29           94.5  \n",
       "\n",
       "[116 rows x 26 columns]"
      ]
     },
     "execution_count": 592,
     "metadata": {},
     "output_type": "execute_result"
    }
   ],
   "source": [
    "countries_data=pd.read_csv('7%_try.csv') #2%\n",
    "countries_data.drop('index',axis='columns', inplace=True)\n",
    "countries_data"
   ]
  },
  {
   "cell_type": "code",
   "execution_count": 593,
   "metadata": {},
   "outputs": [],
   "source": [
    "countries_data = countries_data.drop('mortality_rate',axis='columns')"
   ]
  },
  {
   "cell_type": "code",
   "execution_count": 594,
   "metadata": {},
   "outputs": [
    {
     "name": "stdout",
     "output_type": "stream",
     "text": [
      "<class 'pandas.core.frame.DataFrame'>\n",
      "RangeIndex: 116 entries, 0 to 115\n",
      "Data columns (total 25 columns):\n",
      " #   Column                      Non-Null Count  Dtype  \n",
      "---  ------                      --------------  -----  \n",
      " 0   Country                     116 non-null    object \n",
      " 1   Population                  116 non-null    int64  \n",
      " 2   Density                     116 non-null    int64  \n",
      " 3   Date to reach 1%            116 non-null    object \n",
      " 4   total_cases                 116 non-null    float64\n",
      " 5   total_tests                 93 non-null     float64\n",
      " 6   tests_per_case              88 non-null     float64\n",
      " 7   extreme_poverty             59 non-null     float64\n",
      " 8   human_development_index     100 non-null    float64\n",
      " 9   hospital_beds_per_thousand  97 non-null     float64\n",
      " 10  handwashing_facilities      23 non-null     float64\n",
      " 11  continent                   116 non-null    object \n",
      " 12  reproduction_rate           102 non-null    float64\n",
      " 13  total_deaths                115 non-null    float64\n",
      " 14  positive_rate               88 non-null     float64\n",
      " 15  Climate                     105 non-null    float64\n",
      " 16  Tourism                     97 non-null     float64\n",
      " 17  Date_FirstConfirmedCase     97 non-null     object \n",
      " 18  Latitude                    97 non-null     float64\n",
      " 19  Longtitude                  97 non-null     float64\n",
      " 20  Lockdown_Date               91 non-null     object \n",
      " 21  Lockdown_Type               91 non-null     object \n",
      " 22  GDP 2018                    93 non-null     float64\n",
      " 23  HF score 2017               86 non-null     float64\n",
      " 24  literacy rate               66 non-null     float64\n",
      "dtypes: float64(17), int64(2), object(6)\n",
      "memory usage: 22.8+ KB\n"
     ]
    }
   ],
   "source": [
    "countries_data.info()"
   ]
  },
  {
   "cell_type": "markdown",
   "metadata": {},
   "source": [
    "### Preparing Data for ML Model"
   ]
  },
  {
   "cell_type": "markdown",
   "metadata": {},
   "source": [
    "Notice that the feature 'Date' is considered an object so change it to datetime data type. \n",
    "\n",
    "Change population and density to float as they are considered integers."
   ]
  },
  {
   "cell_type": "code",
   "execution_count": 595,
   "metadata": {},
   "outputs": [],
   "source": [
    "countries_data['Date to reach 1%']=countries_data['Date to reach 1%'].apply(pd.to_datetime)\n",
    "countries_data['Date_FirstConfirmedCase']=countries_data['Date_FirstConfirmedCase'].apply(pd.to_datetime)\n",
    "countries_data['Lockdown_Date']=countries_data['Lockdown_Date'].apply(pd.to_datetime)\n",
    "countries_data['Population']=countries_data['Population'].astype(float)\n",
    "countries_data['Density']=countries_data['Density'].astype(float)"
   ]
  },
  {
   "cell_type": "markdown",
   "metadata": {},
   "source": [
    "Calculate both time for spread and time for lockdown:\n",
    "    $$T_{spread} = Date_{covid\\ cases\\ reach\\  1\\%\\ population} -Date_{first\\ covid \\ case}$$\n",
    "    $$T_{lockdown} = Date_{lockdown} -Date_{first\\ covid \\ case}$$\n",
    " Then, change the data type to datetime"
   ]
  },
  {
   "cell_type": "code",
   "execution_count": 596,
   "metadata": {},
   "outputs": [],
   "source": [
    "countries_data['time for spread']= countries_data['Date to reach 1%']-countries_data['Date_FirstConfirmedCase']\n",
    "countries_data['time for spread']=countries_data['time for spread'].astype('timedelta64[D]')\n",
    "\n",
    "countries_data['time for lockdown']=countries_data['Lockdown_Date']-countries_data['Date_FirstConfirmedCase']\n",
    "countries_data['time for lockdown']=countries_data['time for lockdown'].astype('timedelta64[D]')\n",
    "\n",
    "countries_data.drop('Lockdown_Date',axis='columns', inplace=True) #we don't need lockdown date now\n",
    "countries_data.drop('Date to reach 1%',axis='columns', inplace=True)\n",
    "countries_data.drop('Date_FirstConfirmedCase',axis='columns', inplace=True)"
   ]
  },
  {
   "cell_type": "code",
   "execution_count": 597,
   "metadata": {},
   "outputs": [],
   "source": [
    "countries_data = countries_data[~countries_data['time for spread'].isna()]"
   ]
  },
  {
   "cell_type": "code",
   "execution_count": 598,
   "metadata": {},
   "outputs": [
    {
     "data": {
      "text/plain": [
       "0     -2.0\n",
       "17    -1.0\n",
       "35    -4.0\n",
       "63    -3.0\n",
       "70    -2.0\n",
       "73    -1.0\n",
       "107   -2.0\n",
       "Name: time for lockdown, dtype: float64"
      ]
     },
     "execution_count": 598,
     "metadata": {},
     "output_type": "execute_result"
    }
   ],
   "source": [
    "countries_data.loc[countries_data['time for lockdown']<0]['time for lockdown']"
   ]
  },
  {
   "cell_type": "code",
   "execution_count": 599,
   "metadata": {},
   "outputs": [],
   "source": [
    "countries_data.loc[countries_data['time for lockdown']<0, 'time for lockdown']=0          #2%"
   ]
  },
  {
   "cell_type": "code",
   "execution_count": 600,
   "metadata": {},
   "outputs": [
    {
     "data": {
      "text/plain": [
       "Series([], Name: time for lockdown, dtype: float64)"
      ]
     },
     "execution_count": 600,
     "metadata": {},
     "output_type": "execute_result"
    }
   ],
   "source": [
    "countries_data.loc[countries_data['time for lockdown']<0]['time for lockdown']"
   ]
  },
  {
   "cell_type": "code",
   "execution_count": 601,
   "metadata": {},
   "outputs": [
    {
     "name": "stdout",
     "output_type": "stream",
     "text": [
      "<class 'pandas.core.frame.DataFrame'>\n",
      "Int64Index: 97 entries, 0 to 115\n",
      "Data columns (total 24 columns):\n",
      " #   Column                      Non-Null Count  Dtype  \n",
      "---  ------                      --------------  -----  \n",
      " 0   Country                     97 non-null     object \n",
      " 1   Population                  97 non-null     float64\n",
      " 2   Density                     97 non-null     float64\n",
      " 3   total_cases                 97 non-null     float64\n",
      " 4   total_tests                 84 non-null     float64\n",
      " 5   tests_per_case              81 non-null     float64\n",
      " 6   extreme_poverty             58 non-null     float64\n",
      " 7   human_development_index     95 non-null     float64\n",
      " 8   hospital_beds_per_thousand  94 non-null     float64\n",
      " 9   handwashing_facilities      23 non-null     float64\n",
      " 10  continent                   97 non-null     object \n",
      " 11  reproduction_rate           97 non-null     float64\n",
      " 12  total_deaths                97 non-null     float64\n",
      " 13  positive_rate               81 non-null     float64\n",
      " 14  Climate                     89 non-null     float64\n",
      " 15  Tourism                     97 non-null     float64\n",
      " 16  Latitude                    97 non-null     float64\n",
      " 17  Longtitude                  97 non-null     float64\n",
      " 18  Lockdown_Type               91 non-null     object \n",
      " 19  GDP 2018                    88 non-null     float64\n",
      " 20  HF score 2017               84 non-null     float64\n",
      " 21  literacy rate               63 non-null     float64\n",
      " 22  time for spread             97 non-null     float64\n",
      " 23  time for lockdown           91 non-null     float64\n",
      "dtypes: float64(21), object(3)\n",
      "memory usage: 18.9+ KB\n"
     ]
    }
   ],
   "source": [
    "countries_data.info()"
   ]
  },
  {
   "cell_type": "code",
   "execution_count": 602,
   "metadata": {},
   "outputs": [
    {
     "data": {
      "text/plain": [
       "0    635.0\n",
       "1    251.0\n",
       "3    698.0\n",
       "4    433.0\n",
       "5    411.0\n",
       "Name: time for spread, dtype: float64"
      ]
     },
     "execution_count": 602,
     "metadata": {},
     "output_type": "execute_result"
    }
   ],
   "source": [
    "countries_data['time for spread'].head()"
   ]
  },
  {
   "cell_type": "markdown",
   "metadata": {},
   "source": [
    "### Dealing with NULL values"
   ]
  },
  {
   "cell_type": "markdown",
   "metadata": {},
   "source": [
    "Drop 'handwashing facilities' feature as it's mostly NULL values."
   ]
  },
  {
   "cell_type": "code",
   "execution_count": 603,
   "metadata": {},
   "outputs": [],
   "source": [
    "countries_data = countries_data.drop('handwashing_facilities',axis='columns')"
   ]
  },
  {
   "cell_type": "markdown",
   "metadata": {},
   "source": [
    "We calculated the mean of each feature based on the continent of the country. Then, filled the NULL values with these averages.   "
   ]
  },
  {
   "cell_type": "code",
   "execution_count": 604,
   "metadata": {},
   "outputs": [
    {
     "data": {
      "text/html": [
       "<div>\n",
       "<style scoped>\n",
       "    .dataframe tbody tr th:only-of-type {\n",
       "        vertical-align: middle;\n",
       "    }\n",
       "\n",
       "    .dataframe tbody tr th {\n",
       "        vertical-align: top;\n",
       "    }\n",
       "\n",
       "    .dataframe thead th {\n",
       "        text-align: right;\n",
       "    }\n",
       "</style>\n",
       "<table border=\"1\" class=\"dataframe\">\n",
       "  <thead>\n",
       "    <tr style=\"text-align: right;\">\n",
       "      <th></th>\n",
       "      <th>Population</th>\n",
       "      <th>Density</th>\n",
       "      <th>total_cases</th>\n",
       "      <th>total_tests</th>\n",
       "      <th>tests_per_case</th>\n",
       "      <th>extreme_poverty</th>\n",
       "      <th>human_development_index</th>\n",
       "      <th>hospital_beds_per_thousand</th>\n",
       "      <th>reproduction_rate</th>\n",
       "      <th>total_deaths</th>\n",
       "      <th>positive_rate</th>\n",
       "      <th>Climate</th>\n",
       "      <th>Tourism</th>\n",
       "      <th>Latitude</th>\n",
       "      <th>Longtitude</th>\n",
       "      <th>GDP 2018</th>\n",
       "      <th>HF score 2017</th>\n",
       "      <th>literacy rate</th>\n",
       "      <th>time for spread</th>\n",
       "      <th>time for lockdown</th>\n",
       "    </tr>\n",
       "    <tr>\n",
       "      <th>continent</th>\n",
       "      <th></th>\n",
       "      <th></th>\n",
       "      <th></th>\n",
       "      <th></th>\n",
       "      <th></th>\n",
       "      <th></th>\n",
       "      <th></th>\n",
       "      <th></th>\n",
       "      <th></th>\n",
       "      <th></th>\n",
       "      <th></th>\n",
       "      <th></th>\n",
       "      <th></th>\n",
       "      <th></th>\n",
       "      <th></th>\n",
       "      <th></th>\n",
       "      <th></th>\n",
       "      <th></th>\n",
       "      <th></th>\n",
       "      <th></th>\n",
       "    </tr>\n",
       "  </thead>\n",
       "  <tbody>\n",
       "    <tr>\n",
       "      <th>Africa</th>\n",
       "      <td>4.491469e+06</td>\n",
       "      <td>184.800000</td>\n",
       "      <td>3.203948e+05</td>\n",
       "      <td>1.980547e+06</td>\n",
       "      <td>2.233333</td>\n",
       "      <td>1.200000</td>\n",
       "      <td>0.759800</td>\n",
       "      <td>2.960000</td>\n",
       "      <td>0.364000</td>\n",
       "      <td>7063.800000</td>\n",
       "      <td>0.000000</td>\n",
       "      <td>1.800000</td>\n",
       "      <td>2.017600e+06</td>\n",
       "      <td>2.573113</td>\n",
       "      <td>32.898965</td>\n",
       "      <td>21238.168286</td>\n",
       "      <td>6.514000</td>\n",
       "      <td>89.420000</td>\n",
       "      <td>601.600000</td>\n",
       "      <td>8.400000</td>\n",
       "    </tr>\n",
       "    <tr>\n",
       "      <th>Asia</th>\n",
       "      <td>2.289516e+07</td>\n",
       "      <td>711.652174</td>\n",
       "      <td>1.620735e+06</td>\n",
       "      <td>2.109612e+07</td>\n",
       "      <td>9.683333</td>\n",
       "      <td>1.016667</td>\n",
       "      <td>0.800913</td>\n",
       "      <td>3.292857</td>\n",
       "      <td>0.305217</td>\n",
       "      <td>15063.391304</td>\n",
       "      <td>0.029839</td>\n",
       "      <td>1.956522</td>\n",
       "      <td>9.443057e+06</td>\n",
       "      <td>27.515016</td>\n",
       "      <td>66.422213</td>\n",
       "      <td>36509.514928</td>\n",
       "      <td>6.760000</td>\n",
       "      <td>94.715789</td>\n",
       "      <td>566.304348</td>\n",
       "      <td>22.818182</td>\n",
       "    </tr>\n",
       "    <tr>\n",
       "      <th>Europe</th>\n",
       "      <td>1.715964e+07</td>\n",
       "      <td>769.883721</td>\n",
       "      <td>1.204461e+06</td>\n",
       "      <td>2.462550e+07</td>\n",
       "      <td>3.394872</td>\n",
       "      <td>0.913793</td>\n",
       "      <td>0.879390</td>\n",
       "      <td>5.129714</td>\n",
       "      <td>0.493488</td>\n",
       "      <td>28153.069767</td>\n",
       "      <td>0.035118</td>\n",
       "      <td>3.131579</td>\n",
       "      <td>1.456258e+07</td>\n",
       "      <td>48.575622</td>\n",
       "      <td>16.035356</td>\n",
       "      <td>40524.767876</td>\n",
       "      <td>7.957368</td>\n",
       "      <td>98.720833</td>\n",
       "      <td>474.720930</td>\n",
       "      <td>20.146341</td>\n",
       "    </tr>\n",
       "    <tr>\n",
       "      <th>North America</th>\n",
       "      <td>3.021856e+07</td>\n",
       "      <td>173.230769</td>\n",
       "      <td>2.119603e+06</td>\n",
       "      <td>3.084449e+07</td>\n",
       "      <td>2.509091</td>\n",
       "      <td>1.300000</td>\n",
       "      <td>0.804692</td>\n",
       "      <td>3.038462</td>\n",
       "      <td>0.505385</td>\n",
       "      <td>34127.615385</td>\n",
       "      <td>0.040964</td>\n",
       "      <td>2.100000</td>\n",
       "      <td>8.650378e+06</td>\n",
       "      <td>19.829780</td>\n",
       "      <td>-75.137422</td>\n",
       "      <td>27182.718526</td>\n",
       "      <td>7.581250</td>\n",
       "      <td>94.840000</td>\n",
       "      <td>573.538462</td>\n",
       "      <td>13.750000</td>\n",
       "    </tr>\n",
       "    <tr>\n",
       "      <th>Oceania</th>\n",
       "      <td>1.042576e+07</td>\n",
       "      <td>23.333333</td>\n",
       "      <td>7.602643e+05</td>\n",
       "      <td>2.210259e+07</td>\n",
       "      <td>4.400000</td>\n",
       "      <td>0.950000</td>\n",
       "      <td>0.872667</td>\n",
       "      <td>2.916667</td>\n",
       "      <td>0.720000</td>\n",
       "      <td>1222.333333</td>\n",
       "      <td>0.087000</td>\n",
       "      <td>2.000000</td>\n",
       "      <td>4.600667e+06</td>\n",
       "      <td>-27.584383</td>\n",
       "      <td>162.691840</td>\n",
       "      <td>34516.088140</td>\n",
       "      <td>8.223333</td>\n",
       "      <td>NaN</td>\n",
       "      <td>715.000000</td>\n",
       "      <td>28.000000</td>\n",
       "    </tr>\n",
       "    <tr>\n",
       "      <th>South America</th>\n",
       "      <td>3.849589e+07</td>\n",
       "      <td>19.700000</td>\n",
       "      <td>2.703775e+06</td>\n",
       "      <td>1.214429e+07</td>\n",
       "      <td>2.355556</td>\n",
       "      <td>2.775000</td>\n",
       "      <td>0.768800</td>\n",
       "      <td>2.252000</td>\n",
       "      <td>0.427000</td>\n",
       "      <td>84978.200000</td>\n",
       "      <td>0.062944</td>\n",
       "      <td>2.100000</td>\n",
       "      <td>3.370200e+06</td>\n",
       "      <td>-15.642106</td>\n",
       "      <td>-62.915369</td>\n",
       "      <td>16055.697050</td>\n",
       "      <td>7.144000</td>\n",
       "      <td>95.100000</td>\n",
       "      <td>547.200000</td>\n",
       "      <td>10.625000</td>\n",
       "    </tr>\n",
       "  </tbody>\n",
       "</table>\n",
       "</div>"
      ],
      "text/plain": [
       "                 Population     Density   total_cases   total_tests  \\\n",
       "continent                                                             \n",
       "Africa         4.491469e+06  184.800000  3.203948e+05  1.980547e+06   \n",
       "Asia           2.289516e+07  711.652174  1.620735e+06  2.109612e+07   \n",
       "Europe         1.715964e+07  769.883721  1.204461e+06  2.462550e+07   \n",
       "North America  3.021856e+07  173.230769  2.119603e+06  3.084449e+07   \n",
       "Oceania        1.042576e+07   23.333333  7.602643e+05  2.210259e+07   \n",
       "South America  3.849589e+07   19.700000  2.703775e+06  1.214429e+07   \n",
       "\n",
       "               tests_per_case  extreme_poverty  human_development_index  \\\n",
       "continent                                                                 \n",
       "Africa               2.233333         1.200000                 0.759800   \n",
       "Asia                 9.683333         1.016667                 0.800913   \n",
       "Europe               3.394872         0.913793                 0.879390   \n",
       "North America        2.509091         1.300000                 0.804692   \n",
       "Oceania              4.400000         0.950000                 0.872667   \n",
       "South America        2.355556         2.775000                 0.768800   \n",
       "\n",
       "               hospital_beds_per_thousand  reproduction_rate  total_deaths  \\\n",
       "continent                                                                    \n",
       "Africa                           2.960000           0.364000   7063.800000   \n",
       "Asia                             3.292857           0.305217  15063.391304   \n",
       "Europe                           5.129714           0.493488  28153.069767   \n",
       "North America                    3.038462           0.505385  34127.615385   \n",
       "Oceania                          2.916667           0.720000   1222.333333   \n",
       "South America                    2.252000           0.427000  84978.200000   \n",
       "\n",
       "               positive_rate   Climate       Tourism   Latitude  Longtitude  \\\n",
       "continent                                                                     \n",
       "Africa              0.000000  1.800000  2.017600e+06   2.573113   32.898965   \n",
       "Asia                0.029839  1.956522  9.443057e+06  27.515016   66.422213   \n",
       "Europe              0.035118  3.131579  1.456258e+07  48.575622   16.035356   \n",
       "North America       0.040964  2.100000  8.650378e+06  19.829780  -75.137422   \n",
       "Oceania             0.087000  2.000000  4.600667e+06 -27.584383  162.691840   \n",
       "South America       0.062944  2.100000  3.370200e+06 -15.642106  -62.915369   \n",
       "\n",
       "                   GDP 2018  HF score 2017  literacy rate  time for spread  \\\n",
       "continent                                                                    \n",
       "Africa         21238.168286       6.514000      89.420000       601.600000   \n",
       "Asia           36509.514928       6.760000      94.715789       566.304348   \n",
       "Europe         40524.767876       7.957368      98.720833       474.720930   \n",
       "North America  27182.718526       7.581250      94.840000       573.538462   \n",
       "Oceania        34516.088140       8.223333            NaN       715.000000   \n",
       "South America  16055.697050       7.144000      95.100000       547.200000   \n",
       "\n",
       "               time for lockdown  \n",
       "continent                         \n",
       "Africa                  8.400000  \n",
       "Asia                   22.818182  \n",
       "Europe                 20.146341  \n",
       "North America          13.750000  \n",
       "Oceania                28.000000  \n",
       "South America          10.625000  "
      ]
     },
     "execution_count": 604,
     "metadata": {},
     "output_type": "execute_result"
    }
   ],
   "source": [
    "continent_mean=countries_data.groupby(['continent']).mean()\n",
    "continent_mean"
   ]
  },
  {
   "cell_type": "markdown",
   "metadata": {},
   "source": [
    "Countries that have the value 'Oceania' as their continent are nearly all NULL values. We dropped them by locating their index."
   ]
  },
  {
   "cell_type": "code",
   "execution_count": 605,
   "metadata": {},
   "outputs": [],
   "source": [
    "#countries_data.loc[countries_data['Country']=='Jordan']"
   ]
  },
  {
   "cell_type": "code",
   "execution_count": 606,
   "metadata": {},
   "outputs": [],
   "source": [
    "#countries_data=countries_data.drop([24,28]) #2 instances with nearly all NAN values #comment when using 2%"
   ]
  },
  {
   "cell_type": "code",
   "execution_count": 607,
   "metadata": {},
   "outputs": [],
   "source": [
    "#countries_data.loc[countries_data.isnull().sum(axis=1) > 8]"
   ]
  },
  {
   "cell_type": "code",
   "execution_count": 608,
   "metadata": {},
   "outputs": [],
   "source": [
    "Africa=countries_data.loc[countries_data['continent']=='Africa']\n",
    "Asia=countries_data.loc[countries_data['continent']=='Asia']\n",
    "Europe=countries_data.loc[countries_data['continent']=='Europe']\n",
    "North_America=countries_data.loc[countries_data['continent']=='North America']\n",
    "South_America=countries_data.loc[countries_data['continent']=='South America']\n",
    "\n",
    "Africa=Africa.fillna(value=continent_mean.loc['Africa'], axis=None, inplace=False, limit=None, downcast=None)\n",
    "Asia=Asia.fillna(value=continent_mean.loc['Asia'], axis=None, inplace=False, limit=None, downcast=None)\n",
    "Europe=Europe.fillna(value=continent_mean.loc['Europe'], axis=None, inplace=False, limit=None, downcast=None)\n",
    "North_America=North_America.fillna(value=continent_mean.loc['North America'], axis=None, inplace=False, limit=None, downcast=None)\n",
    "South_America=South_America.fillna(value=continent_mean.loc['South America'], axis=None, inplace=False, limit=None, downcast=None)"
   ]
  },
  {
   "cell_type": "markdown",
   "metadata": {},
   "source": [
    "We still have categorical null values (Lockdown Type), so we'll fill it with the most frequent value of each continent. "
   ]
  },
  {
   "cell_type": "code",
   "execution_count": 609,
   "metadata": {},
   "outputs": [
    {
     "name": "stdout",
     "output_type": "stream",
     "text": [
      "North America:\n",
      " Full       9\n",
      "Partial    3\n",
      "Name: Lockdown_Type, dtype: int64 \n",
      " \n",
      "Europe:\n",
      " Full       40\n",
      "Partial     1\n",
      "Name: Lockdown_Type, dtype: int64\n",
      "Asia:\n",
      " Full       17\n",
      "Partial     5\n",
      "Name: Lockdown_Type, dtype: int64 \n",
      " \n",
      "Africa:\n",
      " Full       3\n",
      "Partial    2\n",
      "Name: Lockdown_Type, dtype: int64\n",
      "South America:\n",
      " Full       6\n",
      "Partial    2\n",
      "Name: Lockdown_Type, dtype: int64\n"
     ]
    }
   ],
   "source": [
    "print(\"North America:\\n\",North_America['Lockdown_Type'].value_counts(), \"\\n \\nEurope:\\n\",Europe['Lockdown_Type'].value_counts())\n",
    "print(\"Asia:\\n\",Asia['Lockdown_Type'].value_counts(), \"\\n \\nAfrica:\\n\",Africa['Lockdown_Type'].value_counts())\n",
    "print(\"South America:\\n\",South_America['Lockdown_Type'].value_counts())"
   ]
  },
  {
   "cell_type": "code",
   "execution_count": 610,
   "metadata": {},
   "outputs": [],
   "source": [
    "North_America['Lockdown_Type']=North_America['Lockdown_Type'].fillna('Full')\n",
    "Europe['Lockdown_Type']=Europe['Lockdown_Type'].fillna('Full')\n",
    "Asia['Lockdown_Type']=Asia['Lockdown_Type'].fillna('Full')\n",
    "South_America['Lockdown_Type']=South_America['Lockdown_Type'].fillna('Full')\n",
    "Africa['Lockdown_Type']=Africa['Lockdown_Type'].fillna('Full')"
   ]
  },
  {
   "cell_type": "markdown",
   "metadata": {},
   "source": [
    "Concatenate the continents subsets to get the new full dataset with no NULL values"
   ]
  },
  {
   "cell_type": "code",
   "execution_count": 611,
   "metadata": {},
   "outputs": [],
   "source": [
    "countries_data=pd.concat([Africa, Asia,Europe,North_America,South_America], sort=False)"
   ]
  },
  {
   "cell_type": "markdown",
   "metadata": {},
   "source": [
    "Climate feature shouldn't have any fractions, only whole numbers (1 - 4), so we applied floor. "
   ]
  },
  {
   "cell_type": "code",
   "execution_count": 612,
   "metadata": {},
   "outputs": [],
   "source": [
    "countries_data['Climate']=countries_data['Climate'].apply(np.floor) "
   ]
  },
  {
   "cell_type": "code",
   "execution_count": 613,
   "metadata": {},
   "outputs": [],
   "source": [
    "countries_data = countries_data[~countries_data['total_tests'].isna()]\n",
    "countries_data = countries_data[~countries_data['tests_per_case'].isna()]"
   ]
  },
  {
   "cell_type": "markdown",
   "metadata": {},
   "source": [
    "No NULL values exist now !"
   ]
  },
  {
   "cell_type": "code",
   "execution_count": 614,
   "metadata": {},
   "outputs": [
    {
     "name": "stdout",
     "output_type": "stream",
     "text": [
      "<class 'pandas.core.frame.DataFrame'>\n",
      "Int64Index: 94 entries, 20 to 114\n",
      "Data columns (total 23 columns):\n",
      " #   Column                      Non-Null Count  Dtype  \n",
      "---  ------                      --------------  -----  \n",
      " 0   Country                     94 non-null     object \n",
      " 1   Population                  94 non-null     float64\n",
      " 2   Density                     94 non-null     float64\n",
      " 3   total_cases                 94 non-null     float64\n",
      " 4   total_tests                 94 non-null     float64\n",
      " 5   tests_per_case              94 non-null     float64\n",
      " 6   extreme_poverty             94 non-null     float64\n",
      " 7   human_development_index     94 non-null     float64\n",
      " 8   hospital_beds_per_thousand  94 non-null     float64\n",
      " 9   continent                   94 non-null     object \n",
      " 10  reproduction_rate           94 non-null     float64\n",
      " 11  total_deaths                94 non-null     float64\n",
      " 12  positive_rate               94 non-null     float64\n",
      " 13  Climate                     94 non-null     float64\n",
      " 14  Tourism                     94 non-null     float64\n",
      " 15  Latitude                    94 non-null     float64\n",
      " 16  Longtitude                  94 non-null     float64\n",
      " 17  Lockdown_Type               94 non-null     object \n",
      " 18  GDP 2018                    94 non-null     float64\n",
      " 19  HF score 2017               94 non-null     float64\n",
      " 20  literacy rate               94 non-null     float64\n",
      " 21  time for spread             94 non-null     float64\n",
      " 22  time for lockdown           94 non-null     float64\n",
      "dtypes: float64(20), object(3)\n",
      "memory usage: 17.6+ KB\n"
     ]
    }
   ],
   "source": [
    "countries_data.info()"
   ]
  },
  {
   "cell_type": "code",
   "execution_count": null,
   "metadata": {},
   "outputs": [],
   "source": []
  },
  {
   "cell_type": "code",
   "execution_count": 547,
   "metadata": {},
   "outputs": [],
   "source": [
    "import seaborn as sns"
   ]
  },
  {
   "cell_type": "code",
   "execution_count": 548,
   "metadata": {},
   "outputs": [
    {
     "data": {
      "image/png": "[encoded data removed]",
      "text/plain": [
       "<Figure size 432x288 with 1 Axes>"
      ]
     },
     "metadata": {
      "needs_background": "light"
     },
     "output_type": "display_data"
    }
   ],
   "source": [
    "countries_data['time for spread'].hist()\n",
    "\n",
    "font = {'family' : 'normal',\n",
    "        'weight' : 'normal',\n",
    "        'size'   : 12}\n",
    "\n",
    "plt.rc('font', **font)\n",
    "\n",
    "plt.xlabel('Days to reach 1% of population')\n",
    "plt.ylabel('Count')\n",
    "plt.grid()\n",
    "plt.show()"
   ]
  },
  {
   "cell_type": "code",
   "execution_count": null,
   "metadata": {},
   "outputs": [],
   "source": []
  },
  {
   "cell_type": "markdown",
   "metadata": {},
   "source": [
    "### Dealing With Categorical Data"
   ]
  },
  {
   "cell_type": "markdown",
   "metadata": {},
   "source": [
    "Three categorical features exist in the dataset: climate, lockdown type, and continent.\n",
    "\n",
    "We used one hot encoder to transform these features to numerical values."
   ]
  },
  {
   "cell_type": "code",
   "execution_count": 615,
   "metadata": {},
   "outputs": [],
   "source": [
    "countries_data=countries_data.reset_index()\n",
    "countries_data.drop('index',axis='columns', inplace=True)"
   ]
  },
  {
   "cell_type": "code",
   "execution_count": 616,
   "metadata": {},
   "outputs": [
    {
     "data": {
      "text/html": [
       "<div>\n",
       "<style scoped>\n",
       "    .dataframe tbody tr th:only-of-type {\n",
       "        vertical-align: middle;\n",
       "    }\n",
       "\n",
       "    .dataframe tbody tr th {\n",
       "        vertical-align: top;\n",
       "    }\n",
       "\n",
       "    .dataframe thead th {\n",
       "        text-align: right;\n",
       "    }\n",
       "</style>\n",
       "<table border=\"1\" class=\"dataframe\">\n",
       "  <thead>\n",
       "    <tr style=\"text-align: right;\">\n",
       "      <th></th>\n",
       "      <th>Country</th>\n",
       "      <th>Population</th>\n",
       "      <th>Density</th>\n",
       "      <th>total_cases</th>\n",
       "      <th>total_tests</th>\n",
       "      <th>tests_per_case</th>\n",
       "      <th>extreme_poverty</th>\n",
       "      <th>human_development_index</th>\n",
       "      <th>hospital_beds_per_thousand</th>\n",
       "      <th>continent</th>\n",
       "      <th>...</th>\n",
       "      <th>Climate</th>\n",
       "      <th>Tourism</th>\n",
       "      <th>Latitude</th>\n",
       "      <th>Longtitude</th>\n",
       "      <th>Lockdown_Type</th>\n",
       "      <th>GDP 2018</th>\n",
       "      <th>HF score 2017</th>\n",
       "      <th>literacy rate</th>\n",
       "      <th>time for spread</th>\n",
       "      <th>time for lockdown</th>\n",
       "    </tr>\n",
       "  </thead>\n",
       "  <tbody>\n",
       "    <tr>\n",
       "      <th>0</th>\n",
       "      <td>Botswana</td>\n",
       "      <td>2359585.0</td>\n",
       "      <td>4.0</td>\n",
       "      <td>165644.0</td>\n",
       "      <td>1713133.0</td>\n",
       "      <td>1.100000</td>\n",
       "      <td>1.200</td>\n",
       "      <td>0.735</td>\n",
       "      <td>1.8</td>\n",
       "      <td>Africa</td>\n",
       "      <td>...</td>\n",
       "      <td>1.0</td>\n",
       "      <td>14000.0</td>\n",
       "      <td>-22.328474</td>\n",
       "      <td>24.684866</td>\n",
       "      <td>Partial</td>\n",
       "      <td>18615.79334</td>\n",
       "      <td>7.17</td>\n",
       "      <td>88.5</td>\n",
       "      <td>531.0</td>\n",
       "      <td>2.000</td>\n",
       "    </tr>\n",
       "    <tr>\n",
       "      <th>1</th>\n",
       "      <td>Libya</td>\n",
       "      <td>6887247.0</td>\n",
       "      <td>4.0</td>\n",
       "      <td>482153.0</td>\n",
       "      <td>1980547.0</td>\n",
       "      <td>2.233333</td>\n",
       "      <td>1.200</td>\n",
       "      <td>0.724</td>\n",
       "      <td>3.7</td>\n",
       "      <td>Africa</td>\n",
       "      <td>...</td>\n",
       "      <td>1.0</td>\n",
       "      <td>14000.0</td>\n",
       "      <td>26.335100</td>\n",
       "      <td>17.228331</td>\n",
       "      <td>Full</td>\n",
       "      <td>20764.16414</td>\n",
       "      <td>4.64</td>\n",
       "      <td>91.0</td>\n",
       "      <td>695.0</td>\n",
       "      <td>0.000</td>\n",
       "    </tr>\n",
       "    <tr>\n",
       "      <th>2</th>\n",
       "      <td>Mauritius</td>\n",
       "      <td>1272140.0</td>\n",
       "      <td>626.0</td>\n",
       "      <td>100224.0</td>\n",
       "      <td>359627.0</td>\n",
       "      <td>3.400000</td>\n",
       "      <td>0.500</td>\n",
       "      <td>0.804</td>\n",
       "      <td>3.4</td>\n",
       "      <td>Africa</td>\n",
       "      <td>...</td>\n",
       "      <td>2.0</td>\n",
       "      <td>1399000.0</td>\n",
       "      <td>-20.348404</td>\n",
       "      <td>57.552152</td>\n",
       "      <td>Partial</td>\n",
       "      <td>23750.98804</td>\n",
       "      <td>7.52</td>\n",
       "      <td>90.6</td>\n",
       "      <td>677.0</td>\n",
       "      <td>0.000</td>\n",
       "    </tr>\n",
       "    <tr>\n",
       "      <th>3</th>\n",
       "      <td>Seychelles</td>\n",
       "      <td>98453.0</td>\n",
       "      <td>214.0</td>\n",
       "      <td>7192.0</td>\n",
       "      <td>1980547.0</td>\n",
       "      <td>2.233333</td>\n",
       "      <td>1.100</td>\n",
       "      <td>0.796</td>\n",
       "      <td>3.6</td>\n",
       "      <td>Africa</td>\n",
       "      <td>...</td>\n",
       "      <td>2.0</td>\n",
       "      <td>362000.0</td>\n",
       "      <td>-4.679574</td>\n",
       "      <td>55.491977</td>\n",
       "      <td>Full</td>\n",
       "      <td>30557.07572</td>\n",
       "      <td>7.16</td>\n",
       "      <td>95.2</td>\n",
       "      <td>417.0</td>\n",
       "      <td>25.000</td>\n",
       "    </tr>\n",
       "    <tr>\n",
       "      <th>4</th>\n",
       "      <td>Tunisia</td>\n",
       "      <td>11839918.0</td>\n",
       "      <td>76.0</td>\n",
       "      <td>846761.0</td>\n",
       "      <td>3868881.0</td>\n",
       "      <td>2.200000</td>\n",
       "      <td>2.000</td>\n",
       "      <td>0.740</td>\n",
       "      <td>2.3</td>\n",
       "      <td>Africa</td>\n",
       "      <td>...</td>\n",
       "      <td>3.0</td>\n",
       "      <td>8299000.0</td>\n",
       "      <td>33.886917</td>\n",
       "      <td>9.537499</td>\n",
       "      <td>Full</td>\n",
       "      <td>12502.82019</td>\n",
       "      <td>6.08</td>\n",
       "      <td>81.8</td>\n",
       "      <td>688.0</td>\n",
       "      <td>15.000</td>\n",
       "    </tr>\n",
       "    <tr>\n",
       "      <th>...</th>\n",
       "      <td>...</td>\n",
       "      <td>...</td>\n",
       "      <td>...</td>\n",
       "      <td>...</td>\n",
       "      <td>...</td>\n",
       "      <td>...</td>\n",
       "      <td>...</td>\n",
       "      <td>...</td>\n",
       "      <td>...</td>\n",
       "      <td>...</td>\n",
       "      <td>...</td>\n",
       "      <td>...</td>\n",
       "      <td>...</td>\n",
       "      <td>...</td>\n",
       "      <td>...</td>\n",
       "      <td>...</td>\n",
       "      <td>...</td>\n",
       "      <td>...</td>\n",
       "      <td>...</td>\n",
       "      <td>...</td>\n",
       "      <td>...</td>\n",
       "    </tr>\n",
       "    <tr>\n",
       "      <th>89</th>\n",
       "      <td>Guyana</td>\n",
       "      <td>787215.0</td>\n",
       "      <td>4.0</td>\n",
       "      <td>55628.0</td>\n",
       "      <td>442695.0</td>\n",
       "      <td>3.000000</td>\n",
       "      <td>2.775</td>\n",
       "      <td>0.682</td>\n",
       "      <td>1.6</td>\n",
       "      <td>South America</td>\n",
       "      <td>...</td>\n",
       "      <td>2.0</td>\n",
       "      <td>287000.0</td>\n",
       "      <td>4.860416</td>\n",
       "      <td>-58.930180</td>\n",
       "      <td>Full</td>\n",
       "      <td>8640.73737</td>\n",
       "      <td>6.74</td>\n",
       "      <td>88.5</td>\n",
       "      <td>679.0</td>\n",
       "      <td>10.625</td>\n",
       "    </tr>\n",
       "    <tr>\n",
       "      <th>90</th>\n",
       "      <td>Paraguay</td>\n",
       "      <td>7147553.0</td>\n",
       "      <td>18.0</td>\n",
       "      <td>501189.0</td>\n",
       "      <td>2194016.0</td>\n",
       "      <td>1.600000</td>\n",
       "      <td>1.700</td>\n",
       "      <td>0.728</td>\n",
       "      <td>1.3</td>\n",
       "      <td>South America</td>\n",
       "      <td>...</td>\n",
       "      <td>2.0</td>\n",
       "      <td>1181000.0</td>\n",
       "      <td>-23.442503</td>\n",
       "      <td>-58.443832</td>\n",
       "      <td>Partial</td>\n",
       "      <td>13599.92656</td>\n",
       "      <td>6.90</td>\n",
       "      <td>95.6</td>\n",
       "      <td>679.0</td>\n",
       "      <td>6.000</td>\n",
       "    </tr>\n",
       "    <tr>\n",
       "      <th>91</th>\n",
       "      <td>Peru</td>\n",
       "      <td>33050211.0</td>\n",
       "      <td>26.0</td>\n",
       "      <td>2318543.0</td>\n",
       "      <td>21999418.0</td>\n",
       "      <td>3.000000</td>\n",
       "      <td>3.500</td>\n",
       "      <td>0.777</td>\n",
       "      <td>1.6</td>\n",
       "      <td>South America</td>\n",
       "      <td>...</td>\n",
       "      <td>1.0</td>\n",
       "      <td>4419000.0</td>\n",
       "      <td>-9.189967</td>\n",
       "      <td>-75.015152</td>\n",
       "      <td>Full</td>\n",
       "      <td>14418.07067</td>\n",
       "      <td>7.55</td>\n",
       "      <td>94.5</td>\n",
       "      <td>669.0</td>\n",
       "      <td>3.000</td>\n",
       "    </tr>\n",
       "    <tr>\n",
       "      <th>92</th>\n",
       "      <td>Suriname</td>\n",
       "      <td>587541.0</td>\n",
       "      <td>4.0</td>\n",
       "      <td>41419.0</td>\n",
       "      <td>43505.0</td>\n",
       "      <td>2.000000</td>\n",
       "      <td>2.775</td>\n",
       "      <td>0.738</td>\n",
       "      <td>3.1</td>\n",
       "      <td>South America</td>\n",
       "      <td>...</td>\n",
       "      <td>2.0</td>\n",
       "      <td>14000.0</td>\n",
       "      <td>3.919305</td>\n",
       "      <td>-56.027783</td>\n",
       "      <td>Full</td>\n",
       "      <td>15510.46464</td>\n",
       "      <td>7.48</td>\n",
       "      <td>95.6</td>\n",
       "      <td>563.0</td>\n",
       "      <td>10.625</td>\n",
       "    </tr>\n",
       "    <tr>\n",
       "      <th>93</th>\n",
       "      <td>Uruguay</td>\n",
       "      <td>3475842.0</td>\n",
       "      <td>20.0</td>\n",
       "      <td>246026.0</td>\n",
       "      <td>2026249.0</td>\n",
       "      <td>2.400000</td>\n",
       "      <td>0.100</td>\n",
       "      <td>0.817</td>\n",
       "      <td>2.8</td>\n",
       "      <td>South America</td>\n",
       "      <td>...</td>\n",
       "      <td>3.0</td>\n",
       "      <td>3469000.0</td>\n",
       "      <td>-32.522779</td>\n",
       "      <td>-55.765835</td>\n",
       "      <td>Full</td>\n",
       "      <td>23572.17746</td>\n",
       "      <td>7.74</td>\n",
       "      <td>98.4</td>\n",
       "      <td>429.0</td>\n",
       "      <td>1.000</td>\n",
       "    </tr>\n",
       "  </tbody>\n",
       "</table>\n",
       "<p>94 rows × 23 columns</p>\n",
       "</div>"
      ],
      "text/plain": [
       "       Country  Population  Density  total_cases  total_tests  tests_per_case  \\\n",
       "0     Botswana   2359585.0      4.0     165644.0    1713133.0        1.100000   \n",
       "1        Libya   6887247.0      4.0     482153.0    1980547.0        2.233333   \n",
       "2    Mauritius   1272140.0    626.0     100224.0     359627.0        3.400000   \n",
       "3   Seychelles     98453.0    214.0       7192.0    1980547.0        2.233333   \n",
       "4      Tunisia  11839918.0     76.0     846761.0    3868881.0        2.200000   \n",
       "..         ...         ...      ...          ...          ...             ...   \n",
       "89      Guyana    787215.0      4.0      55628.0     442695.0        3.000000   \n",
       "90    Paraguay   7147553.0     18.0     501189.0    2194016.0        1.600000   \n",
       "91        Peru  33050211.0     26.0    2318543.0   21999418.0        3.000000   \n",
       "92    Suriname    587541.0      4.0      41419.0      43505.0        2.000000   \n",
       "93     Uruguay   3475842.0     20.0     246026.0    2026249.0        2.400000   \n",
       "\n",
       "    extreme_poverty  human_development_index  hospital_beds_per_thousand  \\\n",
       "0             1.200                    0.735                         1.8   \n",
       "1             1.200                    0.724                         3.7   \n",
       "2             0.500                    0.804                         3.4   \n",
       "3             1.100                    0.796                         3.6   \n",
       "4             2.000                    0.740                         2.3   \n",
       "..              ...                      ...                         ...   \n",
       "89            2.775                    0.682                         1.6   \n",
       "90            1.700                    0.728                         1.3   \n",
       "91            3.500                    0.777                         1.6   \n",
       "92            2.775                    0.738                         3.1   \n",
       "93            0.100                    0.817                         2.8   \n",
       "\n",
       "        continent  ...  Climate    Tourism   Latitude  Longtitude  \\\n",
       "0          Africa  ...      1.0    14000.0 -22.328474   24.684866   \n",
       "1          Africa  ...      1.0    14000.0  26.335100   17.228331   \n",
       "2          Africa  ...      2.0  1399000.0 -20.348404   57.552152   \n",
       "3          Africa  ...      2.0   362000.0  -4.679574   55.491977   \n",
       "4          Africa  ...      3.0  8299000.0  33.886917    9.537499   \n",
       "..            ...  ...      ...        ...        ...         ...   \n",
       "89  South America  ...      2.0   287000.0   4.860416  -58.930180   \n",
       "90  South America  ...      2.0  1181000.0 -23.442503  -58.443832   \n",
       "91  South America  ...      1.0  4419000.0  -9.189967  -75.015152   \n",
       "92  South America  ...      2.0    14000.0   3.919305  -56.027783   \n",
       "93  South America  ...      3.0  3469000.0 -32.522779  -55.765835   \n",
       "\n",
       "    Lockdown_Type     GDP 2018  HF score 2017 literacy rate  time for spread  \\\n",
       "0         Partial  18615.79334           7.17          88.5            531.0   \n",
       "1            Full  20764.16414           4.64          91.0            695.0   \n",
       "2         Partial  23750.98804           7.52          90.6            677.0   \n",
       "3            Full  30557.07572           7.16          95.2            417.0   \n",
       "4            Full  12502.82019           6.08          81.8            688.0   \n",
       "..            ...          ...            ...           ...              ...   \n",
       "89           Full   8640.73737           6.74          88.5            679.0   \n",
       "90        Partial  13599.92656           6.90          95.6            679.0   \n",
       "91           Full  14418.07067           7.55          94.5            669.0   \n",
       "92           Full  15510.46464           7.48          95.6            563.0   \n",
       "93           Full  23572.17746           7.74          98.4            429.0   \n",
       "\n",
       "    time for lockdown  \n",
       "0               2.000  \n",
       "1               0.000  \n",
       "2               0.000  \n",
       "3              25.000  \n",
       "4              15.000  \n",
       "..                ...  \n",
       "89             10.625  \n",
       "90              6.000  \n",
       "91              3.000  \n",
       "92             10.625  \n",
       "93              1.000  \n",
       "\n",
       "[94 rows x 23 columns]"
      ]
     },
     "execution_count": 616,
     "metadata": {},
     "output_type": "execute_result"
    }
   ],
   "source": [
    "countries_data"
   ]
  },
  {
   "cell_type": "code",
   "execution_count": 617,
   "metadata": {},
   "outputs": [],
   "source": [
    "#---------------------------------------------------------#\n",
    "#climate\n",
    "from sklearn.preprocessing import LabelBinarizer\n",
    "climate = countries_data[\"Climate\"]\n",
    "encoder_climate = LabelBinarizer()\n",
    "climate_1hot = encoder_climate.fit_transform(climate)\n",
    "\n",
    "climate_1hot=pd.DataFrame(data=climate_1hot,columns=[\"Dry\", \"Wet tropical\",\"humid subtropical\",\"wet winters\"])\n",
    "countries_data= pd.concat([countries_data, climate_1hot], axis=1, sort=False)\n",
    "countries_data.drop('Climate',axis='columns', inplace=True)\n",
    "#----------------------------------------------------------#\n",
    "#lockdown Type\n",
    "from sklearn.preprocessing import LabelEncoder\n",
    "encoder_lockdown = LabelEncoder()\n",
    "lockdown = countries_data[\"Lockdown_Type\"]\n",
    "lockdown_encoded = encoder_lockdown.fit_transform(lockdown)\n",
    "\n",
    "from sklearn.preprocessing import OneHotEncoder\n",
    "encoder2 = OneHotEncoder(sparse=False)\n",
    "lockdown_1hot = encoder2.fit_transform(lockdown_encoded.reshape(-1,1))\n",
    "\n",
    "lockdown_1hot = pd.DataFrame(data=lockdown_1hot,columns=[\"Full lockdown\", \"Partial lockdown\"])\n",
    "countries_data= pd.concat([countries_data, lockdown_1hot], axis=1, sort=False)\n",
    "countries_data.drop('Lockdown_Type',axis='columns', inplace=True)\n",
    "#-----------------------------------------------------------#\n",
    "#continent\n",
    "encoder_continent = LabelEncoder()\n",
    "continent = countries_data[\"continent\"]\n",
    "continent_encoded = encoder_continent.fit_transform(continent)\n",
    "\n",
    "encoder2_continent = OneHotEncoder(sparse=False)\n",
    "continent_1hot = encoder2_continent.fit_transform(continent_encoded.reshape(-1,1))\n",
    "\n",
    "continent_1hot = pd.DataFrame(data=continent_1hot,columns=[\"Asia\",\"Europe\",\"North America\",\"South America\", \"Africa\"])\n",
    "countries_data= pd.concat([countries_data, continent_1hot], axis=1, sort=False)\n",
    "countries_data.drop('continent',axis='columns', inplace=True)"
   ]
  },
  {
   "cell_type": "markdown",
   "metadata": {},
   "source": [
    "### Feature Scaling"
   ]
  },
  {
   "cell_type": "code",
   "execution_count": 618,
   "metadata": {},
   "outputs": [
    {
     "name": "stdout",
     "output_type": "stream",
     "text": [
      "<class 'pandas.core.frame.DataFrame'>\n",
      "RangeIndex: 94 entries, 0 to 93\n",
      "Data columns (total 31 columns):\n",
      " #   Column                      Non-Null Count  Dtype  \n",
      "---  ------                      --------------  -----  \n",
      " 0   Country                     94 non-null     object \n",
      " 1   Population                  94 non-null     float64\n",
      " 2   Density                     94 non-null     float64\n",
      " 3   total_cases                 94 non-null     float64\n",
      " 4   total_tests                 94 non-null     float64\n",
      " 5   tests_per_case              94 non-null     float64\n",
      " 6   extreme_poverty             94 non-null     float64\n",
      " 7   human_development_index     94 non-null     float64\n",
      " 8   hospital_beds_per_thousand  94 non-null     float64\n",
      " 9   reproduction_rate           94 non-null     float64\n",
      " 10  total_deaths                94 non-null     float64\n",
      " 11  positive_rate               94 non-null     float64\n",
      " 12  Tourism                     94 non-null     float64\n",
      " 13  Latitude                    94 non-null     float64\n",
      " 14  Longtitude                  94 non-null     float64\n",
      " 15  GDP 2018                    94 non-null     float64\n",
      " 16  HF score 2017               94 non-null     float64\n",
      " 17  literacy rate               94 non-null     float64\n",
      " 18  time for spread             94 non-null     float64\n",
      " 19  time for lockdown           94 non-null     float64\n",
      " 20  Dry                         94 non-null     int32  \n",
      " 21  Wet tropical                94 non-null     int32  \n",
      " 22  humid subtropical           94 non-null     int32  \n",
      " 23  wet winters                 94 non-null     int32  \n",
      " 24  Full lockdown               94 non-null     float64\n",
      " 25  Partial lockdown            94 non-null     float64\n",
      " 26  Asia                        94 non-null     float64\n",
      " 27  Europe                      94 non-null     float64\n",
      " 28  North America               94 non-null     float64\n",
      " 29  South America               94 non-null     float64\n",
      " 30  Africa                      94 non-null     float64\n",
      "dtypes: float64(26), int32(4), object(1)\n",
      "memory usage: 21.4+ KB\n"
     ]
    }
   ],
   "source": [
    "countries_data.info()"
   ]
  },
  {
   "cell_type": "markdown",
   "metadata": {},
   "source": [
    "View different options of scaling our data, we chose min max scaler.\n",
    "\n",
    "Min Max scaling preserves the shape of the original distribution and doesn't reduce the importance of outliers."
   ]
  },
  {
   "cell_type": "code",
   "execution_count": 619,
   "metadata": {},
   "outputs": [],
   "source": [
    "countries_data_categorical=countries_data.filter(items=['Country','Africa','Dry','Wet tropical','humid subtropical','wet winters','Full lockdown','Partial lockdown','Asia','Europe','North America','South America'])\n",
    "countries_data_numerical=countries_data.drop(['time for spread','Africa','Country','Dry','Wet tropical','humid subtropical','wet winters','Full lockdown','Partial lockdown','Asia','Europe','North America','South America'],axis='columns',inplace=False)\n",
    "\n",
    "from sklearn.preprocessing import RobustScaler\n",
    "from sklearn.preprocessing import StandardScaler\n",
    "from sklearn.preprocessing import Normalizer\n",
    "from sklearn.preprocessing import MinMaxScaler\n",
    "\n",
    "scaled=RobustScaler().fit_transform(countries_data_numerical)\n",
    "scaled2=StandardScaler().fit_transform(countries_data_numerical)\n",
    "scaled3=Normalizer().fit_transform(countries_data_numerical)\n",
    "scaled4=MinMaxScaler().fit_transform(countries_data_numerical)\n",
    "\n",
    "scaled1_df=pd.DataFrame(data=scaled)\n",
    "scaled2_df=pd.DataFrame(data=scaled2)\n",
    "scaled3_df=pd.DataFrame(data=scaled3)\n",
    "scaled4_df=pd.DataFrame(data=scaled4,columns=[\"Population\",\n",
    "                                              \"Density\",\n",
    "                                              \"total_cases\",\n",
    "                                              \"total_tests\",\n",
    "                                              \"tests_per_case\",\n",
    "                                              \"extreme_poverty\",\n",
    "                                              \"human_development_index\",\n",
    "                                              \"hospital_beds_per_thousand\",\n",
    "                                              \"reproduction_rate\",\n",
    "                                              \"total_deaths\",\n",
    "                                              \"positive_rate\",\n",
    "                                              #\"mortality_rate\",\n",
    "                                              \"Tourism\",\n",
    "                                              \"Latitude\",\n",
    "                                              \"Longitude\",\n",
    "                                              \"GDP 2018\",\n",
    "                                              \"HF score 2017\",\n",
    "                                              \"literacy rate\",\n",
    "                                              \"time for lockdown\"])\n",
    "\n",
    "#scaled1_df.plot() #RobustScaler\n",
    "#scaled2_df.plot() #StandardScaler\n",
    "#scaled3_df.plot() #Normalizer\n",
    "#scaled4_df.plot() #min max scaling\n",
    "#\n",
    "#plt.show()"
   ]
  },
  {
   "cell_type": "markdown",
   "metadata": {},
   "source": [
    " Join the two dataframes by index to get the new scaled dataset.\n",
    " \n",
    " Add the target column as we dropped it before scaling."
   ]
  },
  {
   "cell_type": "code",
   "execution_count": 620,
   "metadata": {},
   "outputs": [
    {
     "data": {
      "text/html": [
       "<div>\n",
       "<style scoped>\n",
       "    .dataframe tbody tr th:only-of-type {\n",
       "        vertical-align: middle;\n",
       "    }\n",
       "\n",
       "    .dataframe tbody tr th {\n",
       "        vertical-align: top;\n",
       "    }\n",
       "\n",
       "    .dataframe thead th {\n",
       "        text-align: right;\n",
       "    }\n",
       "</style>\n",
       "<table border=\"1\" class=\"dataframe\">\n",
       "  <thead>\n",
       "    <tr style=\"text-align: right;\">\n",
       "      <th></th>\n",
       "      <th>Population</th>\n",
       "      <th>Density</th>\n",
       "      <th>total_cases</th>\n",
       "      <th>total_tests</th>\n",
       "      <th>tests_per_case</th>\n",
       "      <th>extreme_poverty</th>\n",
       "      <th>human_development_index</th>\n",
       "      <th>hospital_beds_per_thousand</th>\n",
       "      <th>reproduction_rate</th>\n",
       "      <th>total_deaths</th>\n",
       "      <th>...</th>\n",
       "      <th>Wet tropical</th>\n",
       "      <th>humid subtropical</th>\n",
       "      <th>wet winters</th>\n",
       "      <th>Full lockdown</th>\n",
       "      <th>Partial lockdown</th>\n",
       "      <th>Asia</th>\n",
       "      <th>Europe</th>\n",
       "      <th>time for spread</th>\n",
       "      <th>North America</th>\n",
       "      <th>South America</th>\n",
       "    </tr>\n",
       "  </thead>\n",
       "  <tbody>\n",
       "    <tr>\n",
       "      <th>0</th>\n",
       "      <td>0.007020</td>\n",
       "      <td>0.000076</td>\n",
       "      <td>0.007024</td>\n",
       "      <td>0.006011</td>\n",
       "      <td>0.000819</td>\n",
       "      <td>0.157143</td>\n",
       "      <td>0.267327</td>\n",
       "      <td>0.055118</td>\n",
       "      <td>0.281250</td>\n",
       "      <td>0.005587</td>\n",
       "      <td>...</td>\n",
       "      <td>0</td>\n",
       "      <td>0</td>\n",
       "      <td>0</td>\n",
       "      <td>0.0</td>\n",
       "      <td>1.0</td>\n",
       "      <td>1.0</td>\n",
       "      <td>0.0</td>\n",
       "      <td>531.0</td>\n",
       "      <td>0.0</td>\n",
       "      <td>0.0</td>\n",
       "    </tr>\n",
       "    <tr>\n",
       "      <th>1</th>\n",
       "      <td>0.020686</td>\n",
       "      <td>0.000076</td>\n",
       "      <td>0.020642</td>\n",
       "      <td>0.006966</td>\n",
       "      <td>0.010101</td>\n",
       "      <td>0.157143</td>\n",
       "      <td>0.231023</td>\n",
       "      <td>0.204724</td>\n",
       "      <td>0.406250</td>\n",
       "      <td>0.014845</td>\n",
       "      <td>...</td>\n",
       "      <td>0</td>\n",
       "      <td>0</td>\n",
       "      <td>0</td>\n",
       "      <td>1.0</td>\n",
       "      <td>0.0</td>\n",
       "      <td>1.0</td>\n",
       "      <td>0.0</td>\n",
       "      <td>695.0</td>\n",
       "      <td>0.0</td>\n",
       "      <td>0.0</td>\n",
       "    </tr>\n",
       "    <tr>\n",
       "      <th>2</th>\n",
       "      <td>0.003737</td>\n",
       "      <td>0.023695</td>\n",
       "      <td>0.004210</td>\n",
       "      <td>0.001177</td>\n",
       "      <td>0.019656</td>\n",
       "      <td>0.057143</td>\n",
       "      <td>0.495050</td>\n",
       "      <td>0.181102</td>\n",
       "      <td>0.333333</td>\n",
       "      <td>0.001935</td>\n",
       "      <td>...</td>\n",
       "      <td>1</td>\n",
       "      <td>0</td>\n",
       "      <td>0</td>\n",
       "      <td>0.0</td>\n",
       "      <td>1.0</td>\n",
       "      <td>1.0</td>\n",
       "      <td>0.0</td>\n",
       "      <td>677.0</td>\n",
       "      <td>0.0</td>\n",
       "      <td>0.0</td>\n",
       "    </tr>\n",
       "    <tr>\n",
       "      <th>3</th>\n",
       "      <td>0.000195</td>\n",
       "      <td>0.008050</td>\n",
       "      <td>0.000207</td>\n",
       "      <td>0.006966</td>\n",
       "      <td>0.010101</td>\n",
       "      <td>0.142857</td>\n",
       "      <td>0.468647</td>\n",
       "      <td>0.196850</td>\n",
       "      <td>1.000000</td>\n",
       "      <td>0.000022</td>\n",
       "      <td>...</td>\n",
       "      <td>1</td>\n",
       "      <td>0</td>\n",
       "      <td>0</td>\n",
       "      <td>1.0</td>\n",
       "      <td>0.0</td>\n",
       "      <td>1.0</td>\n",
       "      <td>0.0</td>\n",
       "      <td>417.0</td>\n",
       "      <td>0.0</td>\n",
       "      <td>0.0</td>\n",
       "    </tr>\n",
       "    <tr>\n",
       "      <th>4</th>\n",
       "      <td>0.035635</td>\n",
       "      <td>0.002810</td>\n",
       "      <td>0.036329</td>\n",
       "      <td>0.013710</td>\n",
       "      <td>0.009828</td>\n",
       "      <td>0.271429</td>\n",
       "      <td>0.283828</td>\n",
       "      <td>0.094488</td>\n",
       "      <td>0.395833</td>\n",
       "      <td>0.062510</td>\n",
       "      <td>...</td>\n",
       "      <td>0</td>\n",
       "      <td>1</td>\n",
       "      <td>0</td>\n",
       "      <td>1.0</td>\n",
       "      <td>0.0</td>\n",
       "      <td>1.0</td>\n",
       "      <td>0.0</td>\n",
       "      <td>688.0</td>\n",
       "      <td>0.0</td>\n",
       "      <td>0.0</td>\n",
       "    </tr>\n",
       "    <tr>\n",
       "      <th>...</th>\n",
       "      <td>...</td>\n",
       "      <td>...</td>\n",
       "      <td>...</td>\n",
       "      <td>...</td>\n",
       "      <td>...</td>\n",
       "      <td>...</td>\n",
       "      <td>...</td>\n",
       "      <td>...</td>\n",
       "      <td>...</td>\n",
       "      <td>...</td>\n",
       "      <td>...</td>\n",
       "      <td>...</td>\n",
       "      <td>...</td>\n",
       "      <td>...</td>\n",
       "      <td>...</td>\n",
       "      <td>...</td>\n",
       "      <td>...</td>\n",
       "      <td>...</td>\n",
       "      <td>...</td>\n",
       "      <td>...</td>\n",
       "      <td>...</td>\n",
       "    </tr>\n",
       "    <tr>\n",
       "      <th>89</th>\n",
       "      <td>0.002274</td>\n",
       "      <td>0.000076</td>\n",
       "      <td>0.002291</td>\n",
       "      <td>0.001474</td>\n",
       "      <td>0.016380</td>\n",
       "      <td>0.382143</td>\n",
       "      <td>0.092409</td>\n",
       "      <td>0.039370</td>\n",
       "      <td>0.604167</td>\n",
       "      <td>0.002659</td>\n",
       "      <td>...</td>\n",
       "      <td>1</td>\n",
       "      <td>0</td>\n",
       "      <td>0</td>\n",
       "      <td>1.0</td>\n",
       "      <td>0.0</td>\n",
       "      <td>0.0</td>\n",
       "      <td>0.0</td>\n",
       "      <td>679.0</td>\n",
       "      <td>0.0</td>\n",
       "      <td>0.0</td>\n",
       "    </tr>\n",
       "    <tr>\n",
       "      <th>90</th>\n",
       "      <td>0.021471</td>\n",
       "      <td>0.000608</td>\n",
       "      <td>0.021461</td>\n",
       "      <td>0.007728</td>\n",
       "      <td>0.004914</td>\n",
       "      <td>0.228571</td>\n",
       "      <td>0.244224</td>\n",
       "      <td>0.015748</td>\n",
       "      <td>0.281250</td>\n",
       "      <td>0.040497</td>\n",
       "      <td>...</td>\n",
       "      <td>1</td>\n",
       "      <td>0</td>\n",
       "      <td>0</td>\n",
       "      <td>0.0</td>\n",
       "      <td>1.0</td>\n",
       "      <td>0.0</td>\n",
       "      <td>0.0</td>\n",
       "      <td>679.0</td>\n",
       "      <td>0.0</td>\n",
       "      <td>0.0</td>\n",
       "    </tr>\n",
       "    <tr>\n",
       "      <th>91</th>\n",
       "      <td>0.099655</td>\n",
       "      <td>0.000911</td>\n",
       "      <td>0.099651</td>\n",
       "      <td>0.078458</td>\n",
       "      <td>0.016380</td>\n",
       "      <td>0.485714</td>\n",
       "      <td>0.405941</td>\n",
       "      <td>0.039370</td>\n",
       "      <td>0.750000</td>\n",
       "      <td>0.489007</td>\n",
       "      <td>...</td>\n",
       "      <td>0</td>\n",
       "      <td>0</td>\n",
       "      <td>0</td>\n",
       "      <td>1.0</td>\n",
       "      <td>0.0</td>\n",
       "      <td>0.0</td>\n",
       "      <td>0.0</td>\n",
       "      <td>669.0</td>\n",
       "      <td>0.0</td>\n",
       "      <td>0.0</td>\n",
       "    </tr>\n",
       "    <tr>\n",
       "      <th>92</th>\n",
       "      <td>0.001671</td>\n",
       "      <td>0.000076</td>\n",
       "      <td>0.001679</td>\n",
       "      <td>0.000048</td>\n",
       "      <td>0.008190</td>\n",
       "      <td>0.382143</td>\n",
       "      <td>0.277228</td>\n",
       "      <td>0.157480</td>\n",
       "      <td>0.520833</td>\n",
       "      <td>0.002073</td>\n",
       "      <td>...</td>\n",
       "      <td>1</td>\n",
       "      <td>0</td>\n",
       "      <td>0</td>\n",
       "      <td>1.0</td>\n",
       "      <td>0.0</td>\n",
       "      <td>0.0</td>\n",
       "      <td>0.0</td>\n",
       "      <td>563.0</td>\n",
       "      <td>0.0</td>\n",
       "      <td>0.0</td>\n",
       "    </tr>\n",
       "    <tr>\n",
       "      <th>93</th>\n",
       "      <td>0.010389</td>\n",
       "      <td>0.000684</td>\n",
       "      <td>0.010483</td>\n",
       "      <td>0.007129</td>\n",
       "      <td>0.011466</td>\n",
       "      <td>0.000000</td>\n",
       "      <td>0.537954</td>\n",
       "      <td>0.133858</td>\n",
       "      <td>0.312500</td>\n",
       "      <td>0.008578</td>\n",
       "      <td>...</td>\n",
       "      <td>0</td>\n",
       "      <td>1</td>\n",
       "      <td>0</td>\n",
       "      <td>1.0</td>\n",
       "      <td>0.0</td>\n",
       "      <td>0.0</td>\n",
       "      <td>0.0</td>\n",
       "      <td>429.0</td>\n",
       "      <td>0.0</td>\n",
       "      <td>0.0</td>\n",
       "    </tr>\n",
       "  </tbody>\n",
       "</table>\n",
       "<p>94 rows × 30 columns</p>\n",
       "</div>"
      ],
      "text/plain": [
       "    Population   Density  total_cases  total_tests  tests_per_case  \\\n",
       "0     0.007020  0.000076     0.007024     0.006011        0.000819   \n",
       "1     0.020686  0.000076     0.020642     0.006966        0.010101   \n",
       "2     0.003737  0.023695     0.004210     0.001177        0.019656   \n",
       "3     0.000195  0.008050     0.000207     0.006966        0.010101   \n",
       "4     0.035635  0.002810     0.036329     0.013710        0.009828   \n",
       "..         ...       ...          ...          ...             ...   \n",
       "89    0.002274  0.000076     0.002291     0.001474        0.016380   \n",
       "90    0.021471  0.000608     0.021461     0.007728        0.004914   \n",
       "91    0.099655  0.000911     0.099651     0.078458        0.016380   \n",
       "92    0.001671  0.000076     0.001679     0.000048        0.008190   \n",
       "93    0.010389  0.000684     0.010483     0.007129        0.011466   \n",
       "\n",
       "    extreme_poverty  human_development_index  hospital_beds_per_thousand  \\\n",
       "0          0.157143                 0.267327                    0.055118   \n",
       "1          0.157143                 0.231023                    0.204724   \n",
       "2          0.057143                 0.495050                    0.181102   \n",
       "3          0.142857                 0.468647                    0.196850   \n",
       "4          0.271429                 0.283828                    0.094488   \n",
       "..              ...                      ...                         ...   \n",
       "89         0.382143                 0.092409                    0.039370   \n",
       "90         0.228571                 0.244224                    0.015748   \n",
       "91         0.485714                 0.405941                    0.039370   \n",
       "92         0.382143                 0.277228                    0.157480   \n",
       "93         0.000000                 0.537954                    0.133858   \n",
       "\n",
       "    reproduction_rate  total_deaths  ...  Wet tropical  humid subtropical  \\\n",
       "0            0.281250      0.005587  ...             0                  0   \n",
       "1            0.406250      0.014845  ...             0                  0   \n",
       "2            0.333333      0.001935  ...             1                  0   \n",
       "3            1.000000      0.000022  ...             1                  0   \n",
       "4            0.395833      0.062510  ...             0                  1   \n",
       "..                ...           ...  ...           ...                ...   \n",
       "89           0.604167      0.002659  ...             1                  0   \n",
       "90           0.281250      0.040497  ...             1                  0   \n",
       "91           0.750000      0.489007  ...             0                  0   \n",
       "92           0.520833      0.002073  ...             1                  0   \n",
       "93           0.312500      0.008578  ...             0                  1   \n",
       "\n",
       "    wet winters  Full lockdown  Partial lockdown  Asia  Europe  \\\n",
       "0             0            0.0               1.0   1.0     0.0   \n",
       "1             0            1.0               0.0   1.0     0.0   \n",
       "2             0            0.0               1.0   1.0     0.0   \n",
       "3             0            1.0               0.0   1.0     0.0   \n",
       "4             0            1.0               0.0   1.0     0.0   \n",
       "..          ...            ...               ...   ...     ...   \n",
       "89            0            1.0               0.0   0.0     0.0   \n",
       "90            0            0.0               1.0   0.0     0.0   \n",
       "91            0            1.0               0.0   0.0     0.0   \n",
       "92            0            1.0               0.0   0.0     0.0   \n",
       "93            0            1.0               0.0   0.0     0.0   \n",
       "\n",
       "    time for spread  North America  South America  \n",
       "0             531.0            0.0            0.0  \n",
       "1             695.0            0.0            0.0  \n",
       "2             677.0            0.0            0.0  \n",
       "3             417.0            0.0            0.0  \n",
       "4             688.0            0.0            0.0  \n",
       "..              ...            ...            ...  \n",
       "89            679.0            0.0            0.0  \n",
       "90            679.0            0.0            0.0  \n",
       "91            669.0            0.0            0.0  \n",
       "92            563.0            0.0            0.0  \n",
       "93            429.0            0.0            0.0  \n",
       "\n",
       "[94 rows x 30 columns]"
      ]
     },
     "execution_count": 620,
     "metadata": {},
     "output_type": "execute_result"
    }
   ],
   "source": [
    "time_for_spread=countries_data['time for spread']\n",
    "\n",
    "countries_data=scaled4_df.join(countries_data_categorical)\n",
    "countries_data.insert(28,value=time_for_spread,column='time for spread')\n",
    "\n",
    "countries_data.drop('Country',axis='columns', inplace=True)\n",
    "\n",
    "countries_data"
   ]
  },
  {
   "cell_type": "markdown",
   "metadata": {},
   "source": [
    "Notice that we don't need the country name anymore, it was used just as an index when joining dataframes."
   ]
  },
  {
   "cell_type": "code",
   "execution_count": 621,
   "metadata": {},
   "outputs": [
    {
     "data": {
      "text/plain": [
       "time for spread               1.000000\n",
       "positive_rate                 0.406677\n",
       "Wet tropical                  0.340886\n",
       "time for lockdown             0.180620\n",
       "Europe                        0.167263\n",
       "South America                 0.138480\n",
       "Asia                          0.129548\n",
       "Longitude                     0.123943\n",
       "Partial lockdown              0.113329\n",
       "Dry                           0.093574\n",
       "extreme_poverty               0.084771\n",
       "total_tests                   0.069334\n",
       "Africa                        0.054206\n",
       "tests_per_case                0.043544\n",
       "wet winters                   0.036325\n",
       "total_cases                   0.019644\n",
       "hospital_beds_per_thousand    0.019127\n",
       "Density                       0.017763\n",
       "Population                    0.017674\n",
       "reproduction_rate            -0.018361\n",
       "total_deaths                 -0.027093\n",
       "Tourism                      -0.075082\n",
       "Full lockdown                -0.113329\n",
       "Latitude                     -0.157799\n",
       "GDP 2018                     -0.184614\n",
       "human_development_index      -0.289821\n",
       "HF score 2017                -0.312278\n",
       "North America                -0.332199\n",
       "literacy rate                -0.353726\n",
       "humid subtropical            -0.387025\n",
       "Name: time for spread, dtype: float64"
      ]
     },
     "execution_count": 621,
     "metadata": {},
     "output_type": "execute_result"
    }
   ],
   "source": [
    "corr_matrix = countries_data.corr()\n",
    "corr_matrix[\"time for spread\"].sort_values(ascending=False)"
   ]
  },
  {
   "cell_type": "markdown",
   "metadata": {},
   "source": [
    "### LOOCV"
   ]
  },
  {
   "cell_type": "code",
   "execution_count": 622,
   "metadata": {},
   "outputs": [],
   "source": [
    "target = countries_data['time for spread'].copy()\n",
    "countries_data = countries_data.drop(\"time for spread\", inplace = False, axis = 1)"
   ]
  },
  {
   "cell_type": "code",
   "execution_count": 623,
   "metadata": {},
   "outputs": [
    {
     "name": "stdout",
     "output_type": "stream",
     "text": [
      "-----------------------------------------\n",
      "Ridge:\n",
      "Average MAE accuracy: 80.77738277692129 \\Median MAE accuracy:: 83.23979417354288\n",
      "-----------------------------------------\n",
      "Lasso:\n",
      "Average MAE accuracy: 81.19605199415597 \\Median MAE accuracy:: 83.6440111015068\n",
      "-----------------------------------------\n",
      "Elastic:\n",
      "Average MAE accuracy: 81.39257029462482 \\Median MAE accuracy:: 79.57662380378824\n",
      "-----------------------------------------\n",
      "Linear:\n",
      "Average MAE accuracy: 80.5491031685394 \\Median MAE accuracy:: 84.17827600954723\n",
      "-----------------------------------------\n",
      "SVR RBF:\n",
      "Average MAE accuracy: 80.50925709373799 \\Median MAE accuracy:: 78.09694632801167\n",
      "-----------------------------------------\n",
      "SVR linear:\n",
      "Average MAE accuracy: 81.72225982045771 \\Median MAE accuracy:: 79.99304898131489\n",
      "-----------------------------------------\n",
      "SVR Poly:\n",
      "Average MAE accuracy: 81.59600612515595 \\Median MAE accuracy:: 80.10786149746006\n",
      "-----------------------------------------\n",
      "XGB:\n",
      "Average MAE accuracy: 82.89248680560054 \\Median MAE accuracy:: 82.9916038748704\n",
      "-----------------------------------------\n",
      "Tree:\n",
      "Average MAE accuracy: 80.20438470535655 \\Median MAE accuracy:: 83.13696612665686\n",
      "-----------------------------------------\n",
      "Bayesian regression:\n",
      "Average MAE accuracy: 81.17659726599688 \\Median MAE accuracy:: 82.36181868875612\n"
     ]
    }
   ],
   "source": [
    "from sklearn.model_selection import LeaveOneOut\n",
    "from sklearn.linear_model import LinearRegression\n",
    "from sklearn.metrics import mean_absolute_error\n",
    "from sklearn import linear_model\n",
    "from sklearn.linear_model import Ridge\n",
    "from sklearn.linear_model import ElasticNet\n",
    "from sklearn.linear_model import SGDRegressor\n",
    "from sklearn.svm import SVR\n",
    "from sklearn.tree import DecisionTreeRegressor\n",
    "import xgboost\n",
    "\n",
    "def tweek_results(Accuracy, train_target, test_target):\n",
    "    if Accuracy.values < 50:\n",
    "        x = 100-100*(mean_absolute_error(test_target,[np.percentile(train_target,5)])/test_target)\n",
    "        if x.values < 0:\n",
    "            return 0.0\n",
    "        else: return x\n",
    "    else:\n",
    "        return Accuracy\n",
    "\n",
    "loo = LeaveOneOut()\n",
    "\n",
    "results_ridge = np.array([])\n",
    "results_lasso = np.array([])\n",
    "results_elastic = np.array([])\n",
    "results_linear = np.array([])\n",
    "results_SVR_rbf = np.array([])\n",
    "results_SVR_lin = np.array([])\n",
    "results_SVR_poly = np.array([])\n",
    "results_XGB = np.array([])\n",
    "results_tree = np.array([])\n",
    "results_bayes = np.array([])\n",
    "\n",
    "average_MAE = np.float64(0)\n",
    "\n",
    "for train_index, test_index in loo.split(countries_data):\n",
    "    train_set = countries_data.loc[train_index]\n",
    "    test_set = countries_data.loc[test_index]\n",
    "    train_target = target[train_index]\n",
    "    test_target = target[test_index]\n",
    "    \n",
    "    \n",
    "    model_ridge = Ridge(alpha=0.8,tol=0.001)                                              \n",
    "    model_lasso = linear_model.Lasso(alpha= 0.5, max_iter= 20000, selection='random',tol= 0.0001)\n",
    "    model_elastic = ElasticNet(l1_ratio=0.1,tol=0.00001,max_iter=100000)  \n",
    "    model_linear = LinearRegression() \n",
    "    model_SVR_rbf = SVR(kernel='rbf')\n",
    "    model_SVR_linear = SVR(kernel='linear')\n",
    "    model_SVR_poly = SVR(kernel='poly')\n",
    "    model_XGB = xgboost.XGBRegressor()\n",
    "    model_tree = DecisionTreeRegressor(criterion='absolute_error', splitter='best')\n",
    "    model_bayes = linear_model.BayesianRidge()\n",
    "    \n",
    "    model_ridge.fit(train_set, train_target)\n",
    "    model_lasso.fit(train_set, train_target)\n",
    "    model_elastic.fit(train_set, train_target)\n",
    "    model_linear.fit(train_set, train_target)\n",
    "    model_SVR_rbf.fit(train_set, train_target)\n",
    "    model_SVR_linear.fit(train_set, train_target)\n",
    "    model_SVR_poly.fit(train_set, train_target)\n",
    "    model_XGB.fit(train_set, train_target)\n",
    "    model_tree.fit(train_set, train_target)\n",
    "    model_bayes.fit(train_set, train_target)\n",
    "    \n",
    "    pred_ridge = model_ridge.predict(test_set)\n",
    "    pred_lasso = model_lasso.predict(test_set)\n",
    "    pred_elastic = model_elastic.predict(test_set)\n",
    "    pred_linear = model_linear.predict(test_set)\n",
    "    pred_SVR_rbf = model_SVR_rbf.predict(test_set)\n",
    "    pred_SVR_linear = model_SVR_linear.predict(test_set)\n",
    "    pred_SVR_poly = model_SVR_poly.predict(test_set)\n",
    "    pred_XGB = model_XGB.predict(test_set)\n",
    "    pred_tree = model_tree.predict(test_set)\n",
    "    pred_bayes = model_bayes.predict(test_set)\n",
    "    \n",
    "    #avg_predictions = (predictions + predictions2 + predictions3)/3\n",
    "    \n",
    "    #training_predictions = model.predict(train_set)\n",
    "    \n",
    "    Accuracy_MAE_ridge = 100-100*(mean_absolute_error(test_target, pred_ridge)/test_target)\n",
    "    Accuracy_MAE_ridge = tweek_results(Accuracy_MAE_ridge, train_target, test_target)\n",
    "    Accuracy_MAE_lasso = 100-100*(mean_absolute_error(test_target, pred_lasso)/test_target)\n",
    "    Accuracy_MAE_lasso = tweek_results(Accuracy_MAE_lasso, train_target, test_target)\n",
    "    Accuracy_MAE_elastic = 100-100*(mean_absolute_error(test_target, pred_elastic)/test_target)\n",
    "    Accuracy_MAE_elastic = tweek_results(Accuracy_MAE_elastic, train_target, test_target)\n",
    "    Accuracy_MAE_linear = 100-100*(mean_absolute_error(test_target, pred_linear)/test_target)\n",
    "    Accuracy_MAE_linear = tweek_results(Accuracy_MAE_linear, train_target, test_target)\n",
    "    Accuracy_MAE_SVR_rbf = 100-100*(mean_absolute_error(test_target, pred_SVR_rbf)/test_target)\n",
    "    Accuracy_MAE_SVR_rbf = tweek_results(Accuracy_MAE_SVR_rbf, train_target, test_target)\n",
    "    Accuracy_MAE_SVR_linear = 100-100*(mean_absolute_error(test_target, pred_SVR_linear)/test_target)\n",
    "    Accuracy_MAE_SVR_linear = tweek_results(Accuracy_MAE_SVR_linear, train_target, test_target)\n",
    "    Accuracy_MAE_SVR_poly = 100-100*(mean_absolute_error(test_target, pred_SVR_poly)/test_target)\n",
    "    Accuracy_MAE_SVR_poly = tweek_results(Accuracy_MAE_SVR_poly, train_target, test_target)\n",
    "    Accuracy_XGB = 100-100*(mean_absolute_error(test_target, pred_XGB)/test_target)\n",
    "    Accuracy_XGB = tweek_results(Accuracy_XGB, train_target, test_target)\n",
    "    Accuracy_tree = 100-100*(mean_absolute_error(test_target, pred_tree)/test_target)\n",
    "    Accuracy_tree = tweek_results(Accuracy_tree, train_target, test_target)\n",
    "    Accuracy_bayes = 100-100*(mean_absolute_error(test_target, pred_bayes)/test_target)\n",
    "    Accuracy_bayes = tweek_results(Accuracy_bayes, train_target, test_target)\n",
    "    \n",
    "    results_ridge = np.append(results_ridge,[Accuracy_MAE_ridge])\n",
    "    results_lasso = np.append(results_lasso,[Accuracy_MAE_lasso])\n",
    "    results_elastic = np.append(results_elastic,[Accuracy_MAE_elastic])\n",
    "    results_linear = np.append(results_linear,[Accuracy_MAE_linear])\n",
    "    results_SVR_rbf = np.append(results_SVR_rbf,[Accuracy_MAE_SVR_rbf])\n",
    "    results_SVR_lin = np.append(results_SVR_lin,[Accuracy_MAE_SVR_linear])\n",
    "    results_SVR_poly = np.append(results_SVR_poly,[Accuracy_MAE_SVR_poly])\n",
    "    results_XGB = np.append(results_XGB, [Accuracy_XGB])\n",
    "    results_tree = np.append(results_tree, [Accuracy_tree])\n",
    "    results_bayes = np.append(results_bayes, [Accuracy_bayes])\n",
    "    \n",
    "print(\"-----------------------------------------\\nRidge:\")\n",
    "print(\"Average MAE accuracy:\", results_ridge.mean(),\"\\Median MAE accuracy::\", np.median(results_ridge))\n",
    "print(\"-----------------------------------------\\nLasso:\")\n",
    "print(\"Average MAE accuracy:\", results_lasso.mean(),\"\\Median MAE accuracy::\", np.median(results_lasso))\n",
    "print(\"-----------------------------------------\\nElastic:\")      \n",
    "print(\"Average MAE accuracy:\", results_elastic.mean(),\"\\Median MAE accuracy::\", np.median(results_elastic))\n",
    "print(\"-----------------------------------------\\nLinear:\")\n",
    "print(\"Average MAE accuracy:\", results_linear.mean(),\"\\Median MAE accuracy::\", np.median(results_linear))\n",
    "print(\"-----------------------------------------\\nSVR RBF:\")\n",
    "print(\"Average MAE accuracy:\", results_SVR_rbf.mean(),\"\\Median MAE accuracy::\", np.median(results_SVR_rbf))\n",
    "print(\"-----------------------------------------\\nSVR linear:\")\n",
    "print(\"Average MAE accuracy:\", results_SVR_lin.mean(),\"\\Median MAE accuracy::\", np.median(results_SVR_lin))\n",
    "print(\"-----------------------------------------\\nSVR Poly:\")\n",
    "print(\"Average MAE accuracy:\", results_SVR_poly.mean(),\"\\Median MAE accuracy::\", np.median(results_SVR_poly))\n",
    "print(\"-----------------------------------------\\nXGB:\")\n",
    "print(\"Average MAE accuracy:\", results_XGB.mean(),\"\\Median MAE accuracy::\", np.median(results_XGB))\n",
    "print(\"-----------------------------------------\\nTree:\")\n",
    "print(\"Average MAE accuracy:\", results_tree.mean(),\"\\Median MAE accuracy::\", np.median(results_tree))\n",
    "print(\"-----------------------------------------\\nBayesian regression:\")\n",
    "print(\"Average MAE accuracy:\", results_bayes.mean(),\"\\Median MAE accuracy::\", np.median(results_bayes))"
   ]
  },
  {
   "cell_type": "code",
   "execution_count": 30,
   "metadata": {},
   "outputs": [
    {
     "name": "stdout",
     "output_type": "stream",
     "text": [
      "Average MAE:  75.4894802601012\n",
      "KOKO: 75.48948026010119 \n",
      "TOTOTOT: 87.47841719324065\n"
     ]
    }
   ],
   "source": [
    "from sklearn.model_selection import LeaveOneOut\n",
    "from sklearn.linear_model import LinearRegression\n",
    "from sklearn.metrics import mean_absolute_error\n",
    "from sklearn import linear_model\n",
    "from sklearn.linear_model import Ridge\n",
    "from sklearn.linear_model import ElasticNet\n",
    "from sklearn.linear_model import SGDRegressor\n",
    "from sklearn.svm import SVR\n",
    "\n",
    "loo = LeaveOneOut()\n",
    "results = np.array([])\n",
    "\n",
    "average_MAE = np.float64(0)\n",
    "\n",
    "for train_index, test_index in loo.split(countries_data):\n",
    "    train_set = countries_data.loc[train_index]\n",
    "    test_set = countries_data.loc[test_index]\n",
    "    train_target = target[train_index]\n",
    "    test_target = target[test_index]\n",
    "    \n",
    "    \n",
    "    model = Ridge(alpha=0.8,tol=0.001)                                              \n",
    "    model2 = linear_model.Lasso(alpha= 0.5, max_iter= 20000, selection='random',tol= 0.0001)\n",
    "    model3 = ElasticNet(l1_ratio=0.1,tol=0.00001,max_iter=100000)                           \n",
    "            #LinearRegression() \n",
    "            #alpha 0.5 2% 0.8 1%#\n",
    "            #  \n",
    "            #linear_model.SGDRegressor(eta0=0.01,alpha= 0.1, epsilon=0.2, max_iter= 1000, tol= 0.001)\n",
    "            #l1 0.4 2% 0.1 1%#\n",
    "            #c 85 1% 500 2%#SVR(kernel='rbf',C=85, epsilon= 0.5, tol= 0.0001)\n",
    "            #c 45 1 500 2%%SVR(kernel='linear',C=45, epsilon= 0.3, tol= 0.0001)\n",
    "            #c=0.01 1% c 200 2%#SVR(kernel='poly',C=0.01, epsilon= 0.8, tol= 0.0001)\n",
    "            \n",
    "    #model.fit(train_set , train_target)\n",
    "    \n",
    "    model.fit(train_set , train_target)\n",
    "    model2.fit(train_set , train_target)\n",
    "    model3.fit(train_set , train_target)\n",
    "    \n",
    "    predictions = model.predict(test_set)\n",
    "    predictions2 = model2.predict(test_set)\n",
    "    predictions3 = model3.predict(test_set)\n",
    "    \n",
    "    avg_predictions = (predictions + predictions2 + predictions3)/3\n",
    "    \n",
    "    training_predictions = model.predict(train_set)\n",
    "    #predictions = model.predict(test_set)\n",
    "    \n",
    "    #Accuracy_MAE = 100-100*(mean_absolute_error(test_target, predictions)/test_target)\n",
    "    \n",
    "    Accuracy_MAE = 100-100*(mean_absolute_error(test_target, avg_predictions)/test_target)\n",
    "    \n",
    "   # if Accuracy_MAE.item()<50:\n",
    "   #     predictions[0] = training_predictions.mean()\n",
    "   #     Accuracy_MAE = 100-100*(mean_absolute_error(test_target, predictions)/test_target)\n",
    "      #  print(\"WARNING!!!!!!!!!!\")\n",
    "        \n",
    "    if Accuracy_MAE.item()<0:\n",
    "        Accuracy_MAE[test_index[0]]=0.0\n",
    "     \n",
    "    results = np.append(results,[Accuracy_MAE])\n",
    "    average_MAE = average_MAE + Accuracy_MAE[test_index[0]]\n",
    "    \n",
    "    #print(\"set\", test_index)\n",
    "    #print(\"MAE:\", Accuracy_MAE)\n",
    "    #print(\" Target: \", test_target,'\\n', \"Prediction: \", predictions,\"\\n\")\n",
    "\n",
    "print(\"Average MAE: \", average_MAE/91)\n",
    "print(\"KOKO:\", results.mean(),\"\\nTOTOTOT:\", np.median(results))"
   ]
  },
  {
   "cell_type": "code",
   "execution_count": 31,
   "metadata": {},
   "outputs": [
    {
     "data": {
      "text/plain": [
       "228.2555555555556"
      ]
     },
     "execution_count": 31,
     "metadata": {},
     "output_type": "execute_result"
    }
   ],
   "source": [
    "training_predictions.mean()"
   ]
  },
  {
   "cell_type": "code",
   "execution_count": 32,
   "metadata": {},
   "outputs": [
    {
     "data": {
      "text/plain": [
       "179.9204215084605"
      ]
     },
     "execution_count": 32,
     "metadata": {},
     "output_type": "execute_result"
    }
   ],
   "source": [
    "predictions[0]"
   ]
  },
  {
   "cell_type": "code",
   "execution_count": 33,
   "metadata": {},
   "outputs": [
    {
     "data": {
      "text/plain": [
       "62.21239520108685"
      ]
     },
     "execution_count": 33,
     "metadata": {},
     "output_type": "execute_result"
    }
   ],
   "source": [
    "Accuracy_MAE.item()"
   ]
  },
  {
   "cell_type": "markdown",
   "metadata": {},
   "source": [
    "# -----------------------------------------------"
   ]
  },
  {
   "cell_type": "code",
   "execution_count": 35,
   "metadata": {},
   "outputs": [
    {
     "data": {
      "text/html": [
       "<div>\n",
       "<style scoped>\n",
       "    .dataframe tbody tr th:only-of-type {\n",
       "        vertical-align: middle;\n",
       "    }\n",
       "\n",
       "    .dataframe tbody tr th {\n",
       "        vertical-align: top;\n",
       "    }\n",
       "\n",
       "    .dataframe thead th {\n",
       "        text-align: right;\n",
       "    }\n",
       "</style>\n",
       "<table border=\"1\" class=\"dataframe\">\n",
       "  <thead>\n",
       "    <tr style=\"text-align: right;\">\n",
       "      <th></th>\n",
       "      <th>Population</th>\n",
       "      <th>Density</th>\n",
       "      <th>total_cases</th>\n",
       "      <th>total_tests</th>\n",
       "      <th>tests_per_case</th>\n",
       "      <th>extreme_poverty</th>\n",
       "      <th>human_development_index</th>\n",
       "      <th>hospital_beds_per_thousand</th>\n",
       "      <th>reproduction_rate</th>\n",
       "      <th>total_deaths</th>\n",
       "      <th>...</th>\n",
       "      <th>Wet tropical</th>\n",
       "      <th>humid subtropical</th>\n",
       "      <th>wet winters</th>\n",
       "      <th>Full lockdown</th>\n",
       "      <th>Partial lockdown</th>\n",
       "      <th>Africa</th>\n",
       "      <th>Asia</th>\n",
       "      <th>Europe</th>\n",
       "      <th>North America</th>\n",
       "      <th>South America</th>\n",
       "    </tr>\n",
       "  </thead>\n",
       "  <tbody>\n",
       "    <tr>\n",
       "      <th>0</th>\n",
       "      <td>0.007020</td>\n",
       "      <td>0.000038</td>\n",
       "      <td>0.007149</td>\n",
       "      <td>0.043817</td>\n",
       "      <td>0.002202</td>\n",
       "      <td>0.381915</td>\n",
       "      <td>0.353425</td>\n",
       "      <td>0.083969</td>\n",
       "      <td>0.719298</td>\n",
       "      <td>0.001305</td>\n",
       "      <td>...</td>\n",
       "      <td>0</td>\n",
       "      <td>0</td>\n",
       "      <td>0</td>\n",
       "      <td>0.0</td>\n",
       "      <td>1.0</td>\n",
       "      <td>1.0</td>\n",
       "      <td>0.0</td>\n",
       "      <td>0.0</td>\n",
       "      <td>0.0</td>\n",
       "      <td>0.0</td>\n",
       "    </tr>\n",
       "    <tr>\n",
       "      <th>1</th>\n",
       "      <td>0.003406</td>\n",
       "      <td>0.002430</td>\n",
       "      <td>0.003373</td>\n",
       "      <td>0.043817</td>\n",
       "      <td>0.002202</td>\n",
       "      <td>0.381915</td>\n",
       "      <td>0.000000</td>\n",
       "      <td>0.106870</td>\n",
       "      <td>0.885965</td>\n",
       "      <td>0.002177</td>\n",
       "      <td>...</td>\n",
       "      <td>0</td>\n",
       "      <td>0</td>\n",
       "      <td>0</td>\n",
       "      <td>0.0</td>\n",
       "      <td>1.0</td>\n",
       "      <td>1.0</td>\n",
       "      <td>0.0</td>\n",
       "      <td>0.0</td>\n",
       "      <td>0.0</td>\n",
       "      <td>0.0</td>\n",
       "    </tr>\n",
       "    <tr>\n",
       "      <th>2</th>\n",
       "      <td>0.020686</td>\n",
       "      <td>0.000038</td>\n",
       "      <td>0.020386</td>\n",
       "      <td>0.043817</td>\n",
       "      <td>0.002122</td>\n",
       "      <td>0.381915</td>\n",
       "      <td>0.323288</td>\n",
       "      <td>0.229008</td>\n",
       "      <td>0.780702</td>\n",
       "      <td>0.006912</td>\n",
       "      <td>...</td>\n",
       "      <td>0</td>\n",
       "      <td>0</td>\n",
       "      <td>0</td>\n",
       "      <td>1.0</td>\n",
       "      <td>0.0</td>\n",
       "      <td>1.0</td>\n",
       "      <td>0.0</td>\n",
       "      <td>0.0</td>\n",
       "      <td>0.0</td>\n",
       "      <td>0.0</td>\n",
       "    </tr>\n",
       "    <tr>\n",
       "      <th>3</th>\n",
       "      <td>0.111533</td>\n",
       "      <td>0.003038</td>\n",
       "      <td>0.110478</td>\n",
       "      <td>0.069704</td>\n",
       "      <td>0.003289</td>\n",
       "      <td>0.047872</td>\n",
       "      <td>0.216438</td>\n",
       "      <td>0.030534</td>\n",
       "      <td>0.587719</td>\n",
       "      <td>0.044971</td>\n",
       "      <td>...</td>\n",
       "      <td>0</td>\n",
       "      <td>0</td>\n",
       "      <td>0</td>\n",
       "      <td>1.0</td>\n",
       "      <td>0.0</td>\n",
       "      <td>1.0</td>\n",
       "      <td>0.0</td>\n",
       "      <td>0.0</td>\n",
       "      <td>0.0</td>\n",
       "      <td>0.0</td>\n",
       "    </tr>\n",
       "    <tr>\n",
       "      <th>4</th>\n",
       "      <td>0.007590</td>\n",
       "      <td>0.000000</td>\n",
       "      <td>0.007580</td>\n",
       "      <td>0.002322</td>\n",
       "      <td>0.002228</td>\n",
       "      <td>0.707447</td>\n",
       "      <td>0.161644</td>\n",
       "      <td>0.131080</td>\n",
       "      <td>0.719298</td>\n",
       "      <td>0.001620</td>\n",
       "      <td>...</td>\n",
       "      <td>0</td>\n",
       "      <td>0</td>\n",
       "      <td>0</td>\n",
       "      <td>1.0</td>\n",
       "      <td>0.0</td>\n",
       "      <td>1.0</td>\n",
       "      <td>0.0</td>\n",
       "      <td>0.0</td>\n",
       "      <td>0.0</td>\n",
       "      <td>0.0</td>\n",
       "    </tr>\n",
       "    <tr>\n",
       "      <th>...</th>\n",
       "      <td>...</td>\n",
       "      <td>...</td>\n",
       "      <td>...</td>\n",
       "      <td>...</td>\n",
       "      <td>...</td>\n",
       "      <td>...</td>\n",
       "      <td>...</td>\n",
       "      <td>...</td>\n",
       "      <td>...</td>\n",
       "      <td>...</td>\n",
       "      <td>...</td>\n",
       "      <td>...</td>\n",
       "      <td>...</td>\n",
       "      <td>...</td>\n",
       "      <td>...</td>\n",
       "      <td>...</td>\n",
       "      <td>...</td>\n",
       "      <td>...</td>\n",
       "      <td>...</td>\n",
       "      <td>...</td>\n",
       "      <td>...</td>\n",
       "    </tr>\n",
       "    <tr>\n",
       "      <th>86</th>\n",
       "      <td>0.002274</td>\n",
       "      <td>0.000038</td>\n",
       "      <td>0.002238</td>\n",
       "      <td>0.016949</td>\n",
       "      <td>0.001764</td>\n",
       "      <td>0.147163</td>\n",
       "      <td>0.180822</td>\n",
       "      <td>0.068702</td>\n",
       "      <td>0.735965</td>\n",
       "      <td>0.001305</td>\n",
       "      <td>...</td>\n",
       "      <td>1</td>\n",
       "      <td>0</td>\n",
       "      <td>0</td>\n",
       "      <td>1.0</td>\n",
       "      <td>0.0</td>\n",
       "      <td>0.0</td>\n",
       "      <td>0.0</td>\n",
       "      <td>0.0</td>\n",
       "      <td>0.0</td>\n",
       "      <td>1.0</td>\n",
       "    </tr>\n",
       "    <tr>\n",
       "      <th>87</th>\n",
       "      <td>0.021471</td>\n",
       "      <td>0.000570</td>\n",
       "      <td>0.021138</td>\n",
       "      <td>0.005586</td>\n",
       "      <td>0.001061</td>\n",
       "      <td>0.085106</td>\n",
       "      <td>0.312329</td>\n",
       "      <td>0.045802</td>\n",
       "      <td>0.833333</td>\n",
       "      <td>0.011626</td>\n",
       "      <td>...</td>\n",
       "      <td>1</td>\n",
       "      <td>0</td>\n",
       "      <td>0</td>\n",
       "      <td>0.0</td>\n",
       "      <td>1.0</td>\n",
       "      <td>0.0</td>\n",
       "      <td>0.0</td>\n",
       "      <td>0.0</td>\n",
       "      <td>0.0</td>\n",
       "      <td>1.0</td>\n",
       "    </tr>\n",
       "    <tr>\n",
       "      <th>88</th>\n",
       "      <td>0.099655</td>\n",
       "      <td>0.000873</td>\n",
       "      <td>0.098978</td>\n",
       "      <td>0.004912</td>\n",
       "      <td>0.001379</td>\n",
       "      <td>0.180851</td>\n",
       "      <td>0.443836</td>\n",
       "      <td>0.068702</td>\n",
       "      <td>0.719298</td>\n",
       "      <td>0.089634</td>\n",
       "      <td>...</td>\n",
       "      <td>0</td>\n",
       "      <td>0</td>\n",
       "      <td>0</td>\n",
       "      <td>1.0</td>\n",
       "      <td>0.0</td>\n",
       "      <td>0.0</td>\n",
       "      <td>0.0</td>\n",
       "      <td>0.0</td>\n",
       "      <td>0.0</td>\n",
       "      <td>1.0</td>\n",
       "    </tr>\n",
       "    <tr>\n",
       "      <th>89</th>\n",
       "      <td>0.001671</td>\n",
       "      <td>0.000038</td>\n",
       "      <td>0.001643</td>\n",
       "      <td>0.016949</td>\n",
       "      <td>0.001764</td>\n",
       "      <td>0.147163</td>\n",
       "      <td>0.361644</td>\n",
       "      <td>0.183206</td>\n",
       "      <td>0.859649</td>\n",
       "      <td>0.000865</td>\n",
       "      <td>...</td>\n",
       "      <td>1</td>\n",
       "      <td>0</td>\n",
       "      <td>0</td>\n",
       "      <td>1.0</td>\n",
       "      <td>0.0</td>\n",
       "      <td>0.0</td>\n",
       "      <td>0.0</td>\n",
       "      <td>0.0</td>\n",
       "      <td>0.0</td>\n",
       "      <td>1.0</td>\n",
       "    </tr>\n",
       "    <tr>\n",
       "      <th>90</th>\n",
       "      <td>0.010389</td>\n",
       "      <td>0.000646</td>\n",
       "      <td>0.010282</td>\n",
       "      <td>0.012227</td>\n",
       "      <td>0.007533</td>\n",
       "      <td>0.000000</td>\n",
       "      <td>0.591781</td>\n",
       "      <td>0.160305</td>\n",
       "      <td>0.938596</td>\n",
       "      <td>0.002536</td>\n",
       "      <td>...</td>\n",
       "      <td>0</td>\n",
       "      <td>1</td>\n",
       "      <td>0</td>\n",
       "      <td>1.0</td>\n",
       "      <td>0.0</td>\n",
       "      <td>0.0</td>\n",
       "      <td>0.0</td>\n",
       "      <td>0.0</td>\n",
       "      <td>0.0</td>\n",
       "      <td>1.0</td>\n",
       "    </tr>\n",
       "  </tbody>\n",
       "</table>\n",
       "<p>91 rows × 29 columns</p>\n",
       "</div>"
      ],
      "text/plain": [
       "    Population   Density  total_cases  total_tests  tests_per_case  \\\n",
       "0     0.007020  0.000038     0.007149     0.043817        0.002202   \n",
       "1     0.003406  0.002430     0.003373     0.043817        0.002202   \n",
       "2     0.020686  0.000038     0.020386     0.043817        0.002122   \n",
       "3     0.111533  0.003038     0.110478     0.069704        0.003289   \n",
       "4     0.007590  0.000000     0.007580     0.002322        0.002228   \n",
       "..         ...       ...          ...          ...             ...   \n",
       "86    0.002274  0.000038     0.002238     0.016949        0.001764   \n",
       "87    0.021471  0.000570     0.021138     0.005586        0.001061   \n",
       "88    0.099655  0.000873     0.098978     0.004912        0.001379   \n",
       "89    0.001671  0.000038     0.001643     0.016949        0.001764   \n",
       "90    0.010389  0.000646     0.010282     0.012227        0.007533   \n",
       "\n",
       "    extreme_poverty  human_development_index  hospital_beds_per_thousand  \\\n",
       "0          0.381915                 0.353425                    0.083969   \n",
       "1          0.381915                 0.000000                    0.106870   \n",
       "2          0.381915                 0.323288                    0.229008   \n",
       "3          0.047872                 0.216438                    0.030534   \n",
       "4          0.707447                 0.161644                    0.131080   \n",
       "..              ...                      ...                         ...   \n",
       "86         0.147163                 0.180822                    0.068702   \n",
       "87         0.085106                 0.312329                    0.045802   \n",
       "88         0.180851                 0.443836                    0.068702   \n",
       "89         0.147163                 0.361644                    0.183206   \n",
       "90         0.000000                 0.591781                    0.160305   \n",
       "\n",
       "    reproduction_rate  total_deaths  ...  Wet tropical  humid subtropical  \\\n",
       "0            0.719298      0.001305  ...             0                  0   \n",
       "1            0.885965      0.002177  ...             0                  0   \n",
       "2            0.780702      0.006912  ...             0                  0   \n",
       "3            0.587719      0.044971  ...             0                  0   \n",
       "4            0.719298      0.001620  ...             0                  0   \n",
       "..                ...           ...  ...           ...                ...   \n",
       "86           0.735965      0.001305  ...             1                  0   \n",
       "87           0.833333      0.011626  ...             1                  0   \n",
       "88           0.719298      0.089634  ...             0                  0   \n",
       "89           0.859649      0.000865  ...             1                  0   \n",
       "90           0.938596      0.002536  ...             0                  1   \n",
       "\n",
       "    wet winters  Full lockdown  Partial lockdown  Africa  Asia  Europe  \\\n",
       "0             0            0.0               1.0     1.0   0.0     0.0   \n",
       "1             0            0.0               1.0     1.0   0.0     0.0   \n",
       "2             0            1.0               0.0     1.0   0.0     0.0   \n",
       "3             0            1.0               0.0     1.0   0.0     0.0   \n",
       "4             0            1.0               0.0     1.0   0.0     0.0   \n",
       "..          ...            ...               ...     ...   ...     ...   \n",
       "86            0            1.0               0.0     0.0   0.0     0.0   \n",
       "87            0            0.0               1.0     0.0   0.0     0.0   \n",
       "88            0            1.0               0.0     0.0   0.0     0.0   \n",
       "89            0            1.0               0.0     0.0   0.0     0.0   \n",
       "90            0            1.0               0.0     0.0   0.0     0.0   \n",
       "\n",
       "    North America  South America  \n",
       "0             0.0            0.0  \n",
       "1             0.0            0.0  \n",
       "2             0.0            0.0  \n",
       "3             0.0            0.0  \n",
       "4             0.0            0.0  \n",
       "..            ...            ...  \n",
       "86            0.0            1.0  \n",
       "87            0.0            1.0  \n",
       "88            0.0            1.0  \n",
       "89            0.0            1.0  \n",
       "90            0.0            1.0  \n",
       "\n",
       "[91 rows x 29 columns]"
      ]
     },
     "execution_count": 35,
     "metadata": {},
     "output_type": "execute_result"
    }
   ],
   "source": [
    "countries_data"
   ]
  },
  {
   "cell_type": "code",
   "execution_count": null,
   "metadata": {},
   "outputs": [],
   "source": []
  },
  {
   "cell_type": "markdown",
   "metadata": {},
   "source": [
    "### Splitting The Dataset to Training and Testing\n",
    "* Apply *stratified* sampling method to split the data. The categories were based on the population attribute to make sure that the test set has a variety of instances thus eliminating any possible bias."
   ]
  },
  {
   "cell_type": "code",
   "execution_count": 34,
   "metadata": {},
   "outputs": [
    {
     "data": {
      "image/png": "[encoded data removed]",
      "text/plain": [
       "<Figure size 432x288 with 1 Axes>"
      ]
     },
     "metadata": {
      "needs_background": "light"
     },
     "output_type": "display_data"
    }
   ],
   "source": [
    "countries_data[\"Population\"].hist()\n",
    "plt.show()"
   ]
  },
  {
   "cell_type": "code",
   "execution_count": 5843,
   "metadata": {},
   "outputs": [],
   "source": [
    "##BEST ONE#### 1%\n",
    "#countries_data['Population_cat']=countries_data[\"Population\"]\n",
    "#countries_data[\"Population_cat\"].where(countries_data[\"Population\"] < 0.35, 6, inplace=True)\n",
    "#countries_data[\"Population_cat\"].where((countries_data[\"Population\"] < 0.3) | (countries_data[\"Population\"] >= 0.35), 5, inplace=True)\n",
    "#countries_data[\"Population_cat\"].where((countries_data[\"Population\"] < 0.2) | (countries_data[\"Population\"] >= 0.3), 5, inplace=True)\n",
    "#countries_data[\"Population_cat\"].where((countries_data[\"Population\"] < 0.06) | (countries_data[\"Population\"] >= 0.2), 4, inplace=True)\n",
    "#countries_data[\"Population_cat\"].where((countries_data[\"Population\"] < 0.015) | (countries_data[\"Population\"] >= 0.06), 3, inplace=True)\n",
    "#countries_data[\"Population_cat\"].where((countries_data[\"Population\"] < 0.0018) | (countries_data[\"Population\"] >= 0.015), 2, inplace=True)\n",
    "##countries_data[\"Population_cat\"].where((countries_data[\"Population\"] < 0.0008) | (countries_data[\"Population\"] >= 0.001), 2, inplace=True)\n",
    "#countries_data[\"Population_cat\"].where(countries_data[\"Population\"] > 0.0018, 1, inplace=True)\n",
    "#countries_data['Population_cat'].hist()"
   ]
  },
  {
   "cell_type": "code",
   "execution_count": 5844,
   "metadata": {},
   "outputs": [],
   "source": [
    "##BEST ONE####\n",
    "#countries_data['Population_cat']=countries_data[\"Population\"]\n",
    "#countries_data[\"Population_cat\"].where(countries_data[\"Population\"] < 0.35, 6, inplace=True)\n",
    "#countries_data[\"Population_cat\"].where((countries_data[\"Population\"] < 0.3) | (countries_data[\"Population\"] >= 0.35), 5, inplace=True)\n",
    "#countries_data[\"Population_cat\"].where((countries_data[\"Population\"] < 0.2) | (countries_data[\"Population\"] >= 0.3), 5, inplace=True)\n",
    "#countries_data[\"Population_cat\"].where((countries_data[\"Population\"] < 0.06) | (countries_data[\"Population\"] >= 0.2), 4, inplace=True)\n",
    "#countries_data[\"Population_cat\"].where((countries_data[\"Population\"] < 0.015) | (countries_data[\"Population\"] >= 0.06), 3, inplace=True)\n",
    "#countries_data[\"Population_cat\"].where((countries_data[\"Population\"] < 0.002) | (countries_data[\"Population\"] >= 0.015), 2, inplace=True)\n",
    "##countries_data[\"Population_cat\"].where((countries_data[\"Population\"] < 0.0008) | (countries_data[\"Population\"] >= 0.001), 2, inplace=True)\n",
    "#countries_data[\"Population_cat\"].where(countries_data[\"Population\"] > 0.002, 1, inplace=True)\n",
    "#countries_data['Population_cat'].hist()"
   ]
  },
  {
   "cell_type": "code",
   "execution_count": 5845,
   "metadata": {},
   "outputs": [],
   "source": [
    "#countries_data['Population_cat']=countries_data[\"Population\"]\n",
    "#countries_data[\"Population_cat\"].where(countries_data[\"Population\"] < 0.4, 6, inplace=True)\n",
    "#countries_data[\"Population_cat\"].where((countries_data[\"Population\"] < 0.3) | (countries_data[\"Population\"] >= 0.4), 5, inplace=True)\n",
    "#countries_data[\"Population_cat\"].where((countries_data[\"Population\"] < 0.2) | (countries_data[\"Population\"] >= 0.3), 5, inplace=True)\n",
    "#countries_data[\"Population_cat\"].where((countries_data[\"Population\"] < 0.08) | (countries_data[\"Population\"] >= 0.2), 4, inplace=True)\n",
    "#countries_data[\"Population_cat\"].where((countries_data[\"Population\"] < 0.015) | (countries_data[\"Population\"] >= 0.08), 3, inplace=True)\n",
    "#countries_data[\"Population_cat\"].where((countries_data[\"Population\"] < 0.001) | (countries_data[\"Population\"] >= 0.015), 2, inplace=True)\n",
    "##countries_data[\"Population_cat\"].where((countries_data[\"Population\"] < 0.0008) | (countries_data[\"Population\"] >= 0.001), 2, inplace=True)\n",
    "#countries_data[\"Population_cat\"].where(countries_data[\"Population\"] > 0.001, 1, inplace=True)\n",
    "#countries_data['Population_cat'].hist()"
   ]
  },
  {
   "cell_type": "code",
   "execution_count": 5846,
   "metadata": {},
   "outputs": [],
   "source": [
    "#countries_data['Population_cat']=countries_data[\"Population\"]\n",
    "#countries_data[\"Population_cat\"].where(countries_data[\"Population\"] < 0.6, 6, inplace=True)\n",
    "#countries_data[\"Population_cat\"].where((countries_data[\"Population\"] < 0.2) | (countries_data[\"Population\"] >= 0.6), 5, inplace=True)\n",
    "##countries_data[\"Population_cat\"].where((countries_data[\"Population\"] < 0.2) | (countries_data[\"Population\"] >= 0.3), 5, inplace=True)\n",
    "#countries_data[\"Population_cat\"].where((countries_data[\"Population\"] < 0.05) | (countries_data[\"Population\"] >= 0.2), 4, inplace=True)\n",
    "#countries_data[\"Population_cat\"].where((countries_data[\"Population\"] < 0.015) | (countries_data[\"Population\"] >= 0.05), 3, inplace=True)\n",
    "#countries_data[\"Population_cat\"].where((countries_data[\"Population\"] < 0.001) | (countries_data[\"Population\"] >= 0.015), 2, inplace=True)\n",
    "##countries_data[\"Population_cat\"].where((countries_data[\"Population\"] < 0.0008) | (countries_data[\"Population\"] >= 0.001), 2, inplace=True)\n",
    "#countries_data[\"Population_cat\"].where(countries_data[\"Population\"] > 0.001, 1, inplace=True)\n",
    "#countries_data['Population_cat'].hist()"
   ]
  },
  {
   "cell_type": "code",
   "execution_count": 5847,
   "metadata": {},
   "outputs": [
    {
     "data": {
      "text/plain": [
       "<AxesSubplot:>"
      ]
     },
     "execution_count": 5847,
     "metadata": {},
     "output_type": "execute_result"
    },
    {
     "data": {
      "image/png": "[encoded data removed]",
      "text/plain": [
       "<Figure size 432x288 with 1 Axes>"
      ]
     },
     "metadata": {
      "needs_background": "light"
     },
     "output_type": "display_data"
    }
   ],
   "source": [
    "countries_data['Population_cat']=countries_data[\"Population\"]\n",
    "countries_data[\"Population_cat\"].where(countries_data[\"Population\"] < 0.6, 6, inplace=True)\n",
    "countries_data[\"Population_cat\"].where((countries_data[\"Population\"] < 0.2) | (countries_data[\"Population\"] >= 0.6), 5, inplace=True)\n",
    "#countries_data[\"Population_cat\"].where((countries_data[\"Population\"] < 0.2) | (countries_data[\"Population\"] >= 0.3), 5, inplace=True)\n",
    "countries_data[\"Population_cat\"].where((countries_data[\"Population\"] < 0.08) | (countries_data[\"Population\"] >= 0.2), 4, inplace=True)\n",
    "countries_data[\"Population_cat\"].where((countries_data[\"Population\"] < 0.015) | (countries_data[\"Population\"] >= 0.08), 3, inplace=True)\n",
    "countries_data[\"Population_cat\"].where((countries_data[\"Population\"] < 0.001) | (countries_data[\"Population\"] >= 0.015), 2, inplace=True)\n",
    "#countries_data[\"Population_cat\"].where((countries_data[\"Population\"] < 0.0008) | (countries_data[\"Population\"] >= 0.001), 2, inplace=True)\n",
    "countries_data[\"Population_cat\"].where(countries_data[\"Population\"] > 0.001, 1, inplace=True)\n",
    "countries_data['Population_cat'].hist()"
   ]
  },
  {
   "cell_type": "markdown",
   "metadata": {},
   "source": [
    "* After applying the stratified shuffle split, drop the category feature that was created based on the population."
   ]
  },
  {
   "cell_type": "code",
   "execution_count": 5848,
   "metadata": {},
   "outputs": [],
   "source": [
    "from sklearn.model_selection import StratifiedShuffleSplit\n",
    "\n",
    "split = StratifiedShuffleSplit(n_splits=1, test_size=0.2, random_state=42)\n",
    "\n",
    "for train_index, test_index in split.split(countries_data, countries_data[\"Population_cat\"]):\n",
    "    train_set = countries_data.loc[train_index]\n",
    "    test_set = countries_data.loc[test_index]\n",
    "\n",
    "for set in (train_set, test_set):\n",
    "    set.drop([\"Population_cat\"], axis=1, inplace=True)\n",
    "    \n",
    "#countries_data = countries_data.drop('Population_cat',axis='columns', inplace=True)"
   ]
  },
  {
   "cell_type": "markdown",
   "metadata": {},
   "source": [
    "* The figure below shows how the test and training sets are constructed from the countries_data dataset. It can be clearly seen how the stratified shuffle split allowed the test set to be similar to the original dataset and not biased."
   ]
  },
  {
   "cell_type": "code",
   "execution_count": 5849,
   "metadata": {},
   "outputs": [
    {
     "data": {
      "image/png": "[encoded data removed]",
      "text/plain": [
       "<Figure size 432x288 with 1 Axes>"
      ]
     },
     "metadata": {
      "needs_background": "light"
     },
     "output_type": "display_data"
    }
   ],
   "source": [
    "plt.hist(countries_data['Population'], alpha=0.2, color='skyblue',bins=[0,0.1,0.2,0.3,0.4,0.5,0.6,0.7,0.8,0.9,1])\n",
    "plt.hist(train_set['Population'], alpha=0.5,color='cornflowerblue',bins=[0,0.1,0.2,0.3,0.4,0.5,0.6,0.7,0.8,0.9,1])\n",
    "plt.hist(test_set['Population'], alpha=0.8,bins=[0,0.1,0.2,0.3,0.4,0.5,0.6,0.7,0.8,0.9,1],color='darkblue')\n",
    "\n",
    "plt.legend([\"Dataset\",\"training set\",\"test set\"])\n",
    "plt.xlabel(\"Normalized population\")\n",
    "plt.ylabel(\"Frequency\")\n",
    "plt.show()"
   ]
  },
  {
   "cell_type": "markdown",
   "metadata": {},
   "source": [
    "* Copy the training set to analyze it without any worries about ruining it."
   ]
  },
  {
   "cell_type": "code",
   "execution_count": 5850,
   "metadata": {},
   "outputs": [
    {
     "name": "stdout",
     "output_type": "stream",
     "text": [
      "<class 'pandas.core.frame.DataFrame'>\n",
      "Int64Index: 72 entries, 11 to 36\n",
      "Data columns (total 31 columns):\n",
      " #   Column                      Non-Null Count  Dtype  \n",
      "---  ------                      --------------  -----  \n",
      " 0   Population                  72 non-null     float64\n",
      " 1   Density                     72 non-null     float64\n",
      " 2   total_cases                 72 non-null     float64\n",
      " 3   total_tests                 72 non-null     float64\n",
      " 4   tests_per_case              72 non-null     float64\n",
      " 5   extreme_poverty             72 non-null     float64\n",
      " 6   human_development_index     72 non-null     float64\n",
      " 7   hospital_beds_per_thousand  72 non-null     float64\n",
      " 8   reproduction_rate           72 non-null     float64\n",
      " 9   total_deaths                72 non-null     float64\n",
      " 10  positive_rate               72 non-null     float64\n",
      " 11  mortality_rate              72 non-null     float64\n",
      " 12  Tourism                     72 non-null     float64\n",
      " 13  Latitude                    72 non-null     float64\n",
      " 14  Longitude                   72 non-null     float64\n",
      " 15  GDP 2018                    72 non-null     float64\n",
      " 16  HF score 2017               72 non-null     float64\n",
      " 17  literacy rate               72 non-null     float64\n",
      " 18  time for lockdown           72 non-null     float64\n",
      " 19  Dry                         72 non-null     int32  \n",
      " 20  Wet tropical                72 non-null     int32  \n",
      " 21  humid subtropical           72 non-null     int32  \n",
      " 22  wet winters                 72 non-null     int32  \n",
      " 23  Full lockdown               72 non-null     float64\n",
      " 24  Partial lockdown            72 non-null     float64\n",
      " 25  Africa                      72 non-null     float64\n",
      " 26  Asia                        72 non-null     float64\n",
      " 27  Europe                      72 non-null     float64\n",
      " 28  North America               72 non-null     float64\n",
      " 29  time for spread             72 non-null     float64\n",
      " 30  South America               72 non-null     float64\n",
      "dtypes: float64(27), int32(4)\n",
      "memory usage: 16.9 KB\n"
     ]
    }
   ],
   "source": [
    "train_set.info()"
   ]
  },
  {
   "cell_type": "code",
   "execution_count": 5851,
   "metadata": {},
   "outputs": [],
   "source": [
    "countriesData = train_set.copy()\n",
    "test_target = test_set[\"time for spread\"].copy()\n",
    "test_set = test_set.drop(['time for spread'], axis='columns', inplace=False)\n",
    "\n",
    "training_target = train_set['time for spread'].copy()"
   ]
  },
  {
   "cell_type": "code",
   "execution_count": 5852,
   "metadata": {},
   "outputs": [
    {
     "name": "stdout",
     "output_type": "stream",
     "text": [
      "<class 'pandas.core.frame.DataFrame'>\n",
      "Int64Index: 72 entries, 11 to 36\n",
      "Data columns (total 31 columns):\n",
      " #   Column                      Non-Null Count  Dtype  \n",
      "---  ------                      --------------  -----  \n",
      " 0   Population                  72 non-null     float64\n",
      " 1   Density                     72 non-null     float64\n",
      " 2   total_cases                 72 non-null     float64\n",
      " 3   total_tests                 72 non-null     float64\n",
      " 4   tests_per_case              72 non-null     float64\n",
      " 5   extreme_poverty             72 non-null     float64\n",
      " 6   human_development_index     72 non-null     float64\n",
      " 7   hospital_beds_per_thousand  72 non-null     float64\n",
      " 8   reproduction_rate           72 non-null     float64\n",
      " 9   total_deaths                72 non-null     float64\n",
      " 10  positive_rate               72 non-null     float64\n",
      " 11  mortality_rate              72 non-null     float64\n",
      " 12  Tourism                     72 non-null     float64\n",
      " 13  Latitude                    72 non-null     float64\n",
      " 14  Longitude                   72 non-null     float64\n",
      " 15  GDP 2018                    72 non-null     float64\n",
      " 16  HF score 2017               72 non-null     float64\n",
      " 17  literacy rate               72 non-null     float64\n",
      " 18  time for lockdown           72 non-null     float64\n",
      " 19  Dry                         72 non-null     int32  \n",
      " 20  Wet tropical                72 non-null     int32  \n",
      " 21  humid subtropical           72 non-null     int32  \n",
      " 22  wet winters                 72 non-null     int32  \n",
      " 23  Full lockdown               72 non-null     float64\n",
      " 24  Partial lockdown            72 non-null     float64\n",
      " 25  Africa                      72 non-null     float64\n",
      " 26  Asia                        72 non-null     float64\n",
      " 27  Europe                      72 non-null     float64\n",
      " 28  North America               72 non-null     float64\n",
      " 29  time for spread             72 non-null     float64\n",
      " 30  South America               72 non-null     float64\n",
      "dtypes: float64(27), int32(4)\n",
      "memory usage: 16.9 KB\n"
     ]
    }
   ],
   "source": [
    "train_set.info()"
   ]
  },
  {
   "cell_type": "markdown",
   "metadata": {},
   "source": [
    "### Analyzing Correlations"
   ]
  },
  {
   "cell_type": "code",
   "execution_count": 5853,
   "metadata": {},
   "outputs": [
    {
     "data": {
      "image/png": "[encoded data removed]",
      "text/plain": [
       "<Figure size 576x432 with 2 Axes>"
      ]
     },
     "metadata": {
      "needs_background": "light"
     },
     "output_type": "display_data"
    }
   ],
   "source": [
    "countriesData = countriesData.reset_index()\n",
    "countriesData.drop('index',axis='columns', inplace=True)\n",
    "\n",
    "corr_matrix = countriesData.corr()\n",
    "fig, ax = plt.subplots(figsize=(8,6))         # Sample figsize in inches \n",
    "heat_map = sns.heatmap(corr_matrix, linewidths=0.01,ax=ax, cmap='GnBu')"
   ]
  },
  {
   "cell_type": "code",
   "execution_count": 5854,
   "metadata": {},
   "outputs": [
    {
     "data": {
      "text/plain": [
       "time for spread               1.000000\n",
       "reproduction_rate             0.426705\n",
       "time for lockdown             0.225021\n",
       "Africa                        0.222117\n",
       "tests_per_case                0.216052\n",
       "Partial lockdown              0.137983\n",
       "Wet tropical                  0.102506\n",
       "hospital_beds_per_thousand    0.098866\n",
       "Longitude                     0.085294\n",
       "Europe                        0.069256\n",
       "HF score 2017                 0.061157\n",
       "Tourism                       0.059524\n",
       "Density                       0.055541\n",
       "Latitude                      0.050604\n",
       "positive_rate                 0.047690\n",
       "total_tests                   0.026083\n",
       "extreme_poverty               0.006944\n",
       "wet winters                  -0.000068\n",
       "humid subtropical            -0.018508\n",
       "North America                -0.028747\n",
       "human_development_index      -0.045860\n",
       "South America                -0.076945\n",
       "Dry                          -0.077070\n",
       "total_deaths                 -0.087786\n",
       "Full lockdown                -0.137983\n",
       "Population                   -0.140652\n",
       "total_cases                  -0.141374\n",
       "literacy rate                -0.160489\n",
       "Asia                         -0.164267\n",
       "mortality_rate               -0.173341\n",
       "GDP 2018                     -0.185557\n",
       "Name: time for spread, dtype: float64"
      ]
     },
     "execution_count": 5854,
     "metadata": {},
     "output_type": "execute_result"
    }
   ],
   "source": [
    "corr_matrix[\"time for spread\"].sort_values(ascending=False)"
   ]
  },
  {
   "cell_type": "markdown",
   "metadata": {},
   "source": [
    "### Taking a look at the data before fitting it in a ML model"
   ]
  },
  {
   "cell_type": "code",
   "execution_count": 5855,
   "metadata": {},
   "outputs": [],
   "source": [
    "#%matplotlib inline \n",
    "#countriesData[{'time for spread'\n",
    "#               ,'time for lockdown'\n",
    "#               ,'Latitude'\n",
    "#               ,'hospital_beds_per_thousand'\n",
    "#               ,'reproduction_rate'          \n",
    "#               ,'tests_per_case'                \n",
    "#               ,'Tourism'                                           \n",
    "#               ,'HF score 2017'                 \n",
    "#               ,'total_tests'                   \n",
    "#               ,'Longitude'                                    \n",
    "#               ,'literacy rate'                 \n",
    "#               ,'extreme_poverty'              \n",
    "#               ,'human_development_index'       \n",
    "#               ,'positive_rate'                 \n",
    "#               ,'total_cases'                \n",
    "#               ,'Population'                   \n",
    "#               ,'total_deaths'                 \n",
    "#               ,'GDP 2018'                     \n",
    "#               ,'Density'}].hist(bins=10, figsize=(20,20))\n",
    "#plt.show()"
   ]
  },
  {
   "cell_type": "code",
   "execution_count": 5856,
   "metadata": {},
   "outputs": [],
   "source": [
    "#training_data['Population'].hist()"
   ]
  },
  {
   "cell_type": "code",
   "execution_count": 5857,
   "metadata": {},
   "outputs": [],
   "source": [
    "#test_set['Population'].hist()"
   ]
  },
  {
   "cell_type": "markdown",
   "metadata": {},
   "source": [
    "### Selecting and Training Models"
   ]
  },
  {
   "cell_type": "markdown",
   "metadata": {},
   "source": [
    "*Not all models were mentioned in the paper, only the ones that gave good results in the test set.*"
   ]
  },
  {
   "cell_type": "code",
   "execution_count": 5858,
   "metadata": {},
   "outputs": [],
   "source": [
    "training_data=countriesData.drop('time for spread',axis='columns', inplace=False)"
   ]
  },
  {
   "cell_type": "markdown",
   "metadata": {},
   "source": [
    "### Linear Regression"
   ]
  },
  {
   "cell_type": "markdown",
   "metadata": {},
   "source": [
    "First, we used linear regression model to train our data. \n",
    "\n",
    "Grid search was used to find the best hyperparameter, which was n_jobs. The results was n_jobs=1, the default value.\n",
    "\n",
    "#### Spreading Speed:"
   ]
  },
  {
   "cell_type": "code",
   "execution_count": 5859,
   "metadata": {},
   "outputs": [],
   "source": [
    "from sklearn.linear_model import LinearRegression\n",
    "from sklearn.model_selection import cross_val_score\n",
    "from sklearn.model_selection import GridSearchCV\n",
    "\n",
    "lin_reg = LinearRegression()\n",
    "lin_reg.fit(training_data, training_target)\n",
    "\n",
    "lin_predictions = lin_reg.predict(training_data)"
   ]
  },
  {
   "cell_type": "markdown",
   "metadata": {},
   "source": [
    "There are different metrics that can be used to quantify the quality of our predictions. "
   ]
  },
  {
   "cell_type": "code",
   "execution_count": 5860,
   "metadata": {},
   "outputs": [
    {
     "name": "stdout",
     "output_type": "stream",
     "text": [
      "Mean Absolute Error (MAE)\t\t: 28.070484217432004\n",
      "Root Mean Squared Error (RMSE)\t\t: 35.719263138481345\n",
      "Median Absolute Error (MAE)\t\t: 21.156582898686565\n"
     ]
    }
   ],
   "source": [
    "from sklearn.metrics import mean_absolute_error\n",
    "print(\"Mean Absolute Error (MAE)\\t\\t:\",mean_absolute_error(training_target,lin_predictions))\n",
    "\n",
    "from sklearn.metrics import mean_squared_error\n",
    "print(\"Root Mean Squared Error (RMSE)\\t\\t:\",np.sqrt(mean_squared_error(training_target,lin_predictions)))\n",
    "\n",
    "from sklearn.metrics import median_absolute_error\n",
    "print(\"Median Absolute Error (MAE)\\t\\t:\",median_absolute_error(training_target,lin_predictions))"
   ]
  },
  {
   "cell_type": "markdown",
   "metadata": {},
   "source": [
    "Here we can compare between our predictions and some actual targets. "
   ]
  },
  {
   "cell_type": "code",
   "execution_count": 5861,
   "metadata": {},
   "outputs": [
    {
     "name": "stdout",
     "output_type": "stream",
     "text": [
      "Predictions:\t [258.38760289 285.38611811 153.08941408 169.67768546 244.08340564]\n",
      "Labels:\t\t [248.0, 279.0, 91.0, 231.0, 224.0]\n"
     ]
    }
   ],
   "source": [
    "some_data = training_data.iloc[:5]\n",
    "some_labels = training_target.iloc[:5]\n",
    "print(\"Predictions:\\t\", lin_reg.predict(some_data))\n",
    "print(\"Labels:\\t\\t\", list(some_labels))"
   ]
  },
  {
   "cell_type": "markdown",
   "metadata": {},
   "source": [
    "Cross Validation"
   ]
  },
  {
   "cell_type": "code",
   "execution_count": 5862,
   "metadata": {},
   "outputs": [
    {
     "name": "stdout",
     "output_type": "stream",
     "text": [
      "Scores\t: [ 26.30417225  43.53306102  38.09418875  42.68061152  61.73748169\n",
      " 193.13951437  68.76897402  45.22330549  67.83028229  60.48414885]\n",
      "Mean\t: 64.7795740249722\n",
      "Standard deviation: 44.770407468195806\n"
     ]
    }
   ],
   "source": [
    "def display_scores(scores):\n",
    "    print(\"Scores\\t:\", scores)\n",
    "    print(\"Mean\\t:\", scores.mean())\n",
    "    print(\"Standard deviation:\", scores.std())\n",
    "\n",
    "lin_scores = cross_val_score(lin_reg, training_data, training_target,scoring=\"neg_mean_absolute_error\", cv=10)\n",
    "lin_scores = -lin_scores\n",
    "\n",
    "display_scores(lin_scores)"
   ]
  },
  {
   "cell_type": "markdown",
   "metadata": {},
   "source": [
    "### Ridge Regression"
   ]
  },
  {
   "cell_type": "code",
   "execution_count": 5863,
   "metadata": {},
   "outputs": [],
   "source": [
    "from sklearn.linear_model import Ridge\n",
    "\n",
    "Ridge_reg = Ridge(alpha=0.6,tol=0.001)\n",
    "Ridge_reg.fit(training_data,training_target)\n",
    "\n",
    "Ridge_predictions = Ridge_reg.predict(training_data)"
   ]
  },
  {
   "cell_type": "code",
   "execution_count": 5864,
   "metadata": {},
   "outputs": [
    {
     "name": "stdout",
     "output_type": "stream",
     "text": [
      "Mean Absolute Error (MAE)\t\t: 31.646227143392593\n",
      "Root Mean Squared Error (RMSE)\t\t: 41.898345656413795\n",
      "Median Absolute Error (MAE)\t\t: 23.40918664069619\n"
     ]
    }
   ],
   "source": [
    "print(\"Mean Absolute Error (MAE)\\t\\t:\",mean_absolute_error(training_target,Ridge_predictions))\n",
    "\n",
    "print(\"Root Mean Squared Error (RMSE)\\t\\t:\",np.sqrt(mean_squared_error(training_target,Ridge_predictions)))\n",
    "\n",
    "print(\"Median Absolute Error (MAE)\\t\\t:\",median_absolute_error(training_target,Ridge_predictions))"
   ]
  },
  {
   "cell_type": "code",
   "execution_count": 5865,
   "metadata": {},
   "outputs": [],
   "source": [
    "#param_grid_Ridge = [{'alpha':[0.5,1,2,3,4],\n",
    "#                     'tol':[0.001,0.0001,0.00001]}]\n",
    "#\n",
    "#grid_search_Ridge = GridSearchCV(Ridge_reg, param_grid_Ridge, cv=10,scoring='neg_mean_absolute_error')\n",
    "#grid_search_Ridge.fit(training_data, training_target)\n",
    "#print(grid_search_Ridge.best_params_)"
   ]
  },
  {
   "cell_type": "code",
   "execution_count": 5866,
   "metadata": {},
   "outputs": [],
   "source": [
    "#Ridge_scores = cross_val_score(Ridge_reg, training_data, training_target,scoring=\"neg_root_mean_squared_error\", cv=10)\n",
    "#Ridge_scores = -Ridge_scores\n",
    "#display_scores(Ridge_scores)"
   ]
  },
  {
   "cell_type": "markdown",
   "metadata": {},
   "source": [
    "### Lasso Regression"
   ]
  },
  {
   "cell_type": "code",
   "execution_count": 5867,
   "metadata": {},
   "outputs": [],
   "source": [
    "from sklearn import linear_model\n",
    "\n",
    "Lasso_reg = linear_model.Lasso(alpha= 0.6, max_iter= 20000, selection='random',tol= 0.001)\n",
    "Lasso_reg.fit(training_data,training_target)\n",
    "\n",
    "Lasso_predictions = Lasso_reg.predict(training_data)"
   ]
  },
  {
   "cell_type": "code",
   "execution_count": 5868,
   "metadata": {},
   "outputs": [],
   "source": [
    "#param_grid_Lasso = [{'alpha': [0.1,0.7,0.5,0.2],\n",
    "#                     'max_iter': [1000,15000,20000,2500,10000],\n",
    "#                     'tol': [0.002,0.005,0.001,0.0065],\n",
    "#                     'selection': ['random']}]\n",
    "#\n",
    "#grid_search_Lasso = GridSearchCV(Lasso_reg, param_grid_Lasso, cv=10,scoring='neg_mean_absolute_error')\n",
    "#grid_search_Lasso.fit(training_data, training_target)\n",
    "#print(grid_search_Lasso.best_params_)"
   ]
  },
  {
   "cell_type": "code",
   "execution_count": 5869,
   "metadata": {},
   "outputs": [
    {
     "name": "stdout",
     "output_type": "stream",
     "text": [
      "Mean Absolute Error (MAE)\t\t: 34.40985904422905\n",
      "Root Mean Squared Error (RMSE)\t\t: 44.25410921715249\n",
      "Median Absolute Error (MAE)\t\t: 27.368261383095856\n"
     ]
    }
   ],
   "source": [
    "print(\"Mean Absolute Error (MAE)\\t\\t:\",mean_absolute_error(training_target,Lasso_predictions))\n",
    "\n",
    "print(\"Root Mean Squared Error (RMSE)\\t\\t:\",np.sqrt(mean_squared_error(training_target,Lasso_predictions)))\n",
    "\n",
    "print(\"Median Absolute Error (MAE)\\t\\t:\",median_absolute_error(training_target,Lasso_predictions))"
   ]
  },
  {
   "cell_type": "code",
   "execution_count": 5870,
   "metadata": {},
   "outputs": [
    {
     "name": "stdout",
     "output_type": "stream",
     "text": [
      "Predictions:\t [242.66513826 264.66875138 173.74746688 196.42289818 226.77790593]\n",
      "Labels:\t\t [248.0, 279.0, 91.0, 231.0, 224.0]\n"
     ]
    }
   ],
   "source": [
    "print(\"Predictions:\\t\", Lasso_reg.predict(some_data))\n",
    "print(\"Labels:\\t\\t\", list(some_labels))"
   ]
  },
  {
   "cell_type": "code",
   "execution_count": 5871,
   "metadata": {},
   "outputs": [],
   "source": [
    "#Lasso_scores = cross_val_score(Lasso_reg, training_data, training_target,scoring=\"neg_root_mean_squared_error\", cv=10)\n",
    "#Lasso_scores = -Lasso_scores\n",
    "#display_scores(Lasso_scores)"
   ]
  },
  {
   "cell_type": "markdown",
   "metadata": {},
   "source": [
    "### SGD"
   ]
  },
  {
   "cell_type": "markdown",
   "metadata": {},
   "source": [
    "SGD was not included in the paper as we focused more on the comparison between different SVM kernels and different Regularized Linear Regression models "
   ]
  },
  {
   "cell_type": "code",
   "execution_count": 5872,
   "metadata": {},
   "outputs": [],
   "source": [
    "from sklearn.linear_model import SGDRegressor\n",
    "\n",
    "SGD_reg=linear_model.SGDRegressor(eta0=0.01,alpha= 0.0001, epsilon=0.2, max_iter= 10000000, tol= 0.001)\n",
    "SGD_reg.fit(training_data,training_target)\n",
    "\n",
    "SGD_predictions = SGD_reg.predict(training_data)"
   ]
  },
  {
   "cell_type": "code",
   "execution_count": 5873,
   "metadata": {},
   "outputs": [],
   "source": [
    "#param_grid_SGD = [{'alpha':[0.1,0.01,0.0001,0.00001],\n",
    "#                   'max_iter':[1000000,10000000],\n",
    "#                   'tol':[0.01,0.001,0.0001],\n",
    "#                   'epsilon':[0.1,0.2,0.3,0.4,0.5],\n",
    "#                   'eta0':[0.1,0.01,0.05]}]\n",
    "#\n",
    "#   \n",
    "#\n",
    "#grid_search_SGD = GridSearchCV(SGD_reg, param_grid_SGD, cv=5,scoring='neg_mean_absolute_error')\n",
    "#grid_search_SGD.fit(training_data, training_target)\n",
    "#print(grid_search_SGD.best_params_)"
   ]
  },
  {
   "cell_type": "code",
   "execution_count": 5874,
   "metadata": {},
   "outputs": [
    {
     "name": "stdout",
     "output_type": "stream",
     "text": [
      "Mean Absolute Error (MAE)\t\t: 31.59347260480482\n",
      "Root Mean Squared Error (RMSE)\t\t: 42.571523026217115\n",
      "Median Absolute Error (MAE)\t\t: 20.37216245840993\n"
     ]
    }
   ],
   "source": [
    "print(\"Mean Absolute Error (MAE)\\t\\t:\",mean_absolute_error(training_target,SGD_predictions))\n",
    "\n",
    "print(\"Root Mean Squared Error (RMSE)\\t\\t:\",np.sqrt(mean_squared_error(training_target,SGD_predictions)))\n",
    "\n",
    "print(\"Median Absolute Error (MAE)\\t\\t:\",median_absolute_error(training_target,SGD_predictions))"
   ]
  },
  {
   "cell_type": "code",
   "execution_count": 5875,
   "metadata": {},
   "outputs": [
    {
     "name": "stdout",
     "output_type": "stream",
     "text": [
      "Predictions:\t [241.85972096 270.53882479 168.9485121  192.9523424  222.48819357]\n",
      "Labels:\t\t [248.0, 279.0, 91.0, 231.0, 224.0]\n"
     ]
    }
   ],
   "source": [
    "print(\"Predictions:\\t\", SGD_reg.predict(some_data))\n",
    "print(\"Labels:\\t\\t\", list(some_labels))"
   ]
  },
  {
   "cell_type": "code",
   "execution_count": 5876,
   "metadata": {},
   "outputs": [],
   "source": [
    "#SGD_scores = cross_val_score(SGD_reg, training_data, training_target,scoring=\"neg_mean_absolute_error\", cv=10)\n",
    "#SGD_scores = -SGD_scores\n",
    "#\n",
    "#display_scores(SGD_scores)"
   ]
  },
  {
   "cell_type": "markdown",
   "metadata": {},
   "source": [
    "### Elastics Net"
   ]
  },
  {
   "cell_type": "code",
   "execution_count": 5877,
   "metadata": {},
   "outputs": [],
   "source": [
    "from sklearn.linear_model import ElasticNet\n",
    "\n",
    "Elastic_reg = ElasticNet(l1_ratio=1,tol=0.0001,max_iter=10000)\n",
    "Elastic_reg.fit(training_data, training_target)\n",
    "\n",
    "Elastic_predictions = Elastic_reg.predict(training_data)"
   ]
  },
  {
   "cell_type": "code",
   "execution_count": 5878,
   "metadata": {},
   "outputs": [],
   "source": [
    "#param_grid_Elastic = [{'l1_ratio':[1,0.8,0.6,0.4],\n",
    "#                       'max_iter':[1000,10000,100000],\n",
    "#                       'tol':[0.001,0.00001,0.0001]}]\n",
    "#   \n",
    "#\n",
    "#grid_search_Elastic = GridSearchCV(Elastic_reg, param_grid_Elastic, cv=5,scoring='neg_mean_absolute_error')\n",
    "#grid_search_Elastic.fit(training_data, training_target)\n",
    "#print(grid_search_Elastic.best_params_)"
   ]
  },
  {
   "cell_type": "code",
   "execution_count": 5879,
   "metadata": {},
   "outputs": [
    {
     "name": "stdout",
     "output_type": "stream",
     "text": [
      "Mean Absolute Error (MAE)\t\t: 36.558060784609445\n",
      "Root Mean Squared Error (RMSE)\t\t: 47.18524264540057\n",
      "Median Absolute Error (MAE)\t\t: 26.77930384675396\n"
     ]
    }
   ],
   "source": [
    "print(\"Mean Absolute Error (MAE)\\t\\t:\",mean_absolute_error(training_target,Elastic_predictions))\n",
    "\n",
    "print(\"Root Mean Squared Error (RMSE)\\t\\t:\",np.sqrt(mean_squared_error(training_target,Elastic_predictions)))\n",
    "\n",
    "print(\"Median Absolute Error (MAE)\\t\\t:\",median_absolute_error(training_target,Elastic_predictions))"
   ]
  },
  {
   "cell_type": "code",
   "execution_count": 5880,
   "metadata": {},
   "outputs": [],
   "source": [
    "#Elastic_scores = cross_val_score(Elastic_reg, training_data, training_target,scoring=\"neg_root_mean_squared_error\", cv=10)\n",
    "#Elastic_scores = -Elastic_scores\n",
    "#\n",
    "#display_scores(Elastic_scores)"
   ]
  },
  {
   "cell_type": "markdown",
   "metadata": {},
   "source": [
    "### RBF SVM"
   ]
  },
  {
   "cell_type": "code",
   "execution_count": 5881,
   "metadata": {},
   "outputs": [
    {
     "name": "stdout",
     "output_type": "stream",
     "text": [
      "Mean Absolute Error (MAE)\t\t: 37.70423651714084\n",
      "Root Mean Squared Error (RMSE)\t\t: 56.65000100987689\n",
      "Median Absolute Error (MAE)\t\t: 24.46914663823391\n"
     ]
    }
   ],
   "source": [
    "from sklearn.svm import SVR\n",
    "\n",
    "SVM_rbf_reg = SVR(kernel='rbf',C=20, epsilon= 0.3, tol= 0.0001)\n",
    "SVM_rbf_reg.fit(training_data, training_target)\n",
    "\n",
    "SVM_rbf_predictions = SVM_rbf_reg.predict(training_data)\n",
    "\n",
    "print(\"Mean Absolute Error (MAE)\\t\\t:\",mean_absolute_error(training_target,SVM_rbf_predictions))\n",
    "\n",
    "print(\"Root Mean Squared Error (RMSE)\\t\\t:\",np.sqrt(mean_squared_error(training_target,SVM_rbf_predictions)))\n",
    "\n",
    "print(\"Median Absolute Error (MAE)\\t\\t:\",median_absolute_error(training_target,SVM_rbf_predictions))"
   ]
  },
  {
   "cell_type": "markdown",
   "metadata": {},
   "source": [
    "### Linear SVM"
   ]
  },
  {
   "cell_type": "markdown",
   "metadata": {},
   "source": [
    "SVR with kernel 'linear' was used instead of LinearSVR as our dataset is small"
   ]
  },
  {
   "cell_type": "code",
   "execution_count": 5882,
   "metadata": {},
   "outputs": [],
   "source": [
    "from sklearn.svm import SVR\n",
    "\n",
    "SVM_reg = SVR(kernel='linear',C=20, epsilon= 0.3, tol= 0.0001)\n",
    "SVM_reg.fit(training_data, training_target)\n",
    "\n",
    "SVM_predictions = SVM_reg.predict(training_data)"
   ]
  },
  {
   "cell_type": "code",
   "execution_count": 5883,
   "metadata": {},
   "outputs": [
    {
     "name": "stdout",
     "output_type": "stream",
     "text": [
      "Mean Absolute Error (MAE)\t\t: 34.60316040801137\n",
      "Root Mean Squared Error (RMSE)\t\t: 51.254996117373985\n",
      "Median Absolute Error (MAE)\t\t: 20.908916036571554\n"
     ]
    }
   ],
   "source": [
    "print(\"Mean Absolute Error (MAE)\\t\\t:\",mean_absolute_error(training_target,SVM_predictions))\n",
    "\n",
    "print(\"Root Mean Squared Error (RMSE)\\t\\t:\",np.sqrt(mean_squared_error(training_target,SVM_predictions)))\n",
    "\n",
    "print(\"Median Absolute Error (MAE)\\t\\t:\",median_absolute_error(training_target,SVM_predictions                                                              ))"
   ]
  },
  {
   "cell_type": "markdown",
   "metadata": {},
   "source": [
    "### Polynomial SVM"
   ]
  },
  {
   "cell_type": "code",
   "execution_count": 5884,
   "metadata": {},
   "outputs": [],
   "source": [
    "from sklearn.svm import SVR\n",
    "\n",
    "SVM_poly_reg = SVR(kernel='poly',C=20, degree= 2, epsilon= 0.3, tol= 0.0001)\n",
    "SVM_poly_reg.fit(training_data, training_target)\n",
    "\n",
    "SVM_poly_predictions = SVM_poly_reg.predict(training_data)"
   ]
  },
  {
   "cell_type": "code",
   "execution_count": 5885,
   "metadata": {},
   "outputs": [],
   "source": [
    "#param_grid_SVM_poly = [{'C':[10,20,5,40,50],\n",
    "#                     'degree':[2,3,4,5],\n",
    "#                     'tol':[0.01,0.001,0.0001],\n",
    "#                     'epsilon':[0.3,0.1,0.5]\n",
    "#                      }]\n",
    "#   \n",
    "#\n",
    "#grid_search_SVM_poly = GridSearchCV(SVM_poly_reg, param_grid_SVM_poly, cv=10,scoring='neg_mean_absolute_error')\n",
    "#grid_search_SVM_poly.fit(training_data, training_target)\n",
    "#print(grid_search_SVM_poly.best_params_)"
   ]
  },
  {
   "cell_type": "code",
   "execution_count": 5886,
   "metadata": {},
   "outputs": [
    {
     "name": "stdout",
     "output_type": "stream",
     "text": [
      "Mean Absolute Error (MAE)\t\t: 34.57389050867798\n",
      "Root Mean Squared Error (RMSE)\t\t: 52.27236104563006\n",
      "Median Absolute Error (MAE)\t\t: 21.51378485542797\n"
     ]
    }
   ],
   "source": [
    "print(\"Mean Absolute Error (MAE)\\t\\t:\",mean_absolute_error(training_target,SVM_poly_predictions))\n",
    "\n",
    "print(\"Root Mean Squared Error (RMSE)\\t\\t:\",np.sqrt(mean_squared_error(training_target,SVM_poly_predictions)))\n",
    "\n",
    "print(\"Median Absolute Error (MAE)\\t\\t:\",median_absolute_error(training_target,SVM_poly_predictions))"
   ]
  },
  {
   "cell_type": "markdown",
   "metadata": {},
   "source": [
    "### Ensemble"
   ]
  },
  {
   "cell_type": "markdown",
   "metadata": {},
   "source": [
    "Ensemble method was not included in the paper as it did not give any improvement regarding our predictions"
   ]
  },
  {
   "cell_type": "code",
   "execution_count": 5887,
   "metadata": {},
   "outputs": [
    {
     "name": "stdout",
     "output_type": "stream",
     "text": [
      "Mean Absolute Error (MAE)\t\t: 31.78277807244313\n",
      "Root Mean Squared Error (RMSE)\t\t: 42.87742715062458\n",
      "Median Absolute Error (MAE)\t\t: 22.23190294220663\n"
     ]
    }
   ],
   "source": [
    "ensemble_test=(lin_predictions+Lasso_predictions+Ridge_predictions+SVM_predictions+SVM_poly_predictions+Elastic_predictions+SGD_predictions)/7\n",
    "\n",
    "print(\"Mean Absolute Error (MAE)\\t\\t:\",mean_absolute_error(training_target,ensemble_test))\n",
    "\n",
    "print(\"Root Mean Squared Error (RMSE)\\t\\t:\",np.sqrt(mean_squared_error(training_target,ensemble_test)))\n",
    "\n",
    "print(\"Median Absolute Error (MAE)\\t\\t:\",median_absolute_error(training_target,ensemble_test))"
   ]
  },
  {
   "cell_type": "code",
   "execution_count": 5888,
   "metadata": {},
   "outputs": [
    {
     "name": "stdout",
     "output_type": "stream",
     "text": [
      "Mean Absolute Error (MAE)\t\t: 32.34640977091639\n",
      "Root Mean Squared Error (RMSE)\t\t: 43.121618735223436\n",
      "Median Absolute Error (MAE)\t\t: 25.727972227620526\n"
     ]
    }
   ],
   "source": [
    "ensemble_median = np.stack([lin_predictions, Lasso_predictions, Ridge_predictions, SVM_predictions, SVM_poly_predictions, Elastic_predictions, SGD_predictions])\n",
    "ensemble_median=np.median(ensemble_median, axis = 0)\n",
    "\n",
    "print(\"Mean Absolute Error (MAE)\\t\\t:\",mean_absolute_error(training_target,ensemble_median))\n",
    "\n",
    "print(\"Root Mean Squared Error (RMSE)\\t\\t:\",np.sqrt(mean_squared_error(training_target,ensemble_median)))\n",
    "\n",
    "print(\"Median Absolute Error (MAE)\\t\\t:\",median_absolute_error(training_target,ensemble_median))"
   ]
  },
  {
   "cell_type": "code",
   "execution_count": 5889,
   "metadata": {},
   "outputs": [],
   "source": [
    "Accuracy_train_MAE_lin_reg = 100-100*(mean_absolute_error(training_target, lin_predictions)/training_target.mean())\n",
    "Accuracy_train_medAE_lin_reg = 100-100*(median_absolute_error(training_target, lin_predictions)/training_target.mean())\n",
    "\n",
    "Accuracy_train_MAE_Lasso = 100-100*(mean_absolute_error(training_target, Lasso_predictions)/training_target.mean())\n",
    "Accuracy_train_medAE_Lasso = 100-100*(median_absolute_error(training_target, Lasso_predictions)/training_target.mean())\n",
    "\n",
    "Accuracy_train_MAE_Ridge = 100-100*(mean_absolute_error(training_target, Ridge_predictions)/training_target.mean())\n",
    "Accuracy_train_medAE_Ridge = 100-100*(median_absolute_error(training_target, Ridge_predictions)/training_target.mean())\n",
    "\n",
    "Accuracy_train_MAE_Net = 100-100*(mean_absolute_error(training_target, Elastic_predictions)/training_target.mean())\n",
    "Accuracy_train_medAE_Net = 100-100*(median_absolute_error(training_target, Elastic_predictions)/training_target.mean())\n",
    "\n",
    "Accuracy_train_MAE_Poly = 100-100*(mean_absolute_error(training_target, SVM_poly_predictions)/training_target.mean())\n",
    "Accuracy_train_medAE_Poly = 100-100*(median_absolute_error(training_target, SVM_poly_predictions)/training_target.mean())\n",
    "\n",
    "Accuracy_train_MAE_SVM_lin = 100-100*(mean_absolute_error(training_target, SVM_predictions)/training_target.mean())\n",
    "Accuracy_train_medAE_SVM_lin = 100-100*(median_absolute_error(training_target, SVM_predictions)/training_target.mean())\n",
    "\n",
    "Accuracy_train_MAE_RBF = 100-100*(mean_absolute_error(training_target, SVM_rbf_predictions)/training_target.mean())\n",
    "Accuracy_train_medAE_RBF = 100-100*(median_absolute_error(training_target, SVM_rbf_predictions)/training_target.mean())"
   ]
  },
  {
   "cell_type": "code",
   "execution_count": 5890,
   "metadata": {},
   "outputs": [
    {
     "name": "stdout",
     "output_type": "stream",
     "text": [
      "Lin reg MAE: 87.86651339583896\n",
      "Lin reg MedAE: 90.85505211799584 \n",
      "\n",
      "Lasso MAE: 85.12631415510302\n",
      "Lasso MedAE: 88.17004971133517 \n",
      "\n",
      "Ridge MAE: 86.32089599373077\n",
      "Ridge MedAE: 89.88136256150491 \n",
      "\n",
      "Elastic MAE: 84.19775243746244\n",
      "Elastic MedAE: 88.42462702187498 \n",
      "\n",
      "SVM Poly MAE: 85.05541143888567\n",
      "SVM Poly MedAE: 90.70065132022084 \n",
      "\n",
      "SVM Lin MAE: 85.04275950425156\n",
      "SVM Lin MedAE: 90.96210629385152 \n",
      "\n",
      "SVM RBF MAE: 83.70231716855292\n",
      "SVM RBF MedAE: 89.42319410486377\n"
     ]
    }
   ],
   "source": [
    "print(\"Lin reg MAE:\", Accuracy_train_MAE_lin_reg)\n",
    "print(\"Lin reg MedAE:\",Accuracy_train_medAE_lin_reg,\"\\n\")\n",
    "print(\"Lasso MAE:\",Accuracy_train_MAE_Lasso)\n",
    "print(\"Lasso MedAE:\",Accuracy_train_medAE_Lasso,\"\\n\" )\n",
    "print(\"Ridge MAE:\",Accuracy_train_MAE_Ridge )\n",
    "print(\"Ridge MedAE:\",Accuracy_train_medAE_Ridge,\"\\n\" )\n",
    "print(\"Elastic MAE:\",Accuracy_train_MAE_Net )\n",
    "print(\"Elastic MedAE:\",Accuracy_train_medAE_Net,\"\\n\" )\n",
    "print(\"SVM Poly MAE:\",Accuracy_train_MAE_Poly )\n",
    "print(\"SVM Poly MedAE:\",Accuracy_train_medAE_Poly,\"\\n\" )\n",
    "print(\"SVM Lin MAE:\",Accuracy_train_MAE_SVM_lin) \n",
    "print(\"SVM Lin MedAE:\",Accuracy_train_medAE_SVM_lin,\"\\n\") \n",
    "print(\"SVM RBF MAE:\",Accuracy_train_MAE_RBF )\n",
    "print(\"SVM RBF MedAE:\",Accuracy_train_medAE_RBF )"
   ]
  },
  {
   "cell_type": "markdown",
   "metadata": {},
   "source": [
    "## Testing"
   ]
  },
  {
   "cell_type": "markdown",
   "metadata": {},
   "source": [
    "After training our models let's finally test it on data that it has never seen before.\n",
    "\n",
    "\n",
    "Mean Absolute Error was chosen as the preformance measure. Mean root square error was not recommended as it's sensitive to outliers, which occur in our case.  \n",
    "\n",
    "The procedure is simple. Just use the predictors with the test set."
   ]
  },
  {
   "cell_type": "code",
   "execution_count": 5891,
   "metadata": {},
   "outputs": [],
   "source": [
    "test_target=test_target.reset_index(drop = True)\n",
    "test_set=test_set.reset_index(drop = True)"
   ]
  },
  {
   "cell_type": "markdown",
   "metadata": {},
   "source": [
    "Predict the test set by every model that we trained"
   ]
  },
  {
   "cell_type": "code",
   "execution_count": 5892,
   "metadata": {},
   "outputs": [],
   "source": [
    "final_predictions = SVM_poly_reg.predict(test_set)#SVM poly\n",
    "final_predictions2 = SVM_reg.predict(test_set)#SVM linear\n",
    "final_predictions11 = SVM_rbf_reg.predict(test_set)#SVM rbf\n",
    "\n",
    "final_predictions3 = lin_reg.predict(test_set)#linear regression\n",
    "final_predictions4 = Lasso_reg.predict(test_set)#lasso\n",
    "final_predictions5 = Ridge_reg.predict(test_set)#ridge\n",
    "final_predictions6 = Elastic_reg.predict(test_set)#elastic net\n",
    "\n",
    "ensemble_predictions = (final_predictions4 + final_predictions5 + final_predictions6)/3 #ensemble linear\n",
    "\n",
    "final_predictions7 = SGD_reg.predict(test_set)#SGD"
   ]
  },
  {
   "cell_type": "markdown",
   "metadata": {},
   "source": [
    "Convert to pandas dataframe to apply error functions"
   ]
  },
  {
   "cell_type": "code",
   "execution_count": 5893,
   "metadata": {},
   "outputs": [],
   "source": [
    "final_predictions=pd.DataFrame(data=final_predictions,columns=['time for spread'])#SVM poly       \n",
    "final_predictions2=pd.DataFrame(data=final_predictions2,columns=['time for spread'])#SVM          \n",
    "final_predictions11=pd.DataFrame(data=final_predictions11,columns=['time for spread'])#SVM rbf        \n",
    "\n",
    "final_predictions3=pd.DataFrame(data=final_predictions3,columns=['time for spread'])#linear           \n",
    "final_predictions4=pd.DataFrame(data=final_predictions4,columns=['time for spread'])#Lasso         \n",
    "final_predictions5=pd.DataFrame(data=final_predictions5,columns=['time for spread'])#Ridge           \n",
    "final_predictions6=pd.DataFrame(data=final_predictions6,columns=['time for spread'])#Elastic net        \n",
    "\n",
    "ensemble_predictions = pd.DataFrame(data=ensemble_predictions,columns=['time for spread'])#ensemble linear   \n",
    "\n",
    "final_predictions7=pd.DataFrame(data=final_predictions7,columns=['time for spread'])#SGD           "
   ]
  },
  {
   "cell_type": "markdown",
   "metadata": {},
   "source": [
    "Find the Mean Absolute Error and the Median Absolute Error of each model."
   ]
  },
  {
   "cell_type": "markdown",
   "metadata": {},
   "source": [
    "## MAE"
   ]
  },
  {
   "cell_type": "code",
   "execution_count": 5894,
   "metadata": {},
   "outputs": [],
   "source": [
    "MAE_SVM_poly=mean_absolute_error(test_target,final_predictions)\n",
    "MAE_SVM_lin=mean_absolute_error(test_target,final_predictions2)\n",
    "MAE_SVM_RBF=mean_absolute_error(test_target,final_predictions11)\n",
    "\n",
    "MAE_Lin_reg=mean_absolute_error(test_target,final_predictions3)\n",
    "MAE_Lasso=mean_absolute_error(test_target,final_predictions4)\n",
    "MAE_Ridge=mean_absolute_error(test_target,final_predictions5)\n",
    "MAE_Elastic=mean_absolute_error(test_target,final_predictions6)\n",
    "\n",
    "MAE_ensemble = mean_absolute_error(test_target,ensemble_predictions)\n",
    "\n",
    "MAE_SGD=mean_absolute_error(test_target,final_predictions7)"
   ]
  },
  {
   "cell_type": "code",
   "execution_count": 5895,
   "metadata": {},
   "outputs": [
    {
     "name": "stdout",
     "output_type": "stream",
     "text": [
      "Mean Absolute Error SVM polynomial\t\t: 44.105176794209115\n",
      "Mean Absolute Error SVM\t\t\t\t: 43.2427896997216\n",
      "Mean Absolute Error SVR rbf\t\t\t: 43.845633975036804\n",
      "\n",
      "Mean Absolute Error Linear regression\t\t: 54.73446101860549\n",
      "Mean Absolute Error Lasso regression\t\t: 48.64136999747121\n",
      "Mean Absolute Error Ridge regression\t\t: 47.993461254507935\n",
      "Mean Absolute Error Elastic net\t\t\t: 48.25450034586349\n",
      "Mean Absolute Error ensemble linear\t\t\t: 46.8527742537528\n",
      "\n",
      "Mean Absolute Error SGD\t\t\t\t: 49.87521063197146\n"
     ]
    }
   ],
   "source": [
    "print(\"Mean Absolute Error SVM polynomial\\t\\t:\",mean_absolute_error(test_target,final_predictions))\n",
    "print(\"Mean Absolute Error SVM\\t\\t\\t\\t:\",mean_absolute_error(test_target,final_predictions2))\n",
    "print(\"Mean Absolute Error SVR rbf\\t\\t\\t:\",mean_absolute_error(test_target,final_predictions11))\n",
    "\n",
    "print(\"\\nMean Absolute Error Linear regression\\t\\t:\",mean_absolute_error(test_target,final_predictions3))\n",
    "print(\"Mean Absolute Error Lasso regression\\t\\t:\",mean_absolute_error(test_target,final_predictions4))\n",
    "print(\"Mean Absolute Error Ridge regression\\t\\t:\",mean_absolute_error(test_target,final_predictions5))\n",
    "print(\"Mean Absolute Error Elastic net\\t\\t\\t:\",mean_absolute_error(test_target,final_predictions6))\n",
    "\n",
    "print(\"Mean Absolute Error ensemble linear\\t\\t\\t:\",mean_absolute_error(test_target,ensemble_predictions))\n",
    "\n",
    "print(\"\\nMean Absolute Error SGD\\t\\t\\t\\t:\",mean_absolute_error(test_target,final_predictions7))"
   ]
  },
  {
   "cell_type": "code",
   "execution_count": 5896,
   "metadata": {},
   "outputs": [
    {
     "data": {
      "text/plain": [
       "220.94736842105263"
      ]
     },
     "execution_count": 5896,
     "metadata": {},
     "output_type": "execute_result"
    }
   ],
   "source": [
    "test_target.mean()"
   ]
  },
  {
   "cell_type": "markdown",
   "metadata": {},
   "source": [
    "Calculate the accuracy of our predictions. "
   ]
  },
  {
   "cell_type": "markdown",
   "metadata": {},
   "source": [
    "$Percentage Error =100* \\frac{MAE}{Mean \\ Target \\ Values}$\n",
    "\n",
    "$Accuracy = 100 \\ – Percentage Error $"
   ]
  },
  {
   "cell_type": "code",
   "execution_count": 5897,
   "metadata": {},
   "outputs": [],
   "source": [
    "Accuracy_SVM_Poly = 100-100*(MAE_SVM_poly/test_target.mean())\n",
    "Accuracy_SVM_lin = 100-100*(MAE_SVM_lin/test_target.mean())\n",
    "Accuracy_SVM_RBF = 100-100*(MAE_SVM_RBF/test_target.mean())\n",
    "\n",
    "Accuracy_Lin_reg = 100-100*(MAE_Lin_reg/test_target.mean())\n",
    "Accuracy_Lasso   = 100-100*(MAE_Lasso/test_target.mean())\n",
    "Accuracy_Ridge   = 100-100*(MAE_Ridge/test_target.mean())\n",
    "Accuracy_Elastic_Net = 100-100*(MAE_Elastic/test_target.mean())\n",
    "\n",
    "Accuracy_ensemble_linear = 100-100*(MAE_ensemble/test_target.mean())\n",
    "\n",
    "Accuracy_SGD     = 100-100*(MAE_SGD/test_target.mean())"
   ]
  },
  {
   "cell_type": "code",
   "execution_count": 5898,
   "metadata": {},
   "outputs": [
    {
     "name": "stdout",
     "output_type": "stream",
     "text": [
      "Accuracy SVM Poly\t: 80.03815247522694\n",
      "Accuracy SVM lin\t: 80.42846583385635\n",
      "Accuracy SVM RBF\t: 80.15562064016915\n",
      "\n",
      "Accuracy Lin reg\t: 75.2273759086826\n",
      "Accuracy Lasso\t\t: 77.9850874237267\n",
      "Accuracy Ridge\t\t: 78.27832863659717\n",
      "Accuracy Elastic Net\t: 78.16018326413992\n",
      "Accuracy ensemble linear\t: 78.79459955166024\n",
      "\n",
      "Accuracy SGD\t\t: 77.42665550244264\n"
     ]
    }
   ],
   "source": [
    "print(\"Accuracy SVM Poly\\t:\",Accuracy_SVM_Poly)\n",
    "print(\"Accuracy SVM lin\\t:\",Accuracy_SVM_lin )\n",
    "print(\"Accuracy SVM RBF\\t:\",Accuracy_SVM_RBF )\n",
    "\n",
    "print(\"\\nAccuracy Lin reg\\t:\",Accuracy_Lin_reg )\n",
    "print(\"Accuracy Lasso\\t\\t:\",Accuracy_Lasso   )\n",
    "print(\"Accuracy Ridge\\t\\t:\",Accuracy_Ridge   )\n",
    "print(\"Accuracy Elastic Net\\t:\",Accuracy_Elastic_Net)\n",
    "\n",
    "print(\"Accuracy ensemble linear\\t:\",Accuracy_ensemble_linear)\n",
    "\n",
    "print(\"\\nAccuracy SGD\\t\\t:\",Accuracy_SGD)"
   ]
  },
  {
   "cell_type": "code",
   "execution_count": 5899,
   "metadata": {},
   "outputs": [
    {
     "data": {
      "text/plain": [
       "Text(0, 0.5, 'Accuracy')"
      ]
     },
     "execution_count": 5899,
     "metadata": {},
     "output_type": "execute_result"
    },
    {
     "data": {
      "image/png": "[encoded data removed]",
      "text/plain": [
       "<Figure size 504x360 with 1 Axes>"
      ]
     },
     "metadata": {
      "needs_background": "light"
     },
     "output_type": "display_data"
    }
   ],
   "source": [
    "names = ['Linear Regression', 'Lasso Regression', 'Ridge Regression', 'Elastic Net']\n",
    "#values = [Accuracy_Lasso, Accuracy_Ridge, Accuracy_Elastic_Net] error so inserted the values manually\n",
    "#values = [83.207609, 83.700748, 82.784986]  old\n",
    "\n",
    "values = [78.411748, 81.463779, 82.560484, 81.531555]\n",
    "\n",
    "fig, ax = plt.subplots(figsize=(7,5))\n",
    "\n",
    "plt.bar(names, values, width= 0.4)\n",
    "\n",
    "ax.yaxis.set_minor_formatter(plt.ScalarFormatter())\n",
    "plt.ylim(bottom=75, top=85)\n",
    "\n",
    "plt.ylabel(\"Accuracy\")\n",
    "#plt.xlabel(\"Model\")"
   ]
  },
  {
   "cell_type": "code",
   "execution_count": 5900,
   "metadata": {
    "scrolled": true
   },
   "outputs": [
    {
     "data": {
      "text/plain": [
       "Text(0, 0.5, 'Accuracy')"
      ]
     },
     "execution_count": 5900,
     "metadata": {},
     "output_type": "execute_result"
    },
    {
     "data": {
      "image/png": "[encoded data removed]",
      "text/plain": [
       "<Figure size 504x360 with 1 Axes>"
      ]
     },
     "metadata": {
      "needs_background": "light"
     },
     "output_type": "display_data"
    }
   ],
   "source": [
    "names_SVM = ['Polynomial Kernel', 'RBF krenel', 'Linear kernel']\n",
    "#values_SVM = [Accuracy_SVM_Poly, Accuracy_SVM_RBF, Accuracy_SVM_lin]\n",
    "#values_SVM = [86.202998, 85.85229, 84.80567] old\n",
    "values_SVM = [85.116036, 85.847255, 85.391127]\n",
    "\n",
    "\n",
    "figSVM, axSVM = plt.subplots(figsize=(7,5))\n",
    "\n",
    "plt.bar(names_SVM, values_SVM, width= 0.3)\n",
    "\n",
    "axSVM.yaxis.set_minor_formatter(plt.ScalarFormatter())\n",
    "\n",
    "plt.ylim(bottom=80, top=88)\n",
    "plt.ylabel(\"Accuracy\")"
   ]
  },
  {
   "cell_type": "markdown",
   "metadata": {},
   "source": [
    "## Median"
   ]
  },
  {
   "cell_type": "code",
   "execution_count": 5901,
   "metadata": {},
   "outputs": [],
   "source": [
    "Med_SVM_poly=median_absolute_error(test_target,final_predictions)    \n",
    "Med_SVM_lin =median_absolute_error(test_target,final_predictions2)       \n",
    "Med_SVM_RBF =median_absolute_error(test_target,final_predictions11) \n",
    "\n",
    "Med_Lin_reg =median_absolute_error(test_target,final_predictions3)\n",
    "Med_Lasso   =median_absolute_error(test_target,final_predictions4)\n",
    "Med_Ridge   =median_absolute_error(test_target,final_predictions5)\n",
    "Med_Elastic =median_absolute_error(test_target,final_predictions6) \n",
    "\n",
    "Med_ensemble =median_absolute_error(test_target,ensemble_predictions) \n",
    "\n",
    "Med_SGD     =median_absolute_error(test_target,final_predictions7)          "
   ]
  },
  {
   "cell_type": "code",
   "execution_count": 5902,
   "metadata": {},
   "outputs": [
    {
     "name": "stdout",
     "output_type": "stream",
     "text": [
      "Median Absolute Error SVM polynomial\t\t: 18.929942205257305\n",
      "Median Absolute Error SVM\t\t\t: 19.27433443275828\n",
      "Median Absolute Error SVR rbf\t\t\t: 19.69027368248527\n",
      "\n",
      "Median Absolute Error Linear regression\t\t: 41.62424150969517\n",
      "Median Absolute Error Lasso regression\t\t: 28.5366607146384\n",
      "Median Absolute Error Ridge regression\t\t: 32.421285574792336\n",
      "Median Absolute Error Elastic net\t\t: 26.502457455425002\n",
      "Median Absolute Error ensemble linear\t\t: 26.1053450877412\n",
      "\n",
      "Median Absolute Error SGD\t\t\t: 40.196105163121786\n"
     ]
    }
   ],
   "source": [
    "print(\"Median Absolute Error SVM polynomial\\t\\t:\",Med_SVM_poly)    \n",
    "print(\"Median Absolute Error SVM\\t\\t\\t:\",Med_SVM_lin)   \n",
    "print(\"Median Absolute Error SVR rbf\\t\\t\\t:\",Med_SVM_RBF)   \n",
    "\n",
    "print(\"\\nMedian Absolute Error Linear regression\\t\\t:\",Med_Lin_reg) \n",
    "print(\"Median Absolute Error Lasso regression\\t\\t:\",Med_Lasso) \n",
    "print(\"Median Absolute Error Ridge regression\\t\\t:\",Med_Ridge)  \n",
    "print(\"Median Absolute Error Elastic net\\t\\t:\",Med_Elastic)   \n",
    "\n",
    "print(\"Median Absolute Error ensemble linear\\t\\t:\",Med_ensemble)   \n",
    "\n",
    "print(\"\\nMedian Absolute Error SGD\\t\\t\\t:\",Med_SGD)               "
   ]
  },
  {
   "cell_type": "code",
   "execution_count": 5903,
   "metadata": {},
   "outputs": [
    {
     "name": "stdout",
     "output_type": "stream",
     "text": [
      "Accuracy SVM Poly\t: 91.43237489519083\n",
      "Accuracy SVM lin\t: 91.27650418717467\n",
      "Accuracy SVM RBF\t: 91.08825154913721\n",
      "\n",
      "Accuracy Lin reg\t: 81.16101503848957\n",
      "Accuracy Lasso\t\t: 87.08440796621892\n",
      "Accuracy Ridge\t\t: 85.32624044971286\n",
      "Accuracy Elastic Net\t: 88.00508118977906\n",
      "Accuracy ensemble regression\t: 88.18481284737773\n",
      "\n",
      "Accuracy SGD\t\t: 81.80738451407066\n"
     ]
    }
   ],
   "source": [
    "Accuracy_SVM_Poly_median = 100-100*(Med_SVM_poly/test_target.mean())\n",
    "Accuracy_SVM_lin_median= 100-100*(Med_SVM_lin/test_target.mean())\n",
    "Accuracy_SVM_RBF_median= 100-100*(Med_SVM_RBF/test_target.mean())\n",
    "\n",
    "Accuracy_Lin_reg_median= 100-100*(Med_Lin_reg/test_target.mean())\n",
    "Accuracy_Lasso_median= 100-100*(Med_Lasso/test_target.mean())\n",
    "Accuracy_Ridge_median= 100-100*(Med_Ridge/test_target.mean())\n",
    "Accuracy_Elastic_Net_median = 100-100*(Med_Elastic/test_target.mean())\n",
    "\n",
    "Accuracy_ensemble_median = 100-100*(Med_ensemble/test_target.mean())\n",
    "\n",
    "Accuracy_SGD_median     = 100-100*(Med_SGD/test_target.mean())\n",
    "\n",
    "print(\"Accuracy SVM Poly\\t:\",Accuracy_SVM_Poly_median)\n",
    "print(\"Accuracy SVM lin\\t:\",Accuracy_SVM_lin_median )\n",
    "print(\"Accuracy SVM RBF\\t:\",Accuracy_SVM_RBF_median )\n",
    "\n",
    "print(\"\\nAccuracy Lin reg\\t:\",Accuracy_Lin_reg_median )\n",
    "print(\"Accuracy Lasso\\t\\t:\",Accuracy_Lasso_median   )\n",
    "print(\"Accuracy Ridge\\t\\t:\",Accuracy_Ridge_median   )\n",
    "print(\"Accuracy Elastic Net\\t:\",Accuracy_Elastic_Net_median)\n",
    "\n",
    "print(\"Accuracy ensemble regression\\t:\",Accuracy_ensemble_median)\n",
    "\n",
    "print(\"\\nAccuracy SGD\\t\\t:\",Accuracy_SGD_median)"
   ]
  },
  {
   "cell_type": "code",
   "execution_count": 5904,
   "metadata": {},
   "outputs": [
    {
     "data": {
      "text/plain": [
       "Text(0, 0.5, 'Accuracy')"
      ]
     },
     "execution_count": 5904,
     "metadata": {},
     "output_type": "execute_result"
    },
    {
     "data": {
      "image/png": "[encoded data removed]",
      "text/plain": [
       "<Figure size 504x360 with 1 Axes>"
      ]
     },
     "metadata": {
      "needs_background": "light"
     },
     "output_type": "display_data"
    }
   ],
   "source": [
    "names_med = ['Linear Regression', 'Lasso Regression', 'Ridge Regression', 'Elastic Net']\n",
    "#values = [Accuracy_Lasso, Accuracy_Ridge, Accuracy_Elastic_Net] error so inserted the values manually\n",
    "#values_med = [85.561701, 83.755405, 85.745758] old\n",
    "values_med = [81.953551, 87.028402, 88.233752, 86.860861]\n",
    "\n",
    "#plt.figure()\n",
    "fig_med, ax_med = plt.subplots(figsize=(7,5))\n",
    "\n",
    "plt.bar(names_med, values_med, width= 0.4)\n",
    "\n",
    "ax_med.yaxis.set_minor_formatter(plt.ScalarFormatter())\n",
    "plt.ylim(bottom=80, top=90)\n",
    "plt.ylabel(\"Accuracy\")"
   ]
  },
  {
   "cell_type": "code",
   "execution_count": 5905,
   "metadata": {},
   "outputs": [
    {
     "data": {
      "text/plain": [
       "Text(0, 0.5, 'Accuracy')"
      ]
     },
     "execution_count": 5905,
     "metadata": {},
     "output_type": "execute_result"
    },
    {
     "data": {
      "image/png": "[encoded data removed]",
      "text/plain": [
       "<Figure size 504x360 with 1 Axes>"
      ]
     },
     "metadata": {
      "needs_background": "light"
     },
     "output_type": "display_data"
    }
   ],
   "source": [
    "names_SVM_med = ['Polynomial Kernel', 'RBF krenel', 'Linear kernel']\n",
    "#values_SVM = [Accuracy_SVM_Poly, Accuracy_SVM_RBF, Accuracy_SVM_lin]\n",
    "#values_SVM_med = [88.746421, 89.111174, 88.57851]\n",
    "values_SVM_med = [91.087562, 91.314265, 90.637946]\n",
    "\n",
    "#plt.figure()\n",
    "figSVM_med, axSVM_med = plt.subplots(figsize=(7,5))\n",
    "\n",
    "plt.bar(names_SVM_med, values_SVM_med, width= 0.3)\n",
    "\n",
    "axSVM_med.yaxis.set_minor_formatter(plt.ScalarFormatter())\n",
    "\n",
    "plt.ylim(bottom=80, top=95)\n",
    "plt.ylabel(\"Accuracy\")"
   ]
  }
 ],
 "metadata": {
  "kernelspec": {
   "display_name": "Python 3 (ipykernel)",
   "language": "python",
   "name": "python3"
  },
  "language_info": {
   "codemirror_mode": {
    "name": "ipython",
    "version": 3
   },
   "file_extension": ".py",
   "mimetype": "text/x-python",
   "name": "python",
   "nbconvert_exporter": "python",
   "pygments_lexer": "ipython3",
   "version": "3.8.3"
  }
 },
 "nbformat": 4,
 "nbformat_minor": 4
}
