{
 "cells": [
  {
   "cell_type": "code",
   "execution_count": 362,
   "metadata": {},
   "outputs": [],
   "source": [
    "import pandas as pd\n",
    "import numpy as np\n",
    "from sklearn.preprocessing import MultiLabelBinarizer\n",
    "from sklearn.preprocessing import OneHotEncoder"
   ]
  },
  {
   "cell_type": "code",
   "execution_count": 363,
   "metadata": {},
   "outputs": [
    {
     "name": "stderr",
     "output_type": "stream",
     "text": [
      "C:\\Users\\ahmad\\anaconda3\\lib\\site-packages\\IPython\\core\\interactiveshell.py:3071: DtypeWarning: Columns (3) have mixed types.Specify dtype option on import or set low_memory=False.\n",
      "  has_raised = await self.run_ast_nodes(code_ast.body, cell_name,\n"
     ]
    }
   ],
   "source": [
    "movies = pd.read_csv('IMDb movies.csv')\n",
    "\n",
    "netflix = pd.read_csv('netflix_titles.csv')"
   ]
  },
  {
   "cell_type": "code",
   "execution_count": 364,
   "metadata": {},
   "outputs": [
    {
     "name": "stdout",
     "output_type": "stream",
     "text": [
      "<class 'pandas.core.frame.DataFrame'>\n",
      "RangeIndex: 85855 entries, 0 to 85854\n",
      "Data columns (total 22 columns):\n",
      " #   Column                 Non-Null Count  Dtype  \n",
      "---  ------                 --------------  -----  \n",
      " 0   imdb_title_id          85855 non-null  object \n",
      " 1   title                  85855 non-null  object \n",
      " 2   original_title         85855 non-null  object \n",
      " 3   year                   85855 non-null  object \n",
      " 4   date_published         85855 non-null  object \n",
      " 5   genre                  85855 non-null  object \n",
      " 6   duration               85855 non-null  int64  \n",
      " 7   country                85791 non-null  object \n",
      " 8   language               85022 non-null  object \n",
      " 9   director               85768 non-null  object \n",
      " 10  writer                 84283 non-null  object \n",
      " 11  production_company     81400 non-null  object \n",
      " 12  actors                 85786 non-null  object \n",
      " 13  description            83740 non-null  object \n",
      " 14  avg_vote               85855 non-null  float64\n",
      " 15  votes                  85855 non-null  int64  \n",
      " 16  budget                 23710 non-null  object \n",
      " 17  usa_gross_income       15326 non-null  object \n",
      " 18  worlwide_gross_income  31016 non-null  object \n",
      " 19  metascore              13305 non-null  float64\n",
      " 20  reviews_from_users     78258 non-null  float64\n",
      " 21  reviews_from_critics   74058 non-null  float64\n",
      "dtypes: float64(4), int64(2), object(16)\n",
      "memory usage: 14.4+ MB\n"
     ]
    }
   ],
   "source": [
    "movies.info()"
   ]
  },
  {
   "cell_type": "markdown",
   "metadata": {},
   "source": [
    "## Drop unnecessary features"
   ]
  },
  {
   "cell_type": "code",
   "execution_count": 365,
   "metadata": {},
   "outputs": [],
   "source": [
    "movies.drop(['original_title',\n",
    "             'title',\n",
    "             'date_published',\n",
    "             'country',\n",
    "             'director',\n",
    "             'writer',\n",
    "             'actors',\n",
    "             'description',\n",
    "             'votes',\n",
    "             'metascore',\n",
    "             'reviews_from_users',\n",
    "             'reviews_from_critics'], axis = 'columns', inplace = True)"
   ]
  },
  {
   "cell_type": "markdown",
   "metadata": {},
   "source": [
    "--------------------"
   ]
  },
  {
   "cell_type": "markdown",
   "metadata": {},
   "source": [
    "## Language"
   ]
  },
  {
   "cell_type": "code",
   "execution_count": 366,
   "metadata": {},
   "outputs": [
    {
     "data": {
      "text/plain": [
       "English       42779\n",
       "French         5353\n",
       "Spanish        3423\n",
       "Italian        3292\n",
       "Japanese       3168\n",
       "Hindi          2571\n",
       "German         2403\n",
       "Russian        1665\n",
       "Turkish        1466\n",
       "Mandarin       1186\n",
       "Cantonese      1141\n",
       "Korean         1138\n",
       "Portuguese     1070\n",
       "Name: language, dtype: int64"
      ]
     },
     "execution_count": 366,
     "metadata": {},
     "output_type": "execute_result"
    }
   ],
   "source": [
    "movies.language = movies.language.str.split(', ').str[0]\n",
    "\n",
    "movies.language.value_counts()[0:13]"
   ]
  },
  {
   "cell_type": "code",
   "execution_count": 367,
   "metadata": {},
   "outputs": [],
   "source": [
    "movies.loc[~((movies.language == 'English') | (movies.language == 'French'  )|\n",
    "          (movies.language == 'Spanish' ) | (movies.language == 'Italian'   )|\n",
    "          (movies.language == 'Japanese') | (movies.language == 'Hindi'     )|\n",
    "          (movies.language == 'German'  ) | (movies.language == 'Russian'   )|\n",
    "          (movies.language == 'Turkish' ) | (movies.language == 'Cantonese' )|\n",
    "          (movies.language == 'Korean'  ) | (movies.language == 'Mandarin')  | \n",
    "          (movies.language == 'Portuguese')), 'language'] = 'other'"
   ]
  },
  {
   "cell_type": "code",
   "execution_count": 368,
   "metadata": {},
   "outputs": [
    {
     "data": {
      "text/plain": [
       "English       42779\n",
       "other         15200\n",
       "French         5353\n",
       "Spanish        3423\n",
       "Italian        3292\n",
       "Japanese       3168\n",
       "Hindi          2571\n",
       "German         2403\n",
       "Russian        1665\n",
       "Turkish        1466\n",
       "Mandarin       1186\n",
       "Cantonese      1141\n",
       "Korean         1138\n",
       "Portuguese     1070\n",
       "Name: language, dtype: int64"
      ]
     },
     "execution_count": 368,
     "metadata": {},
     "output_type": "execute_result"
    }
   ],
   "source": [
    "movies['language'].value_counts()"
   ]
  },
  {
   "cell_type": "code",
   "execution_count": 369,
   "metadata": {},
   "outputs": [],
   "source": [
    "onehotencoder = OneHotEncoder()\n",
    "languages = onehotencoder.fit_transform(movies.language.values.reshape(-1,1)).toarray()\n",
    "\n",
    "onehotencoder.categories_[0]\n",
    "\n",
    "languages  = pd.DataFrame(data = languages, columns = onehotencoder.categories_[0])\n",
    "\n",
    "movies = pd.concat([movies, languages], axis = 1, sort = False)\n",
    "\n",
    "movies.drop('language', axis = 'columns', inplace = True)"
   ]
  },
  {
   "cell_type": "markdown",
   "metadata": {},
   "source": [
    "--------------------"
   ]
  },
  {
   "cell_type": "markdown",
   "metadata": {},
   "source": [
    "## genre"
   ]
  },
  {
   "cell_type": "code",
   "execution_count": 370,
   "metadata": {},
   "outputs": [
    {
     "data": {
      "text/plain": [
       "0                          [Romance]\n",
       "1          [Biography, Crime, Drama]\n",
       "2                            [Drama]\n",
       "3                   [Drama, History]\n",
       "4        [Adventure, Drama, Fantasy]\n",
       "                    ...             \n",
       "85850                       [Comedy]\n",
       "85851                [Comedy, Drama]\n",
       "85852                        [Drama]\n",
       "85853                [Drama, Family]\n",
       "85854                        [Drama]\n",
       "Name: genre, Length: 85855, dtype: object"
      ]
     },
     "execution_count": 370,
     "metadata": {},
     "output_type": "execute_result"
    }
   ],
   "source": [
    "movies.genre = movies.genre.str.split(', ')\n",
    "\n",
    "movies.genre"
   ]
  },
  {
   "cell_type": "code",
   "execution_count": 371,
   "metadata": {},
   "outputs": [],
   "source": [
    "mlb = MultiLabelBinarizer()\n",
    "genres = mlb.fit_transform(movies.genre)\n",
    "\n",
    "genres = pd.DataFrame(data = genres, columns = mlb.classes_)\n",
    "\n",
    "movies = pd.concat([movies, genres], axis = 1, sort = False)\n",
    "\n",
    "movies.drop('genre', axis = 'columns', inplace = True)"
   ]
  },
  {
   "cell_type": "code",
   "execution_count": 372,
   "metadata": {},
   "outputs": [
    {
     "data": {
      "text/plain": [
       "array(['Action', 'Adult', 'Adventure', 'Animation', 'Biography', 'Comedy',\n",
       "       'Crime', 'Documentary', 'Drama', 'Family', 'Fantasy', 'Film-Noir',\n",
       "       'History', 'Horror', 'Music', 'Musical', 'Mystery', 'News',\n",
       "       'Reality-TV', 'Romance', 'Sci-Fi', 'Sport', 'Thriller', 'War',\n",
       "       'Western'], dtype=object)"
      ]
     },
     "execution_count": 372,
     "metadata": {},
     "output_type": "execute_result"
    }
   ],
   "source": [
    "mlb.classes_"
   ]
  },
  {
   "cell_type": "markdown",
   "metadata": {},
   "source": [
    "-----------------"
   ]
  },
  {
   "cell_type": "markdown",
   "metadata": {},
   "source": [
    "## Null values"
   ]
  },
  {
   "cell_type": "code",
   "execution_count": 373,
   "metadata": {},
   "outputs": [
    {
     "name": "stdout",
     "output_type": "stream",
     "text": [
      "<class 'pandas.core.frame.DataFrame'>\n",
      "RangeIndex: 85855 entries, 0 to 85854\n",
      "Data columns (total 47 columns):\n",
      " #   Column                 Non-Null Count  Dtype  \n",
      "---  ------                 --------------  -----  \n",
      " 0   imdb_title_id          85855 non-null  object \n",
      " 1   year                   85855 non-null  object \n",
      " 2   duration               85855 non-null  int64  \n",
      " 3   production_company     81400 non-null  object \n",
      " 4   avg_vote               85855 non-null  float64\n",
      " 5   budget                 23710 non-null  object \n",
      " 6   usa_gross_income       15326 non-null  object \n",
      " 7   worlwide_gross_income  31016 non-null  object \n",
      " 8   Cantonese              85855 non-null  float64\n",
      " 9   English                85855 non-null  float64\n",
      " 10  French                 85855 non-null  float64\n",
      " 11  German                 85855 non-null  float64\n",
      " 12  Hindi                  85855 non-null  float64\n",
      " 13  Italian                85855 non-null  float64\n",
      " 14  Japanese               85855 non-null  float64\n",
      " 15  Korean                 85855 non-null  float64\n",
      " 16  Mandarin               85855 non-null  float64\n",
      " 17  Portuguese             85855 non-null  float64\n",
      " 18  Russian                85855 non-null  float64\n",
      " 19  Spanish                85855 non-null  float64\n",
      " 20  Turkish                85855 non-null  float64\n",
      " 21  other                  85855 non-null  float64\n",
      " 22  Action                 85855 non-null  int32  \n",
      " 23  Adult                  85855 non-null  int32  \n",
      " 24  Adventure              85855 non-null  int32  \n",
      " 25  Animation              85855 non-null  int32  \n",
      " 26  Biography              85855 non-null  int32  \n",
      " 27  Comedy                 85855 non-null  int32  \n",
      " 28  Crime                  85855 non-null  int32  \n",
      " 29  Documentary            85855 non-null  int32  \n",
      " 30  Drama                  85855 non-null  int32  \n",
      " 31  Family                 85855 non-null  int32  \n",
      " 32  Fantasy                85855 non-null  int32  \n",
      " 33  Film-Noir              85855 non-null  int32  \n",
      " 34  History                85855 non-null  int32  \n",
      " 35  Horror                 85855 non-null  int32  \n",
      " 36  Music                  85855 non-null  int32  \n",
      " 37  Musical                85855 non-null  int32  \n",
      " 38  Mystery                85855 non-null  int32  \n",
      " 39  News                   85855 non-null  int32  \n",
      " 40  Reality-TV             85855 non-null  int32  \n",
      " 41  Romance                85855 non-null  int32  \n",
      " 42  Sci-Fi                 85855 non-null  int32  \n",
      " 43  Sport                  85855 non-null  int32  \n",
      " 44  Thriller               85855 non-null  int32  \n",
      " 45  War                    85855 non-null  int32  \n",
      " 46  Western                85855 non-null  int32  \n",
      "dtypes: float64(15), int32(25), int64(1), object(6)\n",
      "memory usage: 22.6+ MB\n"
     ]
    }
   ],
   "source": [
    "movies.info()"
   ]
  },
  {
   "cell_type": "code",
   "execution_count": 374,
   "metadata": {},
   "outputs": [],
   "source": [
    "movies.drop(['budget',\n",
    "            'usa_gross_income',\n",
    "            'worlwide_gross_income',\n",
    "            'production_company'], axis = 'columns', inplace = True)"
   ]
  },
  {
   "cell_type": "markdown",
   "metadata": {},
   "source": [
    "-------------------"
   ]
  },
  {
   "cell_type": "code",
   "execution_count": 375,
   "metadata": {},
   "outputs": [],
   "source": [
    "movies.avg_vote = movies['avg_vote'].round()"
   ]
  },
  {
   "cell_type": "code",
   "execution_count": 376,
   "metadata": {},
   "outputs": [
    {
     "name": "stdout",
     "output_type": "stream",
     "text": [
      "<class 'pandas.core.frame.DataFrame'>\n",
      "RangeIndex: 85855 entries, 0 to 85854\n",
      "Data columns (total 43 columns):\n",
      " #   Column         Non-Null Count  Dtype  \n",
      "---  ------         --------------  -----  \n",
      " 0   imdb_title_id  85855 non-null  object \n",
      " 1   year           85855 non-null  object \n",
      " 2   duration       85855 non-null  int64  \n",
      " 3   avg_vote       85855 non-null  float64\n",
      " 4   Cantonese      85855 non-null  float64\n",
      " 5   English        85855 non-null  float64\n",
      " 6   French         85855 non-null  float64\n",
      " 7   German         85855 non-null  float64\n",
      " 8   Hindi          85855 non-null  float64\n",
      " 9   Italian        85855 non-null  float64\n",
      " 10  Japanese       85855 non-null  float64\n",
      " 11  Korean         85855 non-null  float64\n",
      " 12  Mandarin       85855 non-null  float64\n",
      " 13  Portuguese     85855 non-null  float64\n",
      " 14  Russian        85855 non-null  float64\n",
      " 15  Spanish        85855 non-null  float64\n",
      " 16  Turkish        85855 non-null  float64\n",
      " 17  other          85855 non-null  float64\n",
      " 18  Action         85855 non-null  int32  \n",
      " 19  Adult          85855 non-null  int32  \n",
      " 20  Adventure      85855 non-null  int32  \n",
      " 21  Animation      85855 non-null  int32  \n",
      " 22  Biography      85855 non-null  int32  \n",
      " 23  Comedy         85855 non-null  int32  \n",
      " 24  Crime          85855 non-null  int32  \n",
      " 25  Documentary    85855 non-null  int32  \n",
      " 26  Drama          85855 non-null  int32  \n",
      " 27  Family         85855 non-null  int32  \n",
      " 28  Fantasy        85855 non-null  int32  \n",
      " 29  Film-Noir      85855 non-null  int32  \n",
      " 30  History        85855 non-null  int32  \n",
      " 31  Horror         85855 non-null  int32  \n",
      " 32  Music          85855 non-null  int32  \n",
      " 33  Musical        85855 non-null  int32  \n",
      " 34  Mystery        85855 non-null  int32  \n",
      " 35  News           85855 non-null  int32  \n",
      " 36  Reality-TV     85855 non-null  int32  \n",
      " 37  Romance        85855 non-null  int32  \n",
      " 38  Sci-Fi         85855 non-null  int32  \n",
      " 39  Sport          85855 non-null  int32  \n",
      " 40  Thriller       85855 non-null  int32  \n",
      " 41  War            85855 non-null  int32  \n",
      " 42  Western        85855 non-null  int32  \n",
      "dtypes: float64(15), int32(25), int64(1), object(2)\n",
      "memory usage: 20.0+ MB\n"
     ]
    }
   ],
   "source": [
    "movies.info()"
   ]
  },
  {
   "cell_type": "code",
   "execution_count": 377,
   "metadata": {},
   "outputs": [],
   "source": [
    "movies.drop(axis = 0, labels = 83917, inplace = True)"
   ]
  },
  {
   "cell_type": "code",
   "execution_count": 382,
   "metadata": {},
   "outputs": [
    {
     "data": {
      "text/plain": [
       "<AxesSubplot:>"
      ]
     },
     "execution_count": 382,
     "metadata": {},
     "output_type": "execute_result"
    },
    {
     "data": {
      "image/png": "[encoded data removed]",
      "text/plain": [
       "<Figure size 576x432 with 1 Axes>"
      ]
     },
     "metadata": {
      "needs_background": "light"
     },
     "output_type": "display_data"
    }
   ],
   "source": [
    "movies.avg_vote.value_counts().plot(kind='bar', figsize = (8,6))"
   ]
  },
  {
   "cell_type": "markdown",
   "metadata": {},
   "source": [
    "## Train test split"
   ]
  },
  {
   "cell_type": "code",
   "execution_count": 273,
   "metadata": {},
   "outputs": [],
   "source": [
    "targets = movies['avg_vote']"
   ]
  },
  {
   "cell_type": "code",
   "execution_count": 274,
   "metadata": {},
   "outputs": [
    {
     "data": {
      "text/plain": [
       "0        6.0\n",
       "1        6.0\n",
       "2        6.0\n",
       "3        5.0\n",
       "4        7.0\n",
       "        ... \n",
       "85850    5.0\n",
       "85851    8.0\n",
       "85852    8.0\n",
       "85853    6.0\n",
       "85854    7.0\n",
       "Name: avg_vote, Length: 85854, dtype: float64"
      ]
     },
     "execution_count": 274,
     "metadata": {},
     "output_type": "execute_result"
    }
   ],
   "source": [
    "targets"
   ]
  },
  {
   "cell_type": "code",
   "execution_count": 275,
   "metadata": {},
   "outputs": [],
   "source": [
    "movies.drop(axis = 'columns', labels = 'avg_vote', inplace = True)\n",
    "\n",
    "movies.drop(axis = 'columns', labels = 'imdb_title_id', inplace = True)"
   ]
  },
  {
   "cell_type": "code",
   "execution_count": 276,
   "metadata": {},
   "outputs": [],
   "source": [
    "from sklearn.model_selection import train_test_split\n",
    "\n",
    "X_train, X_test, y_train, y_test = train_test_split(movies, targets, test_size = 0.2, random_state = 0)#0.3\n",
    "\n",
    "y_train = pd.DataFrame(y_train)\n",
    "y_test = pd.DataFrame(y_test)"
   ]
  },
  {
   "cell_type": "code",
   "execution_count": 277,
   "metadata": {},
   "outputs": [
    {
     "data": {
      "text/plain": [
       "<AxesSubplot:xlabel='avg_vote'>"
      ]
     },
     "execution_count": 277,
     "metadata": {},
     "output_type": "execute_result"
    },
    {
     "data": {
      "image/png": "[encoded data removed]",
      "text/plain": [
       "<Figure size 432x288 with 1 Axes>"
      ]
     },
     "metadata": {
      "needs_background": "light"
     },
     "output_type": "display_data"
    }
   ],
   "source": [
    "from sklearn.linear_model import LinearRegression\n",
    "\n",
    "linear_reg = LinearRegression()\n",
    "\n",
    "linear_reg.fit(X_train, y_train)\n",
    "\n",
    "predictions = linear_reg.predict(X_test).round()\n",
    "\n",
    "y_test.value_counts().plot(kind = 'bar')"
   ]
  },
  {
   "cell_type": "code",
   "execution_count": 278,
   "metadata": {},
   "outputs": [
    {
     "data": {
      "text/plain": [
       "Counter({7.0: 2906,\n",
       "         6.0: 9803,\n",
       "         4.0: 593,\n",
       "         5.0: 3758,\n",
       "         8.0: 95,\n",
       "         3.0: 3,\n",
       "         9.0: 8,\n",
       "         15.0: 1,\n",
       "         11.0: 2,\n",
       "         12.0: 2})"
      ]
     },
     "execution_count": 278,
     "metadata": {},
     "output_type": "execute_result"
    }
   ],
   "source": [
    "import collections\n",
    "\n",
    "collections.Counter(predictions[:,-1])"
   ]
  },
  {
   "cell_type": "code",
   "execution_count": 279,
   "metadata": {},
   "outputs": [
    {
     "data": {
      "text/plain": [
       "array([[   0,    0,    0,    0,   10,    9,    1,    0,    0,    0,    0,\n",
       "           0],\n",
       "       [   0,    0,    1,   62,  112,   70,    3,    0,    0,    0,    0,\n",
       "           0],\n",
       "       [   0,    0,    0,  125,  308,  136,   13,    1,    0,    0,    0,\n",
       "           0],\n",
       "       [   0,    0,    0,  204,  777,  574,   58,    0,    1,    0,    0,\n",
       "           0],\n",
       "       [   0,    0,    1,  119,  995, 1555,  130,    1,    0,    0,    0,\n",
       "           0],\n",
       "       [   0,    0,    0,   65, 1133, 4278,  793,   17,    2,    0,    0,\n",
       "           0],\n",
       "       [   0,    0,    1,   15,  348, 2676, 1413,   47,    2,    1,    2,\n",
       "           0],\n",
       "       [   0,    0,    0,    3,   70,  479,  480,   27,    3,    1,    0,\n",
       "           1],\n",
       "       [   0,    0,    0,    0,    5,   26,   15,    2,    0,    0,    0,\n",
       "           0],\n",
       "       [   0,    0,    0,    0,    0,    0,    0,    0,    0,    0,    0,\n",
       "           0],\n",
       "       [   0,    0,    0,    0,    0,    0,    0,    0,    0,    0,    0,\n",
       "           0],\n",
       "       [   0,    0,    0,    0,    0,    0,    0,    0,    0,    0,    0,\n",
       "           0]], dtype=int64)"
      ]
     },
     "execution_count": 279,
     "metadata": {},
     "output_type": "execute_result"
    }
   ],
   "source": [
    "from sklearn.metrics import confusion_matrix\n",
    "\n",
    "confusion_matrix(y_test.round(), pd.DataFrame(predictions).round())"
   ]
  },
  {
   "cell_type": "code",
   "execution_count": 280,
   "metadata": {
    "scrolled": false
   },
   "outputs": [
    {
     "data": {
      "text/plain": [
       "<AxesSubplot:xlabel='avg_vote'>"
      ]
     },
     "execution_count": 280,
     "metadata": {},
     "output_type": "execute_result"
    },
    {
     "data": {
      "image/png": "[encoded data removed]",
      "text/plain": [
       "<Figure size 504x360 with 1 Axes>"
      ]
     },
     "metadata": {
      "needs_background": "light"
     },
     "output_type": "display_data"
    }
   ],
   "source": [
    "y_test.value_counts().plot(kind = 'bar', figsize =(7,5))"
   ]
  },
  {
   "cell_type": "code",
   "execution_count": 289,
   "metadata": {},
   "outputs": [],
   "source": [
    "from sklearn.metrics import mean_squared_error"
   ]
  },
  {
   "cell_type": "code",
   "execution_count": 307,
   "metadata": {},
   "outputs": [
    {
     "data": {
      "text/plain": [
       "1.122537164684829"
      ]
     },
     "execution_count": 307,
     "metadata": {},
     "output_type": "execute_result"
    }
   ],
   "source": [
    "mean_squared_error(y_test, predictions, squared = False)"
   ]
  },
  {
   "cell_type": "code",
   "execution_count": 158,
   "metadata": {},
   "outputs": [
    {
     "data": {
      "text/plain": [
       "1.2600896860986548"
      ]
     },
     "execution_count": 158,
     "metadata": {},
     "output_type": "execute_result"
    }
   ],
   "source": [
    "mean_squared_error(y_test, predictions)"
   ]
  },
  {
   "cell_type": "code",
   "execution_count": 159,
   "metadata": {},
   "outputs": [],
   "source": [
    "from sklearn.metrics import mean_absolute_error"
   ]
  },
  {
   "cell_type": "code",
   "execution_count": 160,
   "metadata": {},
   "outputs": [
    {
     "data": {
      "text/plain": [
       "0.7851027895870946"
      ]
     },
     "execution_count": 160,
     "metadata": {},
     "output_type": "execute_result"
    }
   ],
   "source": [
    "mean_absolute_error(y_test, predictions)"
   ]
  },
  {
   "cell_type": "markdown",
   "metadata": {},
   "source": [
    "----------------------------"
   ]
  },
  {
   "cell_type": "markdown",
   "metadata": {},
   "source": [
    "## Classification"
   ]
  },
  {
   "cell_type": "code",
   "execution_count": 324,
   "metadata": {},
   "outputs": [
    {
     "name": "stderr",
     "output_type": "stream",
     "text": [
      "C:\\Users\\ahmad\\anaconda3\\lib\\site-packages\\sklearn\\linear_model\\_stochastic_gradient.py:574: ConvergenceWarning: Maximum number of iteration reached before convergence. Consider increasing max_iter to improve the fit.\n",
      "  warnings.warn(\"Maximum number of iteration reached before \"\n"
     ]
    },
    {
     "data": {
      "text/plain": [
       "SGDClassifier(max_iter=64)"
      ]
     },
     "execution_count": 324,
     "metadata": {},
     "output_type": "execute_result"
    }
   ],
   "source": [
    "from sklearn.linear_model import SGDClassifier\n",
    "\n",
    "classifier = SGDClassifier(loss=\"hinge\", penalty=\"l2\", max_iter=64)\n",
    "classifier.fit(X_train, np.ravel(y_train))"
   ]
  },
  {
   "cell_type": "code",
   "execution_count": 326,
   "metadata": {},
   "outputs": [],
   "source": [
    "class_predictions = classifier.predict(X_test)"
   ]
  },
  {
   "cell_type": "code",
   "execution_count": 328,
   "metadata": {},
   "outputs": [
    {
     "data": {
      "text/plain": [
       "array([[   0,    0,    0,    0,    0,   17,    3,    0,    0],\n",
       "       [   0,    0,    0,    0,    0,  189,   59,    0,    0],\n",
       "       [   0,    0,    0,    0,    0,  444,  139,    0,    0],\n",
       "       [   0,    0,    0,    0,    0, 1123,  491,    0,    0],\n",
       "       [   0,    0,    0,    0,    0, 1688, 1113,    0,    0],\n",
       "       [   0,    0,    0,    0,    0, 2895, 3393,    0,    0],\n",
       "       [   0,    0,    0,    0,    0, 1390, 3115,    0,    0],\n",
       "       [   0,    0,    0,    0,    0,  170,  894,    0,    0],\n",
       "       [   0,    0,    0,    0,    0,    8,   40,    0,    0]],\n",
       "      dtype=int64)"
      ]
     },
     "execution_count": 328,
     "metadata": {},
     "output_type": "execute_result"
    }
   ],
   "source": [
    "confusion_matrix(y_test, class_predictions)"
   ]
  },
  {
   "cell_type": "code",
   "execution_count": 329,
   "metadata": {},
   "outputs": [],
   "source": [
    "from sklearn.metrics import precision_score"
   ]
  },
  {
   "cell_type": "code",
   "execution_count": 330,
   "metadata": {},
   "outputs": [],
   "source": [
    "from sklearn.metrics import recall_score"
   ]
  },
  {
   "cell_type": "code",
   "execution_count": 349,
   "metadata": {},
   "outputs": [
    {
     "data": {
      "text/plain": [
       "0.3500087356589599"
      ]
     },
     "execution_count": 349,
     "metadata": {},
     "output_type": "execute_result"
    }
   ],
   "source": [
    "precision_score(y_test, class_predictions, average = 'micro')"
   ]
  },
  {
   "cell_type": "code",
   "execution_count": 348,
   "metadata": {},
   "outputs": [
    {
     "data": {
      "text/plain": [
       "0.3500087356589599"
      ]
     },
     "execution_count": 348,
     "metadata": {},
     "output_type": "execute_result"
    }
   ],
   "source": [
    "recall_score(y_test, class_predictions, average = 'micro')"
   ]
  },
  {
   "cell_type": "code",
   "execution_count": 336,
   "metadata": {},
   "outputs": [],
   "source": [
    "from sklearn.metrics import f1_score"
   ]
  },
  {
   "cell_type": "code",
   "execution_count": 347,
   "metadata": {},
   "outputs": [
    {
     "data": {
      "text/plain": [
       "0.3500087356589599"
      ]
     },
     "execution_count": 347,
     "metadata": {},
     "output_type": "execute_result"
    }
   ],
   "source": [
    "f1_score(y_test, class_predictions, average = 'micro')"
   ]
  },
  {
   "cell_type": "markdown",
   "metadata": {},
   "source": [
    "## KNN"
   ]
  },
  {
   "cell_type": "code",
   "execution_count": 351,
   "metadata": {},
   "outputs": [
    {
     "data": {
      "text/plain": [
       "KNeighborsClassifier(n_neighbors=3)"
      ]
     },
     "execution_count": 351,
     "metadata": {},
     "output_type": "execute_result"
    }
   ],
   "source": [
    "from sklearn.neighbors import KNeighborsClassifier\n",
    "\n",
    "neigh = KNeighborsClassifier(n_neighbors=3)\n",
    "neigh.fit(X_train, np.ravel(y_train))\n"
   ]
  },
  {
   "cell_type": "code",
   "execution_count": 353,
   "metadata": {},
   "outputs": [],
   "source": [
    "KNN_predictions = neigh.predict(X_test)"
   ]
  },
  {
   "cell_type": "code",
   "execution_count": 359,
   "metadata": {},
   "outputs": [
    {
     "data": {
      "text/plain": [
       "0.4028303535029993"
      ]
     },
     "execution_count": 359,
     "metadata": {},
     "output_type": "execute_result"
    }
   ],
   "source": [
    "f1_score(y_test, predictions, average = 'micro')"
   ]
  }
 ],
 "metadata": {
  "kernelspec": {
   "display_name": "Python 3",
   "language": "python",
   "name": "python3"
  },
  "language_info": {
   "codemirror_mode": {
    "name": "ipython",
    "version": 3
   },
   "file_extension": ".py",
   "mimetype": "text/x-python",
   "name": "python",
   "nbconvert_exporter": "python",
   "pygments_lexer": "ipython3",
   "version": "3.8.3"
  }
 },
 "nbformat": 4,
 "nbformat_minor": 4
}
