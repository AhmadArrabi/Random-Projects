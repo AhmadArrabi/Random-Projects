{
 "cells": [
  {
   "cell_type": "markdown",
   "metadata": {},
   "source": [
    "# ML Project: Creating the Dataset (Mortality Rate)"
   ]
  },
  {
   "cell_type": "markdown",
   "metadata": {},
   "source": [
    "*Note: All datasets were updated in late October, early November.*\n",
    "\n",
    "*At first, when updating, noticeable changes occurred. Instance count jumped from 50 to 60 to 75 within two weeks. Then, after about a month (early November), changes were insignificant and the number of countries reached its steady state with about 80 countries.*"
   ]
  },
  {
   "cell_type": "markdown",
   "metadata": {},
   "source": [
    "We'll join multiple datasets on a common feature. The common feature is 'Country'"
   ]
  },
  {
   "cell_type": "code",
   "execution_count": 1,
   "metadata": {},
   "outputs": [],
   "source": [
    "import pandas as pd\n",
    "import matplotlib.pyplot as plt "
   ]
  },
  {
   "cell_type": "code",
   "execution_count": 3,
   "metadata": {},
   "outputs": [],
   "source": [
    "cases_data=pd.read_csv(\"../COVID dataset/owid-covid-data3.csv\")#covid latest 2\n",
    "population_data=pd.read_csv(\"../COVID dataset/population.csv\")\n",
    "countries_data=pd.read_csv(\"../COVID dataset/countries of the world.csv\")\n",
    "usefulfeatures_data=pd.read_csv(\"../COVID dataset/countries useful features.csv\")\n",
    "GDP_data=pd.read_csv(\"../COVID dataset/GDP.csv\")\n",
    "HF_data=pd.read_csv(\"../COVID dataset/hf score.csv\")\n",
    "literacy1_data=pd.read_csv(\"../COVID dataset/literacy rate 1.csv\")"
   ]
  },
  {
   "cell_type": "code",
   "execution_count": 4,
   "metadata": {},
   "outputs": [
    {
     "name": "stdout",
     "output_type": "stream",
     "text": [
      "<class 'pandas.core.frame.DataFrame'>\n",
      "RangeIndex: 80735 entries, 0 to 80734\n",
      "Data columns (total 59 columns):\n",
      " #   Column                                 Non-Null Count  Dtype  \n",
      "---  ------                                 --------------  -----  \n",
      " 0   iso_code                               80735 non-null  object \n",
      " 1   continent                              76804 non-null  object \n",
      " 2   location                               80735 non-null  object \n",
      " 3   date                                   80735 non-null  object \n",
      " 4   total_cases                            79092 non-null  float64\n",
      " 5   new_cases                              79090 non-null  float64\n",
      " 6   new_cases_smoothed                     78089 non-null  float64\n",
      " 7   total_deaths                           69598 non-null  float64\n",
      " 8   new_deaths                             69756 non-null  float64\n",
      " 9   new_deaths_smoothed                    78089 non-null  float64\n",
      " 10  total_cases_per_million                78663 non-null  float64\n",
      " 11  new_cases_per_million                  78661 non-null  float64\n",
      " 12  new_cases_smoothed_per_million         77665 non-null  float64\n",
      " 13  total_deaths_per_million               69182 non-null  float64\n",
      " 14  new_deaths_per_million                 69340 non-null  float64\n",
      " 15  new_deaths_smoothed_per_million        77665 non-null  float64\n",
      " 16  reproduction_rate                      65120 non-null  float64\n",
      " 17  icu_patients                           8456 non-null   float64\n",
      " 18  icu_patients_per_million               8456 non-null   float64\n",
      " 19  hosp_patients                          10127 non-null  float64\n",
      " 20  hosp_patients_per_million              10127 non-null  float64\n",
      " 21  weekly_icu_admissions                  743 non-null    float64\n",
      " 22  weekly_icu_admissions_per_million      743 non-null    float64\n",
      " 23  weekly_hosp_admissions                 1240 non-null   float64\n",
      " 24  weekly_hosp_admissions_per_million     1240 non-null   float64\n",
      " 25  new_tests                              36943 non-null  float64\n",
      " 26  total_tests                            36675 non-null  float64\n",
      " 27  total_tests_per_thousand               36675 non-null  float64\n",
      " 28  new_tests_per_thousand                 36943 non-null  float64\n",
      " 29  new_tests_smoothed                     42259 non-null  float64\n",
      " 30  new_tests_smoothed_per_thousand        42259 non-null  float64\n",
      " 31  positive_rate                          40925 non-null  float64\n",
      " 32  tests_per_case                         40309 non-null  float64\n",
      " 33  tests_units                            43654 non-null  object \n",
      " 34  total_vaccinations                     6906 non-null   float64\n",
      " 35  people_vaccinated                      6268 non-null   float64\n",
      " 36  people_fully_vaccinated                4459 non-null   float64\n",
      " 37  new_vaccinations                       5854 non-null   float64\n",
      " 38  new_vaccinations_smoothed              10916 non-null  float64\n",
      " 39  total_vaccinations_per_hundred         6906 non-null   float64\n",
      " 40  people_vaccinated_per_hundred          6268 non-null   float64\n",
      " 41  people_fully_vaccinated_per_hundred    4459 non-null   float64\n",
      " 42  new_vaccinations_smoothed_per_million  10916 non-null  float64\n",
      " 43  stringency_index                       68691 non-null  float64\n",
      " 44  population                             80235 non-null  float64\n",
      " 45  population_density                     75242 non-null  float64\n",
      " 46  median_age                             72972 non-null  float64\n",
      " 47  aged_65_older                          72136 non-null  float64\n",
      " 48  aged_70_older                          72562 non-null  float64\n",
      " 49  gdp_per_capita                         73274 non-null  float64\n",
      " 50  extreme_poverty                        49964 non-null  float64\n",
      " 51  cardiovasc_death_rate                  73866 non-null  float64\n",
      " 52  diabetes_prevalence                    74855 non-null  float64\n",
      " 53  female_smokers                         57973 non-null  float64\n",
      " 54  male_smokers                           57117 non-null  float64\n",
      " 55  handwashing_facilities                 37107 non-null  float64\n",
      " 56  hospital_beds_per_thousand             67512 non-null  float64\n",
      " 57  life_expectancy                        76640 non-null  float64\n",
      " 58  human_development_index                73809 non-null  float64\n",
      "dtypes: float64(54), object(5)\n",
      "memory usage: 36.3+ MB\n"
     ]
    }
   ],
   "source": [
    "cases_data.info()"
   ]
  },
  {
   "cell_type": "markdown",
   "metadata": {},
   "source": [
    "Select the desired feature from the datasets then join them. We chose population and density.\n",
    "\n",
    "Make sure that the column 'Country' is written identicaly "
   ]
  },
  {
   "cell_type": "code",
   "execution_count": 5,
   "metadata": {},
   "outputs": [],
   "source": [
    "#population_data.info()"
   ]
  },
  {
   "cell_type": "code",
   "execution_count": 6,
   "metadata": {},
   "outputs": [],
   "source": [
    "population_data=population_data.rename(columns={'Country (or dependency)':'Country','Density (P/Km²)':'Density','Population (2020)':'Population'})\n",
    "\n",
    "population_data=population_data.filter(items=['Country','Population','Density'])\n",
    "\n",
    "cases_data=cases_data.rename(columns={'location':'Country'})\n",
    "\n",
    "cases_data=cases_data.filter(items=['date',\n",
    "                                    'Country',\n",
    "                                    'total_cases',\n",
    "                                    'extreme_poverty',\n",
    "                                    'human_development_index',\n",
    "                                    'hospital_beds_per_thousand',\n",
    "                                    'continent',\n",
    "                                    'reproduction_rate',\n",
    "                                    'total_deaths',\n",
    "                                    'stringency_index',\n",
    "                                    'median_age',\n",
    "                                    'aged_70_older',\n",
    "                                    'cardiovasc_death_rate',\n",
    "                                    'diabetes_prevalence',\n",
    "                                    'life_expectancy'])\n",
    "\n",
    "result=population_data.join(cases_data.set_index('Country'), on='Country')"
   ]
  },
  {
   "cell_type": "markdown",
   "metadata": {},
   "source": [
    "Change 'date' from object to datetime. datetime allows us to apply helpful operations of our date features"
   ]
  },
  {
   "cell_type": "code",
   "execution_count": 7,
   "metadata": {},
   "outputs": [],
   "source": [
    "result['date'] = result['date'].apply(pd.to_datetime)"
   ]
  },
  {
   "cell_type": "markdown",
   "metadata": {},
   "source": [
    "Only select countries where cases reached at least 1% of its population. \n",
    "\n",
    "Apply minimum function. Now the date when cases reached 1% is selected."
   ]
  },
  {
   "cell_type": "code",
   "execution_count": 8,
   "metadata": {},
   "outputs": [],
   "source": [
    "result = result.loc[result['date'] == \"2021-03-29\"]"
   ]
  },
  {
   "cell_type": "code",
   "execution_count": 9,
   "metadata": {},
   "outputs": [
    {
     "data": {
      "text/plain": [
       "Country                        0\n",
       "Population                     0\n",
       "Density                        0\n",
       "date                           0\n",
       "total_cases                    7\n",
       "extreme_poverty               68\n",
       "human_development_index       10\n",
       "hospital_beds_per_thousand    26\n",
       "continent                      0\n",
       "reproduction_rate             13\n",
       "total_deaths                  13\n",
       "stringency_index              31\n",
       "median_age                    11\n",
       "aged_70_older                 12\n",
       "cardiovasc_death_rate          9\n",
       "diabetes_prevalence            6\n",
       "life_expectancy                0\n",
       "dtype: int64"
      ]
     },
     "execution_count": 9,
     "metadata": {},
     "output_type": "execute_result"
    }
   ],
   "source": [
    "result.isnull().sum()"
   ]
  },
  {
   "cell_type": "code",
   "execution_count": 10,
   "metadata": {},
   "outputs": [
    {
     "name": "stdout",
     "output_type": "stream",
     "text": [
      "<class 'pandas.core.frame.DataFrame'>\n",
      "Int64Index: 186 entries, 0 to 234\n",
      "Data columns (total 17 columns):\n",
      " #   Column                      Non-Null Count  Dtype         \n",
      "---  ------                      --------------  -----         \n",
      " 0   Country                     186 non-null    object        \n",
      " 1   Population                  186 non-null    int64         \n",
      " 2   Density                     186 non-null    int64         \n",
      " 3   date                        186 non-null    datetime64[ns]\n",
      " 4   total_cases                 179 non-null    float64       \n",
      " 5   extreme_poverty             118 non-null    float64       \n",
      " 6   human_development_index     176 non-null    float64       \n",
      " 7   hospital_beds_per_thousand  160 non-null    float64       \n",
      " 8   continent                   186 non-null    object        \n",
      " 9   reproduction_rate           173 non-null    float64       \n",
      " 10  total_deaths                173 non-null    float64       \n",
      " 11  stringency_index            155 non-null    float64       \n",
      " 12  median_age                  175 non-null    float64       \n",
      " 13  aged_70_older               174 non-null    float64       \n",
      " 14  cardiovasc_death_rate       177 non-null    float64       \n",
      " 15  diabetes_prevalence         180 non-null    float64       \n",
      " 16  life_expectancy             186 non-null    float64       \n",
      "dtypes: datetime64[ns](1), float64(12), int64(2), object(2)\n",
      "memory usage: 26.2+ KB\n"
     ]
    }
   ],
   "source": [
    "result.info()"
   ]
  },
  {
   "cell_type": "code",
   "execution_count": 18,
   "metadata": {},
   "outputs": [],
   "source": [
    "result = result.drop(axis = 0, labels = list(result.loc[result['total_cases'].isnull()].index))\n",
    "result = result.drop(axis = 0, labels = list(result.loc[result['total_deaths'].isnull()].index))"
   ]
  },
  {
   "cell_type": "code",
   "execution_count": 19,
   "metadata": {},
   "outputs": [
    {
     "name": "stdout",
     "output_type": "stream",
     "text": [
      "<class 'pandas.core.frame.DataFrame'>\n",
      "Index: 173 entries, Afghanistan to Zimbabwe\n",
      "Data columns (total 17 columns):\n",
      " #   Column                      Non-Null Count  Dtype         \n",
      "---  ------                      --------------  -----         \n",
      " 0   Population                  173 non-null    int64         \n",
      " 1   Density                     173 non-null    int64         \n",
      " 2   date                        173 non-null    datetime64[ns]\n",
      " 3   total_cases                 173 non-null    float64       \n",
      " 4   extreme_poverty             115 non-null    float64       \n",
      " 5   human_development_index     169 non-null    float64       \n",
      " 6   hospital_beds_per_thousand  156 non-null    float64       \n",
      " 7   continent                   173 non-null    object        \n",
      " 8   reproduction_rate           172 non-null    float64       \n",
      " 9   total_deaths                173 non-null    float64       \n",
      " 10  stringency_index            149 non-null    float64       \n",
      " 11  median_age                  169 non-null    float64       \n",
      " 12  aged_70_older               168 non-null    float64       \n",
      " 13  cardiovasc_death_rate       170 non-null    float64       \n",
      " 14  diabetes_prevalence         171 non-null    float64       \n",
      " 15  life_expectancy             173 non-null    float64       \n",
      " 16  mortality_rate              173 non-null    float64       \n",
      "dtypes: datetime64[ns](1), float64(13), int64(2), object(1)\n",
      "memory usage: 24.3+ KB\n"
     ]
    }
   ],
   "source": [
    "result=result.set_index('Country')\n",
    "\n",
    "result['mortality_rate'] = result['total_deaths']/result['total_cases']\n",
    "\n",
    "result.info()"
   ]
  },
  {
   "cell_type": "markdown",
   "metadata": {},
   "source": [
    "Join with the next dataset (countries_data). We'll select 'Climate' from this dataset.\n",
    "\n",
    "Note: We applied str.strip() to remove spaces from the begining and end of the country column. This dataset (countries of the world) has a space at the begining of each country. To correctly join them the 'Country' column has to be identical. "
   ]
  },
  {
   "cell_type": "code",
   "execution_count": 20,
   "metadata": {},
   "outputs": [
    {
     "name": "stdout",
     "output_type": "stream",
     "text": [
      "<class 'pandas.core.frame.DataFrame'>\n",
      "RangeIndex: 227 entries, 0 to 226\n",
      "Data columns (total 20 columns):\n",
      " #   Column                              Non-Null Count  Dtype  \n",
      "---  ------                              --------------  -----  \n",
      " 0   Country                             227 non-null    object \n",
      " 1   Region                              227 non-null    object \n",
      " 2   Population                          227 non-null    int64  \n",
      " 3   Area (sq. mi.)                      227 non-null    int64  \n",
      " 4   Pop. Density (per sq. mi.)          227 non-null    object \n",
      " 5   Coastline (coast/area ratio)        227 non-null    object \n",
      " 6   Net migration                       224 non-null    object \n",
      " 7   Infant mortality (per 1000 births)  224 non-null    object \n",
      " 8   GDP ($ per capita)                  226 non-null    float64\n",
      " 9   Literacy (%)                        209 non-null    object \n",
      " 10  Phones (per 1000)                   223 non-null    object \n",
      " 11  Arable (%)                          225 non-null    object \n",
      " 12  Crops (%)                           225 non-null    object \n",
      " 13  Other (%)                           225 non-null    object \n",
      " 14  Climate                             216 non-null    float64\n",
      " 15  Birthrate                           224 non-null    object \n",
      " 16  Deathrate                           223 non-null    object \n",
      " 17  Agriculture                         212 non-null    object \n",
      " 18  Industry                            211 non-null    object \n",
      " 19  Service                             212 non-null    object \n",
      "dtypes: float64(2), int64(2), object(16)\n",
      "memory usage: 35.6+ KB\n"
     ]
    }
   ],
   "source": [
    "countries_data.info()"
   ]
  },
  {
   "cell_type": "code",
   "execution_count": 21,
   "metadata": {},
   "outputs": [],
   "source": [
    "result=result.reset_index()\n",
    "\n",
    "countries_data=countries_data.filter(items=['Country','Region','Climate'])\n",
    "countries_data['Country']=countries_data['Country'].str.strip()"
   ]
  },
  {
   "cell_type": "markdown",
   "metadata": {},
   "source": [
    "We noticed that we don't need the feature 'Region' as we'll be using 'continent' from another dataset.\n",
    "\n",
    "Drop features with NULL climate."
   ]
  },
  {
   "cell_type": "code",
   "execution_count": 22,
   "metadata": {
    "scrolled": true
   },
   "outputs": [],
   "source": [
    "countries_data=countries_data.dropna(subset=[\"Climate\"])\n",
    "countries_data=countries_data.reset_index(drop=True)\n",
    "\n",
    "countries_data.drop('Region',axis='columns', inplace=True)\n",
    "\n",
    "countriesData=result.set_index('Country').join(countries_data.set_index('Country'))"
   ]
  },
  {
   "cell_type": "markdown",
   "metadata": {},
   "source": [
    "Join with the next dataset (useful features data). \n",
    "\n",
    "We'll select Tourism, Date of first case, Latitude, Longitude, Lockdown date, and Lockdown type."
   ]
  },
  {
   "cell_type": "code",
   "execution_count": 23,
   "metadata": {},
   "outputs": [
    {
     "name": "stdout",
     "output_type": "stream",
     "text": [
      "<class 'pandas.core.frame.DataFrame'>\n",
      "RangeIndex: 184 entries, 0 to 183\n",
      "Data columns (total 11 columns):\n",
      " #   Column                   Non-Null Count  Dtype  \n",
      "---  ------                   --------------  -----  \n",
      " 0   Country_Region           184 non-null    object \n",
      " 1   Population_Size          184 non-null    int64  \n",
      " 2   Tourism                  184 non-null    int64  \n",
      " 3   Date_FirstFatality       156 non-null    object \n",
      " 4   Date_FirstConfirmedCase  184 non-null    object \n",
      " 5   Latitude                 184 non-null    float64\n",
      " 6   Longtitude               184 non-null    float64\n",
      " 7   Mean_Age                 184 non-null    float64\n",
      " 8   Lockdown_Date            151 non-null    object \n",
      " 9   Lockdown_Type            151 non-null    object \n",
      " 10  Country_Code             184 non-null    object \n",
      "dtypes: float64(3), int64(2), object(6)\n",
      "memory usage: 15.9+ KB\n"
     ]
    }
   ],
   "source": [
    "usefulfeatures_data.info()"
   ]
  },
  {
   "cell_type": "code",
   "execution_count": 24,
   "metadata": {},
   "outputs": [
    {
     "name": "stdout",
     "output_type": "stream",
     "text": [
      "<class 'pandas.core.frame.DataFrame'>\n",
      "RangeIndex: 184 entries, 0 to 183\n",
      "Data columns (total 7 columns):\n",
      " #   Column                   Non-Null Count  Dtype  \n",
      "---  ------                   --------------  -----  \n",
      " 0   Country_Region           184 non-null    object \n",
      " 1   Tourism                  184 non-null    int64  \n",
      " 2   Date_FirstConfirmedCase  184 non-null    object \n",
      " 3   Latitude                 184 non-null    float64\n",
      " 4   Longtitude               184 non-null    float64\n",
      " 5   Lockdown_Date            151 non-null    object \n",
      " 6   Lockdown_Type            151 non-null    object \n",
      "dtypes: float64(2), int64(1), object(4)\n",
      "memory usage: 10.2+ KB\n"
     ]
    }
   ],
   "source": [
    "countriesData=countriesData.reset_index()\n",
    "\n",
    "usefulfeatures_data=usefulfeatures_data.filter(items=['Country_Region','Tourism','Date_FirstConfirmedCase','Latitude','Longtitude','Lockdown_Date','Lockdown_Type'])\n",
    "usefulfeatures_data.info()"
   ]
  },
  {
   "cell_type": "markdown",
   "metadata": {},
   "source": [
    "Change date from object to datetime"
   ]
  },
  {
   "cell_type": "code",
   "execution_count": 25,
   "metadata": {},
   "outputs": [],
   "source": [
    "usefulfeatures_data=usefulfeatures_data.rename(columns={'Country_Region':'Country'})\n",
    "\n",
    "usefulfeatures_data['Lockdown_Date']=usefulfeatures_data['Lockdown_Date'].apply(pd.to_datetime)\n",
    "usefulfeatures_data['Date_FirstConfirmedCase']=usefulfeatures_data['Date_FirstConfirmedCase'].apply(pd.to_datetime)\n",
    "\n",
    "countriesData=countriesData.set_index('Country').join(usefulfeatures_data.set_index('Country'))"
   ]
  },
  {
   "cell_type": "markdown",
   "metadata": {},
   "source": [
    "Rename the date column. Drop total cases, we don't need it."
   ]
  },
  {
   "cell_type": "code",
   "execution_count": 26,
   "metadata": {},
   "outputs": [],
   "source": [
    "countriesData=countriesData.reset_index()\n",
    "\n",
    "#countriesData=countriesData.rename(columns={'date':'Date to reach 1%'})\n",
    "\n",
    "#countriesData=countriesData.drop(['total_cases'], axis=1)"
   ]
  },
  {
   "cell_type": "markdown",
   "metadata": {},
   "source": [
    "Join the next dataset (GDP). We'll use the feature GDP from this dataset."
   ]
  },
  {
   "cell_type": "code",
   "execution_count": 27,
   "metadata": {},
   "outputs": [
    {
     "name": "stdout",
     "output_type": "stream",
     "text": [
      "<class 'pandas.core.frame.DataFrame'>\n",
      "RangeIndex: 260 entries, 0 to 259\n",
      "Data columns (total 32 columns):\n",
      " #   Column        Non-Null Count  Dtype  \n",
      "---  ------        --------------  -----  \n",
      " 0   Country       260 non-null    object \n",
      " 1   Country Code  260 non-null    object \n",
      " 2   1990          209 non-null    float64\n",
      " 3   1991          211 non-null    float64\n",
      " 4   1992          213 non-null    float64\n",
      " 5   1993          215 non-null    float64\n",
      " 6   1994          218 non-null    float64\n",
      " 7   1995          224 non-null    float64\n",
      " 8   1996          224 non-null    float64\n",
      " 9   1997          225 non-null    float64\n",
      " 10  1998          226 non-null    float64\n",
      " 11  1999          227 non-null    float64\n",
      " 12  2000          236 non-null    float64\n",
      " 13  2001          237 non-null    float64\n",
      " 14  2002          238 non-null    float64\n",
      " 15  2003          238 non-null    float64\n",
      " 16  2004          238 non-null    float64\n",
      " 17  2005          238 non-null    float64\n",
      " 18  2006          238 non-null    float64\n",
      " 19  2007          239 non-null    float64\n",
      " 20  2008          240 non-null    float64\n",
      " 21  2009          241 non-null    float64\n",
      " 22  2010          241 non-null    float64\n",
      " 23  2011          243 non-null    float64\n",
      " 24  2012          241 non-null    float64\n",
      " 25  2013          241 non-null    float64\n",
      " 26  2014          240 non-null    float64\n",
      " 27  2015          238 non-null    float64\n",
      " 28  2016          238 non-null    float64\n",
      " 29  2017          238 non-null    float64\n",
      " 30  2018          231 non-null    float64\n",
      " 31  2019          0 non-null      float64\n",
      "dtypes: float64(30), object(2)\n",
      "memory usage: 65.1+ KB\n"
     ]
    }
   ],
   "source": [
    "GDP_data.info()"
   ]
  },
  {
   "cell_type": "code",
   "execution_count": 28,
   "metadata": {},
   "outputs": [],
   "source": [
    "GDP_data=GDP_data.filter(items=['Country ','2017','2018'])\n",
    "\n",
    "GDP_data=GDP_data.rename(columns={'Country ':'Country'})"
   ]
  },
  {
   "cell_type": "markdown",
   "metadata": {},
   "source": [
    "From the GDP dataset, we'll be using values collected from 2018. Some 2018 values are null so fill them with older 2017 GDP values.\n",
    "\n",
    "Then, drop 2017 GDP column as we don't need it anymore"
   ]
  },
  {
   "cell_type": "code",
   "execution_count": 29,
   "metadata": {},
   "outputs": [],
   "source": [
    "GDP_data['2018']=GDP_data['2018'].fillna(GDP_data['2017'])\n",
    "\n",
    "GDP_data=GDP_data.drop(['2017'], axis=1)\n",
    "\n",
    "GDP_data=GDP_data.rename(columns={'2018':'GDP 2018'})\n",
    "\n",
    "countriesData=countriesData.set_index('Country').join(GDP_data.set_index('Country'))"
   ]
  },
  {
   "cell_type": "markdown",
   "metadata": {},
   "source": [
    "Join the next dataset (HF data). We'll select the human freedom score from this dataset."
   ]
  },
  {
   "cell_type": "code",
   "execution_count": 30,
   "metadata": {},
   "outputs": [
    {
     "name": "stdout",
     "output_type": "stream",
     "text": [
      "<class 'pandas.core.frame.DataFrame'>\n",
      "RangeIndex: 162 entries, 0 to 161\n",
      "Columns: 120 entries, year to ef_rank\n",
      "dtypes: float64(43), int64(13), object(64)\n",
      "memory usage: 152.0+ KB\n"
     ]
    }
   ],
   "source": [
    "HF_data.info()"
   ]
  },
  {
   "cell_type": "code",
   "execution_count": 31,
   "metadata": {},
   "outputs": [],
   "source": [
    "HF_data=HF_data.filter(items=['countries','hf_score'])\n",
    "\n",
    "HF_data=HF_data.rename(columns={'countries':'Country','hf_score':'HF score 2017'})\n",
    "\n",
    "countriesData=countriesData.reset_index()\n",
    "\n",
    "countriesData=countriesData.set_index('Country').join(HF_data.set_index('Country'))"
   ]
  },
  {
   "cell_type": "code",
   "execution_count": 32,
   "metadata": {},
   "outputs": [],
   "source": [
    "countriesData=countriesData.reset_index()\n",
    "countriesData=countriesData.reset_index()"
   ]
  },
  {
   "cell_type": "markdown",
   "metadata": {},
   "source": [
    "Join the next dataset (literacy data). We selected the average literacy rate."
   ]
  },
  {
   "cell_type": "code",
   "execution_count": 33,
   "metadata": {},
   "outputs": [
    {
     "name": "stdout",
     "output_type": "stream",
     "text": [
      "<class 'pandas.core.frame.DataFrame'>\n",
      "RangeIndex: 150 entries, 0 to 149\n",
      "Data columns (total 9 columns):\n",
      " #   Column                           Non-Null Count  Dtype  \n",
      "---  ------                           --------------  -----  \n",
      " 0   country                          150 non-null    object \n",
      " 1    literacy_rate_percent_all       150 non-null    object \n",
      " 2    male_literacy_percent_rate      150 non-null    float64\n",
      " 3    female_literacy_percent_rate    150 non-null    float64\n",
      " 4    gender_difference_percentWorld  150 non-null    float64\n",
      " 5   86.3                             1 non-null      float64\n",
      " 6   90.0                             0 non-null      float64\n",
      " 7   82.7                             0 non-null      float64\n",
      " 8   7.3\t                             0 non-null      float64\n",
      "dtypes: float64(7), object(2)\n",
      "memory usage: 10.7+ KB\n"
     ]
    }
   ],
   "source": [
    "literacy1_data.info()"
   ]
  },
  {
   "cell_type": "code",
   "execution_count": 34,
   "metadata": {},
   "outputs": [],
   "source": [
    "literacy1_data=literacy1_data.filter(items=['country',' literacy_rate_percent_all'])\n",
    "\n",
    "literacy1_data=literacy1_data.rename(columns={'country':'Country',' literacy_rate_percent_all':'literacy rate'})\n",
    "\n",
    "countriesData=countriesData.set_index('Country').join(literacy1_data.set_index('Country'), on='Country')\n",
    "\n",
    "countriesData=countriesData.reset_index()"
   ]
  },
  {
   "cell_type": "code",
   "execution_count": 36,
   "metadata": {},
   "outputs": [],
   "source": [
    "#countriesData = countriesData.drop(axis=0, labels = [142,152])\n",
    "countriesData = countriesData.drop(axis=0, labels = countriesData.loc[countriesData.isnull().sum(axis=1)>10].index)"
   ]
  },
  {
   "cell_type": "markdown",
   "metadata": {},
   "source": [
    "We now have our dataset ready! \n",
    "\n",
    "Save it in the project repository."
   ]
  },
  {
   "cell_type": "code",
   "execution_count": 37,
   "metadata": {},
   "outputs": [
    {
     "name": "stdout",
     "output_type": "stream",
     "text": [
      "<class 'pandas.core.frame.DataFrame'>\n",
      "Int64Index: 172 entries, 0 to 172\n",
      "Data columns (total 29 columns):\n",
      " #   Column                      Non-Null Count  Dtype         \n",
      "---  ------                      --------------  -----         \n",
      " 0   Country                     172 non-null    object        \n",
      " 1   index                       172 non-null    int64         \n",
      " 2   Population                  172 non-null    int64         \n",
      " 3   Density                     172 non-null    int64         \n",
      " 4   date                        172 non-null    datetime64[ns]\n",
      " 5   total_cases                 172 non-null    float64       \n",
      " 6   extreme_poverty             115 non-null    float64       \n",
      " 7   human_development_index     169 non-null    float64       \n",
      " 8   hospital_beds_per_thousand  156 non-null    float64       \n",
      " 9   continent                   172 non-null    object        \n",
      " 10  reproduction_rate           171 non-null    float64       \n",
      " 11  total_deaths                172 non-null    float64       \n",
      " 12  stringency_index            148 non-null    float64       \n",
      " 13  median_age                  168 non-null    float64       \n",
      " 14  aged_70_older               167 non-null    float64       \n",
      " 15  cardiovasc_death_rate       169 non-null    float64       \n",
      " 16  diabetes_prevalence         171 non-null    float64       \n",
      " 17  life_expectancy             172 non-null    float64       \n",
      " 18  mortality_rate              172 non-null    float64       \n",
      " 19  Climate                     153 non-null    float64       \n",
      " 20  Tourism                     165 non-null    float64       \n",
      " 21  Date_FirstConfirmedCase     165 non-null    datetime64[ns]\n",
      " 22  Latitude                    165 non-null    float64       \n",
      " 23  Longtitude                  165 non-null    float64       \n",
      " 24  Lockdown_Date               141 non-null    datetime64[ns]\n",
      " 25  Lockdown_Type               141 non-null    object        \n",
      " 26  GDP 2018                    155 non-null    float64       \n",
      " 27  HF score 2017               144 non-null    float64       \n",
      " 28  literacy rate               134 non-null    object        \n",
      "dtypes: datetime64[ns](3), float64(19), int64(3), object(4)\n",
      "memory usage: 40.3+ KB\n"
     ]
    }
   ],
   "source": [
    "countriesData.info()"
   ]
  },
  {
   "cell_type": "code",
   "execution_count": 38,
   "metadata": {},
   "outputs": [
    {
     "data": {
      "text/plain": [
       "(array([111.,  51.,   6.,   2.,   1.,   0.,   0.,   0.,   0.,   1.]),\n",
       " array([0.00049734, 0.02141966, 0.04234198, 0.0632643 , 0.08418662,\n",
       "        0.10510894, 0.12603126, 0.14695358, 0.1678759 , 0.18879822,\n",
       "        0.20972053]),\n",
       " <BarContainer object of 10 artists>)"
      ]
     },
     "execution_count": 38,
     "metadata": {},
     "output_type": "execute_result"
    },
    {
     "data": {
      "image/png": "[encoded data removed]",
      "text/plain": [
       "<Figure size 432x288 with 1 Axes>"
      ]
     },
     "metadata": {
      "needs_background": "light"
     },
     "output_type": "display_data"
    }
   ],
   "source": [
    "plt.hist(countriesData['mortality_rate'])"
   ]
  },
  {
   "cell_type": "code",
   "execution_count": 42,
   "metadata": {},
   "outputs": [],
   "source": [
    "countriesData = countriesData.drop(axis=0, labels = countriesData.loc[countriesData['mortality_rate']>=0.15].index) #drop yemen"
   ]
  },
  {
   "cell_type": "code",
   "execution_count": 43,
   "metadata": {},
   "outputs": [
    {
     "data": {
      "text/html": [
       "<div>\n",
       "<style scoped>\n",
       "    .dataframe tbody tr th:only-of-type {\n",
       "        vertical-align: middle;\n",
       "    }\n",
       "\n",
       "    .dataframe tbody tr th {\n",
       "        vertical-align: top;\n",
       "    }\n",
       "\n",
       "    .dataframe thead th {\n",
       "        text-align: right;\n",
       "    }\n",
       "</style>\n",
       "<table border=\"1\" class=\"dataframe\">\n",
       "  <thead>\n",
       "    <tr style=\"text-align: right;\">\n",
       "      <th></th>\n",
       "      <th>Country</th>\n",
       "      <th>index</th>\n",
       "      <th>Population</th>\n",
       "      <th>Density</th>\n",
       "      <th>date</th>\n",
       "      <th>total_cases</th>\n",
       "      <th>extreme_poverty</th>\n",
       "      <th>human_development_index</th>\n",
       "      <th>hospital_beds_per_thousand</th>\n",
       "      <th>continent</th>\n",
       "      <th>...</th>\n",
       "      <th>Climate</th>\n",
       "      <th>Tourism</th>\n",
       "      <th>Date_FirstConfirmedCase</th>\n",
       "      <th>Latitude</th>\n",
       "      <th>Longtitude</th>\n",
       "      <th>Lockdown_Date</th>\n",
       "      <th>Lockdown_Type</th>\n",
       "      <th>GDP 2018</th>\n",
       "      <th>HF score 2017</th>\n",
       "      <th>literacy rate</th>\n",
       "    </tr>\n",
       "  </thead>\n",
       "  <tbody>\n",
       "  </tbody>\n",
       "</table>\n",
       "<p>0 rows × 29 columns</p>\n",
       "</div>"
      ],
      "text/plain": [
       "Empty DataFrame\n",
       "Columns: [Country, index, Population, Density, date, total_cases, extreme_poverty, human_development_index, hospital_beds_per_thousand, continent, reproduction_rate, total_deaths, stringency_index, median_age, aged_70_older, cardiovasc_death_rate, diabetes_prevalence, life_expectancy, mortality_rate, Climate, Tourism, Date_FirstConfirmedCase, Latitude, Longtitude, Lockdown_Date, Lockdown_Type, GDP 2018, HF score 2017, literacy rate]\n",
       "Index: []\n",
       "\n",
       "[0 rows x 29 columns]"
      ]
     },
     "execution_count": 43,
     "metadata": {},
     "output_type": "execute_result"
    }
   ],
   "source": [
    "countriesData.loc[countriesData['Country']=='Yemen']"
   ]
  },
  {
   "cell_type": "code",
   "execution_count": 44,
   "metadata": {},
   "outputs": [
    {
     "data": {
      "text/plain": [
       "(array([33., 64., 39., 17., 11.,  3.,  1.,  2.,  0.,  1.]),\n",
       " array([0.00049734, 0.00950713, 0.01851692, 0.02752671, 0.0365365 ,\n",
       "        0.0455463 , 0.05455609, 0.06356588, 0.07257567, 0.08158546,\n",
       "        0.09059525]),\n",
       " <BarContainer object of 10 artists>)"
      ]
     },
     "execution_count": 44,
     "metadata": {},
     "output_type": "execute_result"
    },
    {
     "data": {
      "image/png": "[encoded data removed]",
      "text/plain": [
       "<Figure size 432x288 with 1 Axes>"
      ]
     },
     "metadata": {
      "needs_background": "light"
     },
     "output_type": "display_data"
    }
   ],
   "source": [
    "plt.hist(countriesData['mortality_rate'])"
   ]
  },
  {
   "cell_type": "code",
   "execution_count": 45,
   "metadata": {},
   "outputs": [
    {
     "data": {
      "text/plain": [
       "count    171.000000\n",
       "mean       0.019771\n",
       "std        0.013489\n",
       "min        0.000497\n",
       "25%        0.010832\n",
       "50%        0.017116\n",
       "75%        0.025895\n",
       "max        0.090595\n",
       "Name: mortality_rate, dtype: float64"
      ]
     },
     "execution_count": 45,
     "metadata": {},
     "output_type": "execute_result"
    }
   ],
   "source": [
    "countriesData['mortality_rate'].describe()"
   ]
  },
  {
   "cell_type": "code",
   "execution_count": 46,
   "metadata": {},
   "outputs": [],
   "source": [
    "#Filter to only take stable countries\n",
    "countriesData = countriesData.loc[countriesData['total_cases']>=0.05*countriesData['Population']]"
   ]
  },
  {
   "cell_type": "code",
   "execution_count": 47,
   "metadata": {},
   "outputs": [],
   "source": [
    "#Filter to only take countries with high freedom index\n",
    "countriesData = countriesData.loc[countriesData['HF score 2017']>6.5]"
   ]
  },
  {
   "cell_type": "code",
   "execution_count": 48,
   "metadata": {},
   "outputs": [],
   "source": [
    "#Filter to only take countries with high developement\n",
    "countriesData = countriesData.loc[countriesData['human_development_index']>0.8]"
   ]
  },
  {
   "cell_type": "code",
   "execution_count": 53,
   "metadata": {},
   "outputs": [],
   "source": [
    "countriesData.to_csv('mortality.csv',index=False)"
   ]
  },
  {
   "cell_type": "code",
   "execution_count": 51,
   "metadata": {},
   "outputs": [
    {
     "data": {
      "text/plain": [
       "Country                                   Estonia\n",
       "index                                          50\n",
       "Population                                1326693\n",
       "Density                                        31\n",
       "date                          2021-03-29 00:00:00\n",
       "total_cases                              104214.0\n",
       "extreme_poverty                               0.5\n",
       "human_development_index                     0.892\n",
       "hospital_beds_per_thousand                   4.69\n",
       "continent                                  Europe\n",
       "reproduction_rate                            0.83\n",
       "total_deaths                                879.0\n",
       "stringency_index                            61.11\n",
       "median_age                                   42.7\n",
       "aged_70_older                              13.491\n",
       "cardiovasc_death_rate                     255.569\n",
       "diabetes_prevalence                          4.02\n",
       "life_expectancy                             78.74\n",
       "mortality_rate                           0.008435\n",
       "Climate                                       3.0\n",
       "Tourism                                 3234000.0\n",
       "Date_FirstConfirmedCase       2020-02-28 00:00:00\n",
       "Latitude                                58.595272\n",
       "Longtitude                              25.013607\n",
       "Lockdown_Date                 2020-03-13 00:00:00\n",
       "Lockdown_Type                                Full\n",
       "GDP 2018                              35973.77646\n",
       "HF score 2017                                8.46\n",
       "literacy rate                                99.8\n",
       "Name: 50, dtype: object"
      ]
     },
     "execution_count": 51,
     "metadata": {},
     "output_type": "execute_result"
    }
   ],
   "source": [
    "countriesData.iloc[6]#6 1"
   ]
  },
  {
   "cell_type": "code",
   "execution_count": 52,
   "metadata": {},
   "outputs": [
    {
     "data": {
      "text/plain": [
       "<AxesSubplot:>"
      ]
     },
     "execution_count": 52,
     "metadata": {},
     "output_type": "execute_result"
    },
    {
     "data": {
      "image/png": "[encoded data removed]",
      "text/plain": [
       "<Figure size 432x288 with 1 Axes>"
      ]
     },
     "metadata": {
      "needs_background": "light"
     },
     "output_type": "display_data"
    }
   ],
   "source": [
    "countriesData['mortality_rate'].hist()"
   ]
  },
  {
   "cell_type": "code",
   "execution_count": 50,
   "metadata": {},
   "outputs": [
    {
     "name": "stdout",
     "output_type": "stream",
     "text": [
      "<class 'pandas.core.frame.DataFrame'>\n",
      "Int64Index: 28 entries, 6 to 165\n",
      "Data columns (total 29 columns):\n",
      " #   Column                      Non-Null Count  Dtype         \n",
      "---  ------                      --------------  -----         \n",
      " 0   Country                     28 non-null     object        \n",
      " 1   index                       28 non-null     int64         \n",
      " 2   Population                  28 non-null     int64         \n",
      " 3   Density                     28 non-null     int64         \n",
      " 4   date                        28 non-null     datetime64[ns]\n",
      " 5   total_cases                 28 non-null     float64       \n",
      " 6   extreme_poverty             21 non-null     float64       \n",
      " 7   human_development_index     28 non-null     float64       \n",
      " 8   hospital_beds_per_thousand  28 non-null     float64       \n",
      " 9   continent                   28 non-null     object        \n",
      " 10  reproduction_rate           28 non-null     float64       \n",
      " 11  total_deaths                28 non-null     float64       \n",
      " 12  stringency_index            24 non-null     float64       \n",
      " 13  median_age                  28 non-null     float64       \n",
      " 14  aged_70_older               27 non-null     float64       \n",
      " 15  cardiovasc_death_rate       28 non-null     float64       \n",
      " 16  diabetes_prevalence         28 non-null     float64       \n",
      " 17  life_expectancy             28 non-null     float64       \n",
      " 18  mortality_rate              28 non-null     float64       \n",
      " 19  Climate                     25 non-null     float64       \n",
      " 20  Tourism                     28 non-null     float64       \n",
      " 21  Date_FirstConfirmedCase     28 non-null     datetime64[ns]\n",
      " 22  Latitude                    28 non-null     float64       \n",
      " 23  Longtitude                  28 non-null     float64       \n",
      " 24  Lockdown_Date               27 non-null     datetime64[ns]\n",
      " 25  Lockdown_Type               27 non-null     object        \n",
      " 26  GDP 2018                    28 non-null     float64       \n",
      " 27  HF score 2017               28 non-null     float64       \n",
      " 28  literacy rate               18 non-null     object        \n",
      "dtypes: datetime64[ns](3), float64(19), int64(3), object(4)\n",
      "memory usage: 6.6+ KB\n"
     ]
    }
   ],
   "source": [
    "countriesData.info()"
   ]
  },
  {
   "cell_type": "code",
   "execution_count": null,
   "metadata": {},
   "outputs": [],
   "source": []
  }
 ],
 "metadata": {
  "kernelspec": {
   "display_name": "Python 3 (ipykernel)",
   "language": "python",
   "name": "python3"
  },
  "language_info": {
   "codemirror_mode": {
    "name": "ipython",
    "version": 3
   },
   "file_extension": ".py",
   "mimetype": "text/x-python",
   "name": "python",
   "nbconvert_exporter": "python",
   "pygments_lexer": "ipython3",
   "version": "3.8.3"
  }
 },
 "nbformat": 4,
 "nbformat_minor": 4
}
