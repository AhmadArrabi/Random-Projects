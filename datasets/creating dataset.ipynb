{
 "cells": [
  {
   "cell_type": "code",
   "execution_count": 413,
   "metadata": {},
   "outputs": [],
   "source": [
    "#!jt -l"
   ]
  },
  {
   "cell_type": "code",
   "execution_count": 414,
   "metadata": {},
   "outputs": [],
   "source": [
    "#!jt -t grade3 -f roboto -fs 12 -cellw 100% -dfs 10 -ofs 10"
   ]
  },
  {
   "cell_type": "markdown",
   "metadata": {},
   "source": [
    "# ML Project: Creating the Dataset"
   ]
  },
  {
   "cell_type": "markdown",
   "metadata": {},
   "source": [
    "*Note: All datasets were updated in June 2021.*\n",
    "\n",
    "*At first, when updating, noticeable changes occurred. Instance count jumped from 50 to 60 to 75 within two weeks. Then, after about a month (early November), changes were insignificant and the number of countries reached its steady state with about 80 countries.*"
   ]
  },
  {
   "cell_type": "markdown",
   "metadata": {},
   "source": [
    "We'll join multiple datasets on a common feature. The common feature is 'Country'"
   ]
  },
  {
   "cell_type": "code",
   "execution_count": 415,
   "metadata": {},
   "outputs": [],
   "source": [
    "import pandas as pd\n",
    "import matplotlib.pyplot as plt "
   ]
  },
  {
   "cell_type": "code",
   "execution_count": 416,
   "metadata": {},
   "outputs": [],
   "source": [
    "cases_data=pd.read_csv(\"../COVID dataset/latest_try.csv\")\n",
    "population_data=pd.read_csv(\"../COVID dataset/population.csv\")\n",
    "countries_data=pd.read_csv(\"../COVID dataset/countries of the world.csv\")\n",
    "usefulfeatures_data=pd.read_csv(\"../COVID dataset/countries useful features.csv\")\n",
    "GDP_data=pd.read_csv(\"../COVID dataset/GDP.csv\")\n",
    "HF_data=pd.read_csv(\"../COVID dataset/hf score.csv\")\n",
    "literacy1_data=pd.read_csv(\"../COVID dataset/literacy rate 1.csv\")"
   ]
  },
  {
   "cell_type": "code",
   "execution_count": 417,
   "metadata": {},
   "outputs": [],
   "source": [
    "#cases_data.info()"
   ]
  },
  {
   "cell_type": "markdown",
   "metadata": {},
   "source": [
    "Select the desired feature from the datasets then join them. We chose population and density.\n",
    "\n",
    "Make sure that the column 'Country' is written identicaly "
   ]
  },
  {
   "cell_type": "code",
   "execution_count": 418,
   "metadata": {},
   "outputs": [],
   "source": [
    "#population_data.info()"
   ]
  },
  {
   "cell_type": "code",
   "execution_count": 419,
   "metadata": {},
   "outputs": [],
   "source": [
    "population_data=population_data.rename(columns={'Country (or dependency)':'Country','Density (P/Km²)':'Density','Population (2020)':'Population'})\n",
    "\n",
    "population_data=population_data.filter(items=['Country','Population','Density'])\n",
    "\n",
    "cases_data=cases_data.rename(columns={'location':'Country'})\n",
    "\n",
    "cases_data=cases_data.filter(items=['date','Country','total_cases','total_tests','tests_per_case','extreme_poverty','human_development_index','hospital_beds_per_thousand','handwashing_facilities','continent','reproduction_rate','total_deaths','positive_rate'])\n",
    "\n",
    "result=population_data.join(cases_data.set_index('Country'), on='Country')"
   ]
  },
  {
   "cell_type": "markdown",
   "metadata": {},
   "source": [
    "Change 'date' from object to datetime. datetime allows us to apply helpful operations of our date features"
   ]
  },
  {
   "cell_type": "code",
   "execution_count": 420,
   "metadata": {},
   "outputs": [],
   "source": [
    "result['date'] = result['date'].apply(pd.to_datetime)"
   ]
  },
  {
   "cell_type": "markdown",
   "metadata": {},
   "source": [
    "Only select countries where cases reached at least 1% of its population. \n",
    "\n",
    "Apply minimum function. Now the date when cases reached 1% is selected."
   ]
  },
  {
   "cell_type": "code",
   "execution_count": 421,
   "metadata": {},
   "outputs": [],
   "source": [
    "#result.info()"
   ]
  },
  {
   "cell_type": "code",
   "execution_count": 422,
   "metadata": {},
   "outputs": [],
   "source": [
    "#mortality_rate=result.loc[result['date']==\"2021-02-08\"]['total_deaths']/result.loc[result['date']==\"2021-02-08\"]['total_cases']"
   ]
  },
  {
   "cell_type": "code",
   "execution_count": 423,
   "metadata": {},
   "outputs": [],
   "source": [
    "#result['mortality_rate']=mortality_rate\n",
    "#result['reproduction_rate_mortality'] = result.loc[result['date']==\"2021-01-22\"]['reproduction_rate']\n",
    "#result['total_deaths_mortality'] = result.loc[result['date']==\"2021-02-05\"]['total_deaths']"
   ]
  },
  {
   "cell_type": "code",
   "execution_count": 424,
   "metadata": {},
   "outputs": [],
   "source": [
    "#result[['Country','mortality_rate']]"
   ]
  },
  {
   "cell_type": "code",
   "execution_count": 425,
   "metadata": {},
   "outputs": [
    {
     "name": "stderr",
     "output_type": "stream",
     "text": [
      "C:\\Users\\ahmad\\AppData\\Local\\Temp/ipykernel_11016/921691462.py:6: FutureWarning: Using the level keyword in DataFrame and Series aggregations is deprecated and will be removed in a future version. Use groupby instead. df.median(level=1) should use df.groupby(level=1).median().\n",
      "  result2=result2.min(axis=0,level='Country')\n"
     ]
    }
   ],
   "source": [
    "PERCENTGE = 0.10 #change depedning on the desired %\n",
    "result2=result.loc[result['total_cases']>=PERCENTGE*result['Population']]\n",
    "\n",
    "result2=result2.set_index('Country')\n",
    "\n",
    "result2=result2.min(axis=0,level='Country')"
   ]
  },
  {
   "cell_type": "code",
   "execution_count": 426,
   "metadata": {},
   "outputs": [
    {
     "data": {
      "text/plain": [
       "98"
      ]
     },
     "execution_count": 426,
     "metadata": {},
     "output_type": "execute_result"
    }
   ],
   "source": [
    "result2.reset_index().Country.nunique()"
   ]
  },
  {
   "cell_type": "code",
   "execution_count": 427,
   "metadata": {},
   "outputs": [],
   "source": [
    "result2['mortality_rate'] = result2['total_deaths']/result2['total_cases']"
   ]
  },
  {
   "cell_type": "code",
   "execution_count": 428,
   "metadata": {},
   "outputs": [],
   "source": [
    "#result2.info()"
   ]
  },
  {
   "cell_type": "markdown",
   "metadata": {},
   "source": [
    "Join with the next dataset (countries_data). We'll select 'Climate' from this dataset.\n",
    "\n",
    "Note: We applied str.strip() to remove spaces from the begining and end of the country column. This dataset (countries of the world) has a space at the begining of each country. To correctly join them the 'Country' column has to be identical. "
   ]
  },
  {
   "cell_type": "code",
   "execution_count": 429,
   "metadata": {},
   "outputs": [],
   "source": [
    "#countries_data.info()"
   ]
  },
  {
   "cell_type": "code",
   "execution_count": 430,
   "metadata": {},
   "outputs": [],
   "source": [
    "result2=result2.reset_index()\n",
    "\n",
    "countries_data=countries_data.filter(items=['Country','Region','Climate'])\n",
    "countries_data['Country']=countries_data['Country'].str.strip()"
   ]
  },
  {
   "cell_type": "markdown",
   "metadata": {},
   "source": [
    "We noticed that we don't need the feature 'Region' as we'll be using 'continent' from another dataset.\n",
    "\n",
    "Drop features with NULL climate."
   ]
  },
  {
   "cell_type": "code",
   "execution_count": 431,
   "metadata": {
    "scrolled": true
   },
   "outputs": [],
   "source": [
    "countries_data=countries_data.dropna(subset=[\"Climate\"])\n",
    "countries_data=countries_data.reset_index(drop=True)\n",
    "\n",
    "countries_data.drop('Region',axis='columns', inplace=True)\n",
    "\n",
    "countriesData=result2.set_index('Country').join(countries_data.set_index('Country'))"
   ]
  },
  {
   "cell_type": "markdown",
   "metadata": {},
   "source": [
    "Join with the next dataset (useful features data). \n",
    "\n",
    "We'll select Tourism, Date of first case, Latitude, Longitude, Lockdown date, and Lockdown type."
   ]
  },
  {
   "cell_type": "code",
   "execution_count": 432,
   "metadata": {},
   "outputs": [],
   "source": [
    "#usefulfeatures_data.info()"
   ]
  },
  {
   "cell_type": "code",
   "execution_count": 433,
   "metadata": {},
   "outputs": [
    {
     "name": "stdout",
     "output_type": "stream",
     "text": [
      "<class 'pandas.core.frame.DataFrame'>\n",
      "RangeIndex: 184 entries, 0 to 183\n",
      "Data columns (total 7 columns):\n",
      " #   Column                   Non-Null Count  Dtype  \n",
      "---  ------                   --------------  -----  \n",
      " 0   Country_Region           184 non-null    object \n",
      " 1   Tourism                  184 non-null    int64  \n",
      " 2   Date_FirstConfirmedCase  184 non-null    object \n",
      " 3   Latitude                 184 non-null    float64\n",
      " 4   Longtitude               184 non-null    float64\n",
      " 5   Lockdown_Date            151 non-null    object \n",
      " 6   Lockdown_Type            151 non-null    object \n",
      "dtypes: float64(2), int64(1), object(4)\n",
      "memory usage: 10.2+ KB\n"
     ]
    }
   ],
   "source": [
    "countriesData=countriesData.reset_index()\n",
    "\n",
    "usefulfeatures_data=usefulfeatures_data.filter(items=['Country_Region','Tourism','Date_FirstConfirmedCase','Latitude','Longtitude','Lockdown_Date','Lockdown_Type'])\n",
    "usefulfeatures_data.info()"
   ]
  },
  {
   "cell_type": "markdown",
   "metadata": {},
   "source": [
    "Change date from object to datetime"
   ]
  },
  {
   "cell_type": "code",
   "execution_count": 434,
   "metadata": {},
   "outputs": [],
   "source": [
    "usefulfeatures_data=usefulfeatures_data.rename(columns={'Country_Region':'Country'})\n",
    "\n",
    "usefulfeatures_data['Lockdown_Date']=usefulfeatures_data['Lockdown_Date'].apply(pd.to_datetime)\n",
    "usefulfeatures_data['Date_FirstConfirmedCase']=usefulfeatures_data['Date_FirstConfirmedCase'].apply(pd.to_datetime)\n",
    "\n",
    "countriesData=countriesData.set_index('Country').join(usefulfeatures_data.set_index('Country'))"
   ]
  },
  {
   "cell_type": "markdown",
   "metadata": {},
   "source": [
    "Rename the date column. Drop total cases, we don't need it."
   ]
  },
  {
   "cell_type": "code",
   "execution_count": 435,
   "metadata": {},
   "outputs": [],
   "source": [
    "countriesData=countriesData.reset_index()\n",
    "\n",
    "countriesData=countriesData.rename(columns={'date':'Date to reach 1%'})\n",
    "\n",
    "#countriesData=countriesData.drop(['total_cases'], axis=1)"
   ]
  },
  {
   "cell_type": "markdown",
   "metadata": {},
   "source": [
    "Join the next dataset (GDP). We'll use the feature GDP from this dataset."
   ]
  },
  {
   "cell_type": "code",
   "execution_count": 436,
   "metadata": {},
   "outputs": [],
   "source": [
    "#GDP_data.info()"
   ]
  },
  {
   "cell_type": "code",
   "execution_count": 437,
   "metadata": {},
   "outputs": [],
   "source": [
    "GDP_data=GDP_data.filter(items=['Country ','2017','2018'])\n",
    "\n",
    "GDP_data=GDP_data.rename(columns={'Country ':'Country'})"
   ]
  },
  {
   "cell_type": "markdown",
   "metadata": {},
   "source": [
    "From the GDP dataset, we'll be using values collected from 2018. Some 2018 values are null so fill them with older 2017 GDP values.\n",
    "\n",
    "Then, drop 2017 GDP column as we don't need it anymore"
   ]
  },
  {
   "cell_type": "code",
   "execution_count": 438,
   "metadata": {},
   "outputs": [],
   "source": [
    "GDP_data['2018']=GDP_data['2018'].fillna(GDP_data['2017'])\n",
    "\n",
    "GDP_data=GDP_data.drop(['2017'], axis=1)\n",
    "\n",
    "GDP_data=GDP_data.rename(columns={'2018':'GDP 2018'})\n",
    "\n",
    "countriesData=countriesData.set_index('Country').join(GDP_data.set_index('Country'))"
   ]
  },
  {
   "cell_type": "markdown",
   "metadata": {},
   "source": [
    "Join the next dataset (HF data). We'll select the human freedom score from this dataset."
   ]
  },
  {
   "cell_type": "code",
   "execution_count": 439,
   "metadata": {},
   "outputs": [
    {
     "name": "stdout",
     "output_type": "stream",
     "text": [
      "<class 'pandas.core.frame.DataFrame'>\n",
      "RangeIndex: 162 entries, 0 to 161\n",
      "Columns: 120 entries, year to ef_rank\n",
      "dtypes: float64(43), int64(13), object(64)\n",
      "memory usage: 152.0+ KB\n"
     ]
    }
   ],
   "source": [
    "HF_data.info()"
   ]
  },
  {
   "cell_type": "code",
   "execution_count": 440,
   "metadata": {},
   "outputs": [],
   "source": [
    "HF_data=HF_data.filter(items=['countries','hf_score'])\n",
    "\n",
    "HF_data=HF_data.rename(columns={'countries':'Country','hf_score':'HF score 2017'})\n",
    "\n",
    "countriesData=countriesData.reset_index()\n",
    "\n",
    "countriesData=countriesData.set_index('Country').join(HF_data.set_index('Country'))"
   ]
  },
  {
   "cell_type": "code",
   "execution_count": 441,
   "metadata": {},
   "outputs": [],
   "source": [
    "countriesData=countriesData.reset_index()\n",
    "countriesData=countriesData.reset_index()"
   ]
  },
  {
   "cell_type": "markdown",
   "metadata": {},
   "source": [
    "Join the next dataset (literacy data). We selected the average literacy rate."
   ]
  },
  {
   "cell_type": "code",
   "execution_count": 442,
   "metadata": {},
   "outputs": [
    {
     "name": "stdout",
     "output_type": "stream",
     "text": [
      "<class 'pandas.core.frame.DataFrame'>\n",
      "RangeIndex: 150 entries, 0 to 149\n",
      "Data columns (total 9 columns):\n",
      " #   Column                           Non-Null Count  Dtype  \n",
      "---  ------                           --------------  -----  \n",
      " 0   country                          150 non-null    object \n",
      " 1    literacy_rate_percent_all       150 non-null    object \n",
      " 2    male_literacy_percent_rate      150 non-null    float64\n",
      " 3    female_literacy_percent_rate    150 non-null    float64\n",
      " 4    gender_difference_percentWorld  150 non-null    float64\n",
      " 5   86.3                             1 non-null      float64\n",
      " 6   90.0                             0 non-null      float64\n",
      " 7   82.7                             0 non-null      float64\n",
      " 8   7.3\t                             0 non-null      float64\n",
      "dtypes: float64(7), object(2)\n",
      "memory usage: 10.7+ KB\n"
     ]
    }
   ],
   "source": [
    "literacy1_data.info()"
   ]
  },
  {
   "cell_type": "code",
   "execution_count": 443,
   "metadata": {},
   "outputs": [],
   "source": [
    "literacy1_data=literacy1_data.filter(items=['country',' literacy_rate_percent_all'])\n",
    "\n",
    "literacy1_data=literacy1_data.rename(columns={'country':'Country',' literacy_rate_percent_all':'literacy rate'})\n",
    "\n",
    "countriesData=countriesData.set_index('Country').join(literacy1_data.set_index('Country'), on='Country')\n",
    "\n",
    "countriesData=countriesData.reset_index()"
   ]
  },
  {
   "cell_type": "markdown",
   "metadata": {},
   "source": [
    "We now have our dataset ready! \n",
    "\n",
    "Save it in the project repository."
   ]
  },
  {
   "cell_type": "code",
   "execution_count": 444,
   "metadata": {},
   "outputs": [
    {
     "data": {
      "text/plain": [
       "98"
      ]
     },
     "execution_count": 444,
     "metadata": {},
     "output_type": "execute_result"
    }
   ],
   "source": [
    "len(countriesData)"
   ]
  },
  {
   "cell_type": "code",
   "execution_count": 445,
   "metadata": {},
   "outputs": [],
   "source": [
    "countriesData.to_csv('10%_try.csv',index=False)"
   ]
  },
  {
   "cell_type": "code",
   "execution_count": 446,
   "metadata": {},
   "outputs": [
    {
     "data": {
      "text/html": [
       "<div>\n",
       "<style scoped>\n",
       "    .dataframe tbody tr th:only-of-type {\n",
       "        vertical-align: middle;\n",
       "    }\n",
       "\n",
       "    .dataframe tbody tr th {\n",
       "        vertical-align: top;\n",
       "    }\n",
       "\n",
       "    .dataframe thead th {\n",
       "        text-align: right;\n",
       "    }\n",
       "</style>\n",
       "<table border=\"1\" class=\"dataframe\">\n",
       "  <thead>\n",
       "    <tr style=\"text-align: right;\">\n",
       "      <th></th>\n",
       "      <th>Country</th>\n",
       "      <th>index</th>\n",
       "      <th>Population</th>\n",
       "      <th>Density</th>\n",
       "      <th>Date to reach 1%</th>\n",
       "      <th>total_cases</th>\n",
       "      <th>total_tests</th>\n",
       "      <th>tests_per_case</th>\n",
       "      <th>extreme_poverty</th>\n",
       "      <th>human_development_index</th>\n",
       "      <th>...</th>\n",
       "      <th>Climate</th>\n",
       "      <th>Tourism</th>\n",
       "      <th>Date_FirstConfirmedCase</th>\n",
       "      <th>Latitude</th>\n",
       "      <th>Longtitude</th>\n",
       "      <th>Lockdown_Date</th>\n",
       "      <th>Lockdown_Type</th>\n",
       "      <th>GDP 2018</th>\n",
       "      <th>HF score 2017</th>\n",
       "      <th>literacy rate</th>\n",
       "    </tr>\n",
       "  </thead>\n",
       "  <tbody>\n",
       "  </tbody>\n",
       "</table>\n",
       "<p>0 rows × 27 columns</p>\n",
       "</div>"
      ],
      "text/plain": [
       "Empty DataFrame\n",
       "Columns: [Country, index, Population, Density, Date to reach 1%, total_cases, total_tests, tests_per_case, extreme_poverty, human_development_index, hospital_beds_per_thousand, handwashing_facilities, continent, reproduction_rate, total_deaths, positive_rate, mortality_rate, Climate, Tourism, Date_FirstConfirmedCase, Latitude, Longtitude, Lockdown_Date, Lockdown_Type, GDP 2018, HF score 2017, literacy rate]\n",
       "Index: []\n",
       "\n",
       "[0 rows x 27 columns]"
      ]
     },
     "execution_count": 446,
     "metadata": {},
     "output_type": "execute_result"
    }
   ],
   "source": [
    "countriesData.loc[countriesData['Country']=='Libya']"
   ]
  },
  {
   "cell_type": "code",
   "execution_count": 447,
   "metadata": {},
   "outputs": [
    {
     "data": {
      "text/plain": [
       "(array([29., 24., 20., 14.,  5.,  2.,  2.,  0.,  0.,  1.]),\n",
       " array([0.00031249, 0.00651953, 0.01272658, 0.01893362, 0.02514067,\n",
       "        0.03134771, 0.03755476, 0.0437618 , 0.04996885, 0.0561759 ,\n",
       "        0.06238294]),\n",
       " <BarContainer object of 10 artists>)"
      ]
     },
     "execution_count": 447,
     "metadata": {},
     "output_type": "execute_result"
    },
    {
     "data": {
      "image/png": "[encoded data removed]",
      "text/plain": [
       "<Figure size 432x288 with 1 Axes>"
      ]
     },
     "metadata": {
      "needs_background": "light"
     },
     "output_type": "display_data"
    }
   ],
   "source": [
    "plt.hist(countriesData['mortality_rate'])"
   ]
  },
  {
   "cell_type": "code",
   "execution_count": null,
   "metadata": {},
   "outputs": [],
   "source": []
  }
 ],
 "metadata": {
  "kernelspec": {
   "display_name": "Python 3 (ipykernel)",
   "language": "python",
   "name": "python3"
  },
  "language_info": {
   "codemirror_mode": {
    "name": "ipython",
    "version": 3
   },
   "file_extension": ".py",
   "mimetype": "text/x-python",
   "name": "python",
   "nbconvert_exporter": "python",
   "pygments_lexer": "ipython3",
   "version": "3.8.3"
  }
 },
 "nbformat": 4,
 "nbformat_minor": 4
}
